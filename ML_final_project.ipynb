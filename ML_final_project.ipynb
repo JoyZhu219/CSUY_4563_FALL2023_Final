{
  "cells": [
    {
      "cell_type": "markdown",
      "source": [
        "# Load data from Kaggle: the 30000 songs from Spotify\n",
        "process the data first to see if any missing values and remove them. Remove unncessary features manually before classifying. Get number of genres and create genre labels for each class for testing and training purpose."
      ],
      "metadata": {
        "id": "DFKCINqpGh_J"
      }
    },
    {
      "cell_type": "code",
      "source": [
        "import pandas as pd\n",
        "import numpy as np\n",
        "import matplotlib.pyplot as plt\n",
        "import seaborn as sns\n",
        "import torch\n",
        "import torchvision\n",
        "from sklearn.model_selection import train_test_split, GridSearchCV\n",
        "from sklearn.preprocessing import LabelEncoder\n",
        "from sklearn.metrics import accuracy_score, classification_report\n",
        "from sklearn.ensemble import RandomForestClassifier\n",
        "from sklearn.neighbors import KNeighborsClassifier\n",
        "from sklearn.linear_model import LogisticRegression\n",
        "import torch.nn.functional as F\n",
        "import torch.nn as nn\n",
        "import torch.nn.init as init\n",
        "\n",
        "%matplotlib inline"
      ],
      "metadata": {
        "id": "hn2NP5omGqJW"
      },
      "execution_count": 1,
      "outputs": []
    },
    {
      "cell_type": "code",
      "source": [
        "url = 'https://raw.githubusercontent.com/rfordatascience/tidytuesday/master/data/2020/2020-01-21/spotify_songs.csv'\n",
        "df_song = pd.read_csv(url)\n",
        "df_song.head() # get an overview of how data looks"
      ],
      "metadata": {
        "colab": {
          "base_uri": "https://localhost:8080/",
          "height": 551
        },
        "id": "fHvH9EBCGtAx",
        "outputId": "2e3ca53e-1187-4691-9c8b-8a4f06daaf99"
      },
      "execution_count": 2,
      "outputs": [
        {
          "output_type": "execute_result",
          "data": {
            "text/plain": [
              "                 track_id                                         track_name  \\\n",
              "0  6f807x0ima9a1j3VPbc7VN  I Don't Care (with Justin Bieber) - Loud Luxur...   \n",
              "1  0r7CVbZTWZgbTCYdfa2P31                    Memories - Dillon Francis Remix   \n",
              "2  1z1Hg7Vb0AhHDiEmnDE79l                    All the Time - Don Diablo Remix   \n",
              "3  75FpbthrwQmzHlBJLuGdC7                  Call You Mine - Keanu Silva Remix   \n",
              "4  1e8PAfcKUYoKkxPhrHqw4x            Someone You Loved - Future Humans Remix   \n",
              "\n",
              "       track_artist  track_popularity          track_album_id  \\\n",
              "0        Ed Sheeran                66  2oCs0DGTsRO98Gh5ZSl2Cx   \n",
              "1          Maroon 5                67  63rPSO264uRjW1X5E6cWv6   \n",
              "2      Zara Larsson                70  1HoSmj2eLcsrR0vE9gThr4   \n",
              "3  The Chainsmokers                60  1nqYsOef1yKKuGOVchbsk6   \n",
              "4     Lewis Capaldi                69  7m7vv9wlQ4i0LFuJiE2zsQ   \n",
              "\n",
              "                                    track_album_name track_album_release_date  \\\n",
              "0  I Don't Care (with Justin Bieber) [Loud Luxury...               2019-06-14   \n",
              "1                    Memories (Dillon Francis Remix)               2019-12-13   \n",
              "2                    All the Time (Don Diablo Remix)               2019-07-05   \n",
              "3                        Call You Mine - The Remixes               2019-07-19   \n",
              "4            Someone You Loved (Future Humans Remix)               2019-03-05   \n",
              "\n",
              "  playlist_name             playlist_id playlist_genre  ... key  loudness  \\\n",
              "0     Pop Remix  37i9dQZF1DXcZDD7cfEKhW            pop  ...   6    -2.634   \n",
              "1     Pop Remix  37i9dQZF1DXcZDD7cfEKhW            pop  ...  11    -4.969   \n",
              "2     Pop Remix  37i9dQZF1DXcZDD7cfEKhW            pop  ...   1    -3.432   \n",
              "3     Pop Remix  37i9dQZF1DXcZDD7cfEKhW            pop  ...   7    -3.778   \n",
              "4     Pop Remix  37i9dQZF1DXcZDD7cfEKhW            pop  ...   1    -4.672   \n",
              "\n",
              "   mode  speechiness  acousticness  instrumentalness  liveness  valence  \\\n",
              "0     1       0.0583        0.1020          0.000000    0.0653    0.518   \n",
              "1     1       0.0373        0.0724          0.004210    0.3570    0.693   \n",
              "2     0       0.0742        0.0794          0.000023    0.1100    0.613   \n",
              "3     1       0.1020        0.0287          0.000009    0.2040    0.277   \n",
              "4     1       0.0359        0.0803          0.000000    0.0833    0.725   \n",
              "\n",
              "     tempo  duration_ms  \n",
              "0  122.036       194754  \n",
              "1   99.972       162600  \n",
              "2  124.008       176616  \n",
              "3  121.956       169093  \n",
              "4  123.976       189052  \n",
              "\n",
              "[5 rows x 23 columns]"
            ],
            "text/html": [
              "\n",
              "  <div id=\"df-fb3470fa-dd11-464e-be77-ff225b305a9b\" class=\"colab-df-container\">\n",
              "    <div>\n",
              "<style scoped>\n",
              "    .dataframe tbody tr th:only-of-type {\n",
              "        vertical-align: middle;\n",
              "    }\n",
              "\n",
              "    .dataframe tbody tr th {\n",
              "        vertical-align: top;\n",
              "    }\n",
              "\n",
              "    .dataframe thead th {\n",
              "        text-align: right;\n",
              "    }\n",
              "</style>\n",
              "<table border=\"1\" class=\"dataframe\">\n",
              "  <thead>\n",
              "    <tr style=\"text-align: right;\">\n",
              "      <th></th>\n",
              "      <th>track_id</th>\n",
              "      <th>track_name</th>\n",
              "      <th>track_artist</th>\n",
              "      <th>track_popularity</th>\n",
              "      <th>track_album_id</th>\n",
              "      <th>track_album_name</th>\n",
              "      <th>track_album_release_date</th>\n",
              "      <th>playlist_name</th>\n",
              "      <th>playlist_id</th>\n",
              "      <th>playlist_genre</th>\n",
              "      <th>...</th>\n",
              "      <th>key</th>\n",
              "      <th>loudness</th>\n",
              "      <th>mode</th>\n",
              "      <th>speechiness</th>\n",
              "      <th>acousticness</th>\n",
              "      <th>instrumentalness</th>\n",
              "      <th>liveness</th>\n",
              "      <th>valence</th>\n",
              "      <th>tempo</th>\n",
              "      <th>duration_ms</th>\n",
              "    </tr>\n",
              "  </thead>\n",
              "  <tbody>\n",
              "    <tr>\n",
              "      <th>0</th>\n",
              "      <td>6f807x0ima9a1j3VPbc7VN</td>\n",
              "      <td>I Don't Care (with Justin Bieber) - Loud Luxur...</td>\n",
              "      <td>Ed Sheeran</td>\n",
              "      <td>66</td>\n",
              "      <td>2oCs0DGTsRO98Gh5ZSl2Cx</td>\n",
              "      <td>I Don't Care (with Justin Bieber) [Loud Luxury...</td>\n",
              "      <td>2019-06-14</td>\n",
              "      <td>Pop Remix</td>\n",
              "      <td>37i9dQZF1DXcZDD7cfEKhW</td>\n",
              "      <td>pop</td>\n",
              "      <td>...</td>\n",
              "      <td>6</td>\n",
              "      <td>-2.634</td>\n",
              "      <td>1</td>\n",
              "      <td>0.0583</td>\n",
              "      <td>0.1020</td>\n",
              "      <td>0.000000</td>\n",
              "      <td>0.0653</td>\n",
              "      <td>0.518</td>\n",
              "      <td>122.036</td>\n",
              "      <td>194754</td>\n",
              "    </tr>\n",
              "    <tr>\n",
              "      <th>1</th>\n",
              "      <td>0r7CVbZTWZgbTCYdfa2P31</td>\n",
              "      <td>Memories - Dillon Francis Remix</td>\n",
              "      <td>Maroon 5</td>\n",
              "      <td>67</td>\n",
              "      <td>63rPSO264uRjW1X5E6cWv6</td>\n",
              "      <td>Memories (Dillon Francis Remix)</td>\n",
              "      <td>2019-12-13</td>\n",
              "      <td>Pop Remix</td>\n",
              "      <td>37i9dQZF1DXcZDD7cfEKhW</td>\n",
              "      <td>pop</td>\n",
              "      <td>...</td>\n",
              "      <td>11</td>\n",
              "      <td>-4.969</td>\n",
              "      <td>1</td>\n",
              "      <td>0.0373</td>\n",
              "      <td>0.0724</td>\n",
              "      <td>0.004210</td>\n",
              "      <td>0.3570</td>\n",
              "      <td>0.693</td>\n",
              "      <td>99.972</td>\n",
              "      <td>162600</td>\n",
              "    </tr>\n",
              "    <tr>\n",
              "      <th>2</th>\n",
              "      <td>1z1Hg7Vb0AhHDiEmnDE79l</td>\n",
              "      <td>All the Time - Don Diablo Remix</td>\n",
              "      <td>Zara Larsson</td>\n",
              "      <td>70</td>\n",
              "      <td>1HoSmj2eLcsrR0vE9gThr4</td>\n",
              "      <td>All the Time (Don Diablo Remix)</td>\n",
              "      <td>2019-07-05</td>\n",
              "      <td>Pop Remix</td>\n",
              "      <td>37i9dQZF1DXcZDD7cfEKhW</td>\n",
              "      <td>pop</td>\n",
              "      <td>...</td>\n",
              "      <td>1</td>\n",
              "      <td>-3.432</td>\n",
              "      <td>0</td>\n",
              "      <td>0.0742</td>\n",
              "      <td>0.0794</td>\n",
              "      <td>0.000023</td>\n",
              "      <td>0.1100</td>\n",
              "      <td>0.613</td>\n",
              "      <td>124.008</td>\n",
              "      <td>176616</td>\n",
              "    </tr>\n",
              "    <tr>\n",
              "      <th>3</th>\n",
              "      <td>75FpbthrwQmzHlBJLuGdC7</td>\n",
              "      <td>Call You Mine - Keanu Silva Remix</td>\n",
              "      <td>The Chainsmokers</td>\n",
              "      <td>60</td>\n",
              "      <td>1nqYsOef1yKKuGOVchbsk6</td>\n",
              "      <td>Call You Mine - The Remixes</td>\n",
              "      <td>2019-07-19</td>\n",
              "      <td>Pop Remix</td>\n",
              "      <td>37i9dQZF1DXcZDD7cfEKhW</td>\n",
              "      <td>pop</td>\n",
              "      <td>...</td>\n",
              "      <td>7</td>\n",
              "      <td>-3.778</td>\n",
              "      <td>1</td>\n",
              "      <td>0.1020</td>\n",
              "      <td>0.0287</td>\n",
              "      <td>0.000009</td>\n",
              "      <td>0.2040</td>\n",
              "      <td>0.277</td>\n",
              "      <td>121.956</td>\n",
              "      <td>169093</td>\n",
              "    </tr>\n",
              "    <tr>\n",
              "      <th>4</th>\n",
              "      <td>1e8PAfcKUYoKkxPhrHqw4x</td>\n",
              "      <td>Someone You Loved - Future Humans Remix</td>\n",
              "      <td>Lewis Capaldi</td>\n",
              "      <td>69</td>\n",
              "      <td>7m7vv9wlQ4i0LFuJiE2zsQ</td>\n",
              "      <td>Someone You Loved (Future Humans Remix)</td>\n",
              "      <td>2019-03-05</td>\n",
              "      <td>Pop Remix</td>\n",
              "      <td>37i9dQZF1DXcZDD7cfEKhW</td>\n",
              "      <td>pop</td>\n",
              "      <td>...</td>\n",
              "      <td>1</td>\n",
              "      <td>-4.672</td>\n",
              "      <td>1</td>\n",
              "      <td>0.0359</td>\n",
              "      <td>0.0803</td>\n",
              "      <td>0.000000</td>\n",
              "      <td>0.0833</td>\n",
              "      <td>0.725</td>\n",
              "      <td>123.976</td>\n",
              "      <td>189052</td>\n",
              "    </tr>\n",
              "  </tbody>\n",
              "</table>\n",
              "<p>5 rows × 23 columns</p>\n",
              "</div>\n",
              "    <div class=\"colab-df-buttons\">\n",
              "\n",
              "  <div class=\"colab-df-container\">\n",
              "    <button class=\"colab-df-convert\" onclick=\"convertToInteractive('df-fb3470fa-dd11-464e-be77-ff225b305a9b')\"\n",
              "            title=\"Convert this dataframe to an interactive table.\"\n",
              "            style=\"display:none;\">\n",
              "\n",
              "  <svg xmlns=\"http://www.w3.org/2000/svg\" height=\"24px\" viewBox=\"0 -960 960 960\">\n",
              "    <path d=\"M120-120v-720h720v720H120Zm60-500h600v-160H180v160Zm220 220h160v-160H400v160Zm0 220h160v-160H400v160ZM180-400h160v-160H180v160Zm440 0h160v-160H620v160ZM180-180h160v-160H180v160Zm440 0h160v-160H620v160Z\"/>\n",
              "  </svg>\n",
              "    </button>\n",
              "\n",
              "  <style>\n",
              "    .colab-df-container {\n",
              "      display:flex;\n",
              "      gap: 12px;\n",
              "    }\n",
              "\n",
              "    .colab-df-convert {\n",
              "      background-color: #E8F0FE;\n",
              "      border: none;\n",
              "      border-radius: 50%;\n",
              "      cursor: pointer;\n",
              "      display: none;\n",
              "      fill: #1967D2;\n",
              "      height: 32px;\n",
              "      padding: 0 0 0 0;\n",
              "      width: 32px;\n",
              "    }\n",
              "\n",
              "    .colab-df-convert:hover {\n",
              "      background-color: #E2EBFA;\n",
              "      box-shadow: 0px 1px 2px rgba(60, 64, 67, 0.3), 0px 1px 3px 1px rgba(60, 64, 67, 0.15);\n",
              "      fill: #174EA6;\n",
              "    }\n",
              "\n",
              "    .colab-df-buttons div {\n",
              "      margin-bottom: 4px;\n",
              "    }\n",
              "\n",
              "    [theme=dark] .colab-df-convert {\n",
              "      background-color: #3B4455;\n",
              "      fill: #D2E3FC;\n",
              "    }\n",
              "\n",
              "    [theme=dark] .colab-df-convert:hover {\n",
              "      background-color: #434B5C;\n",
              "      box-shadow: 0px 1px 3px 1px rgba(0, 0, 0, 0.15);\n",
              "      filter: drop-shadow(0px 1px 2px rgba(0, 0, 0, 0.3));\n",
              "      fill: #FFFFFF;\n",
              "    }\n",
              "  </style>\n",
              "\n",
              "    <script>\n",
              "      const buttonEl =\n",
              "        document.querySelector('#df-fb3470fa-dd11-464e-be77-ff225b305a9b button.colab-df-convert');\n",
              "      buttonEl.style.display =\n",
              "        google.colab.kernel.accessAllowed ? 'block' : 'none';\n",
              "\n",
              "      async function convertToInteractive(key) {\n",
              "        const element = document.querySelector('#df-fb3470fa-dd11-464e-be77-ff225b305a9b');\n",
              "        const dataTable =\n",
              "          await google.colab.kernel.invokeFunction('convertToInteractive',\n",
              "                                                    [key], {});\n",
              "        if (!dataTable) return;\n",
              "\n",
              "        const docLinkHtml = 'Like what you see? Visit the ' +\n",
              "          '<a target=\"_blank\" href=https://colab.research.google.com/notebooks/data_table.ipynb>data table notebook</a>'\n",
              "          + ' to learn more about interactive tables.';\n",
              "        element.innerHTML = '';\n",
              "        dataTable['output_type'] = 'display_data';\n",
              "        await google.colab.output.renderOutput(dataTable, element);\n",
              "        const docLink = document.createElement('div');\n",
              "        docLink.innerHTML = docLinkHtml;\n",
              "        element.appendChild(docLink);\n",
              "      }\n",
              "    </script>\n",
              "  </div>\n",
              "\n",
              "\n",
              "<div id=\"df-7ed7af80-91fc-4cb5-a0d0-54e473361c2e\">\n",
              "  <button class=\"colab-df-quickchart\" onclick=\"quickchart('df-7ed7af80-91fc-4cb5-a0d0-54e473361c2e')\"\n",
              "            title=\"Suggest charts\"\n",
              "            style=\"display:none;\">\n",
              "\n",
              "<svg xmlns=\"http://www.w3.org/2000/svg\" height=\"24px\"viewBox=\"0 0 24 24\"\n",
              "     width=\"24px\">\n",
              "    <g>\n",
              "        <path d=\"M19 3H5c-1.1 0-2 .9-2 2v14c0 1.1.9 2 2 2h14c1.1 0 2-.9 2-2V5c0-1.1-.9-2-2-2zM9 17H7v-7h2v7zm4 0h-2V7h2v10zm4 0h-2v-4h2v4z\"/>\n",
              "    </g>\n",
              "</svg>\n",
              "  </button>\n",
              "\n",
              "<style>\n",
              "  .colab-df-quickchart {\n",
              "      --bg-color: #E8F0FE;\n",
              "      --fill-color: #1967D2;\n",
              "      --hover-bg-color: #E2EBFA;\n",
              "      --hover-fill-color: #174EA6;\n",
              "      --disabled-fill-color: #AAA;\n",
              "      --disabled-bg-color: #DDD;\n",
              "  }\n",
              "\n",
              "  [theme=dark] .colab-df-quickchart {\n",
              "      --bg-color: #3B4455;\n",
              "      --fill-color: #D2E3FC;\n",
              "      --hover-bg-color: #434B5C;\n",
              "      --hover-fill-color: #FFFFFF;\n",
              "      --disabled-bg-color: #3B4455;\n",
              "      --disabled-fill-color: #666;\n",
              "  }\n",
              "\n",
              "  .colab-df-quickchart {\n",
              "    background-color: var(--bg-color);\n",
              "    border: none;\n",
              "    border-radius: 50%;\n",
              "    cursor: pointer;\n",
              "    display: none;\n",
              "    fill: var(--fill-color);\n",
              "    height: 32px;\n",
              "    padding: 0;\n",
              "    width: 32px;\n",
              "  }\n",
              "\n",
              "  .colab-df-quickchart:hover {\n",
              "    background-color: var(--hover-bg-color);\n",
              "    box-shadow: 0 1px 2px rgba(60, 64, 67, 0.3), 0 1px 3px 1px rgba(60, 64, 67, 0.15);\n",
              "    fill: var(--button-hover-fill-color);\n",
              "  }\n",
              "\n",
              "  .colab-df-quickchart-complete:disabled,\n",
              "  .colab-df-quickchart-complete:disabled:hover {\n",
              "    background-color: var(--disabled-bg-color);\n",
              "    fill: var(--disabled-fill-color);\n",
              "    box-shadow: none;\n",
              "  }\n",
              "\n",
              "  .colab-df-spinner {\n",
              "    border: 2px solid var(--fill-color);\n",
              "    border-color: transparent;\n",
              "    border-bottom-color: var(--fill-color);\n",
              "    animation:\n",
              "      spin 1s steps(1) infinite;\n",
              "  }\n",
              "\n",
              "  @keyframes spin {\n",
              "    0% {\n",
              "      border-color: transparent;\n",
              "      border-bottom-color: var(--fill-color);\n",
              "      border-left-color: var(--fill-color);\n",
              "    }\n",
              "    20% {\n",
              "      border-color: transparent;\n",
              "      border-left-color: var(--fill-color);\n",
              "      border-top-color: var(--fill-color);\n",
              "    }\n",
              "    30% {\n",
              "      border-color: transparent;\n",
              "      border-left-color: var(--fill-color);\n",
              "      border-top-color: var(--fill-color);\n",
              "      border-right-color: var(--fill-color);\n",
              "    }\n",
              "    40% {\n",
              "      border-color: transparent;\n",
              "      border-right-color: var(--fill-color);\n",
              "      border-top-color: var(--fill-color);\n",
              "    }\n",
              "    60% {\n",
              "      border-color: transparent;\n",
              "      border-right-color: var(--fill-color);\n",
              "    }\n",
              "    80% {\n",
              "      border-color: transparent;\n",
              "      border-right-color: var(--fill-color);\n",
              "      border-bottom-color: var(--fill-color);\n",
              "    }\n",
              "    90% {\n",
              "      border-color: transparent;\n",
              "      border-bottom-color: var(--fill-color);\n",
              "    }\n",
              "  }\n",
              "</style>\n",
              "\n",
              "  <script>\n",
              "    async function quickchart(key) {\n",
              "      const quickchartButtonEl =\n",
              "        document.querySelector('#' + key + ' button');\n",
              "      quickchartButtonEl.disabled = true;  // To prevent multiple clicks.\n",
              "      quickchartButtonEl.classList.add('colab-df-spinner');\n",
              "      try {\n",
              "        const charts = await google.colab.kernel.invokeFunction(\n",
              "            'suggestCharts', [key], {});\n",
              "      } catch (error) {\n",
              "        console.error('Error during call to suggestCharts:', error);\n",
              "      }\n",
              "      quickchartButtonEl.classList.remove('colab-df-spinner');\n",
              "      quickchartButtonEl.classList.add('colab-df-quickchart-complete');\n",
              "    }\n",
              "    (() => {\n",
              "      let quickchartButtonEl =\n",
              "        document.querySelector('#df-7ed7af80-91fc-4cb5-a0d0-54e473361c2e button');\n",
              "      quickchartButtonEl.style.display =\n",
              "        google.colab.kernel.accessAllowed ? 'block' : 'none';\n",
              "    })();\n",
              "  </script>\n",
              "</div>\n",
              "    </div>\n",
              "  </div>\n"
            ]
          },
          "metadata": {},
          "execution_count": 2
        }
      ]
    },
    {
      "cell_type": "code",
      "source": [
        "df_song.info() # display types and names of features in the data"
      ],
      "metadata": {
        "colab": {
          "base_uri": "https://localhost:8080/"
        },
        "id": "Gsg_MxJaHMtD",
        "outputId": "ff09b547-a18e-4ee2-e0e6-f4a969ca36cc"
      },
      "execution_count": 3,
      "outputs": [
        {
          "output_type": "stream",
          "name": "stdout",
          "text": [
            "<class 'pandas.core.frame.DataFrame'>\n",
            "RangeIndex: 32833 entries, 0 to 32832\n",
            "Data columns (total 23 columns):\n",
            " #   Column                    Non-Null Count  Dtype  \n",
            "---  ------                    --------------  -----  \n",
            " 0   track_id                  32833 non-null  object \n",
            " 1   track_name                32828 non-null  object \n",
            " 2   track_artist              32828 non-null  object \n",
            " 3   track_popularity          32833 non-null  int64  \n",
            " 4   track_album_id            32833 non-null  object \n",
            " 5   track_album_name          32828 non-null  object \n",
            " 6   track_album_release_date  32833 non-null  object \n",
            " 7   playlist_name             32833 non-null  object \n",
            " 8   playlist_id               32833 non-null  object \n",
            " 9   playlist_genre            32833 non-null  object \n",
            " 10  playlist_subgenre         32833 non-null  object \n",
            " 11  danceability              32833 non-null  float64\n",
            " 12  energy                    32833 non-null  float64\n",
            " 13  key                       32833 non-null  int64  \n",
            " 14  loudness                  32833 non-null  float64\n",
            " 15  mode                      32833 non-null  int64  \n",
            " 16  speechiness               32833 non-null  float64\n",
            " 17  acousticness              32833 non-null  float64\n",
            " 18  instrumentalness          32833 non-null  float64\n",
            " 19  liveness                  32833 non-null  float64\n",
            " 20  valence                   32833 non-null  float64\n",
            " 21  tempo                     32833 non-null  float64\n",
            " 22  duration_ms               32833 non-null  int64  \n",
            "dtypes: float64(9), int64(4), object(10)\n",
            "memory usage: 5.8+ MB\n"
          ]
        }
      ]
    },
    {
      "cell_type": "code",
      "source": [
        "# change date from string to a datetime object\n",
        "df_song['track_album_release_date'] = pd.to_datetime(df_song['track_album_release_date'])"
      ],
      "metadata": {
        "id": "KDZb4l-oTKa5"
      },
      "execution_count": 4,
      "outputs": []
    },
    {
      "cell_type": "markdown",
      "source": [
        "# Feature Selection and manipulate data so that it is ready for testing and training"
      ],
      "metadata": {
        "id": "J09cYZ7gQbRx"
      }
    },
    {
      "cell_type": "code",
      "source": [
        "# Check for duplication of data in rows if any\n",
        "df_song.duplicated().sum()"
      ],
      "metadata": {
        "colab": {
          "base_uri": "https://localhost:8080/"
        },
        "id": "zkPkT3p4QyVu",
        "outputId": "11100f95-2c24-4577-fb00-94c39809aa8a"
      },
      "execution_count": 5,
      "outputs": [
        {
          "output_type": "execute_result",
          "data": {
            "text/plain": [
              "0"
            ]
          },
          "metadata": {},
          "execution_count": 5
        }
      ]
    },
    {
      "cell_type": "code",
      "source": [
        "# drop dubplication and only keep the first occurence\n",
        "df_song = df_song.drop_duplicates()"
      ],
      "metadata": {
        "id": "NQEcoT1JRIsP"
      },
      "execution_count": 6,
      "outputs": []
    },
    {
      "cell_type": "code",
      "source": [
        "# check completeness of data\n",
        "df_song.isnull().sum()"
      ],
      "metadata": {
        "colab": {
          "base_uri": "https://localhost:8080/"
        },
        "id": "h5XeZKp6NjXf",
        "outputId": "a317b58b-3ef5-40d5-f1ae-06fde23ff1ec"
      },
      "execution_count": 7,
      "outputs": [
        {
          "output_type": "execute_result",
          "data": {
            "text/plain": [
              "track_id                    0\n",
              "track_name                  5\n",
              "track_artist                5\n",
              "track_popularity            0\n",
              "track_album_id              0\n",
              "track_album_name            5\n",
              "track_album_release_date    0\n",
              "playlist_name               0\n",
              "playlist_id                 0\n",
              "playlist_genre              0\n",
              "playlist_subgenre           0\n",
              "danceability                0\n",
              "energy                      0\n",
              "key                         0\n",
              "loudness                    0\n",
              "mode                        0\n",
              "speechiness                 0\n",
              "acousticness                0\n",
              "instrumentalness            0\n",
              "liveness                    0\n",
              "valence                     0\n",
              "tempo                       0\n",
              "duration_ms                 0\n",
              "dtype: int64"
            ]
          },
          "metadata": {},
          "execution_count": 7
        }
      ]
    },
    {
      "cell_type": "code",
      "source": [
        "# check where the missing data locates\n",
        "df_song.loc[df_song.track_name.isnull()]\n",
        "# since other values are not null, we keep those rows in the data"
      ],
      "metadata": {
        "colab": {
          "base_uri": "https://localhost:8080/",
          "height": 273
        },
        "id": "mkhK8ZwkNk5b",
        "outputId": "9bfaf01c-d28e-4fd0-b53c-aefd16f0f1db"
      },
      "execution_count": 8,
      "outputs": [
        {
          "output_type": "execute_result",
          "data": {
            "text/plain": [
              "                     track_id track_name track_artist  track_popularity  \\\n",
              "8151   69gRFGOWY9OMpFJgFol1u0        NaN          NaN                 0   \n",
              "9282   5cjecvX0CmC9gK0Laf5EMQ        NaN          NaN                 0   \n",
              "9283   5TTzhRSWQS4Yu8xTgAuq6D        NaN          NaN                 0   \n",
              "19568  3VKFip3OdAvv4OfNTgFWeQ        NaN          NaN                 0   \n",
              "19811  69gRFGOWY9OMpFJgFol1u0        NaN          NaN                 0   \n",
              "\n",
              "               track_album_id track_album_name track_album_release_date  \\\n",
              "8151   717UG2du6utFe7CdmpuUe3              NaN               2012-01-05   \n",
              "9282   3luHJEPw434tvNbme3SP8M              NaN               2017-12-01   \n",
              "9283   3luHJEPw434tvNbme3SP8M              NaN               2017-12-01   \n",
              "19568  717UG2du6utFe7CdmpuUe3              NaN               2012-01-05   \n",
              "19811  717UG2du6utFe7CdmpuUe3              NaN               2012-01-05   \n",
              "\n",
              "            playlist_name             playlist_id playlist_genre  ... key  \\\n",
              "8151              HIP&HOP  5DyJsJZOpMJh34WvUrQzMV            rap  ...   6   \n",
              "9282          GANGSTA Rap  5GA8GDo7RQC3JEanT81B3g            rap  ...  11   \n",
              "9283          GANGSTA Rap  5GA8GDo7RQC3JEanT81B3g            rap  ...  10   \n",
              "19568  Reggaeton viejito🔥  0si5tw70PIgPkY1Eva6V8f          latin  ...  11   \n",
              "19811       latin hip hop  3nH8aytdqNeRbcRCg3dw9q          latin  ...   6   \n",
              "\n",
              "       loudness  mode  speechiness  acousticness  instrumentalness  liveness  \\\n",
              "8151     -7.635     1       0.1760        0.0410           0.00000    0.1160   \n",
              "9282     -5.364     0       0.3190        0.0534           0.00000    0.5530   \n",
              "9283     -5.907     0       0.3070        0.0963           0.00000    0.0888   \n",
              "19568    -6.075     0       0.0366        0.0606           0.00653    0.1030   \n",
              "19811    -7.635     1       0.1760        0.0410           0.00000    0.1160   \n",
              "\n",
              "       valence    tempo  duration_ms  \n",
              "8151     0.649   95.999       282707  \n",
              "9282     0.191  146.153       202235  \n",
              "9283     0.505   86.839       206465  \n",
              "19568    0.726   97.017       252773  \n",
              "19811    0.649   95.999       282707  \n",
              "\n",
              "[5 rows x 23 columns]"
            ],
            "text/html": [
              "\n",
              "  <div id=\"df-2d3ad853-30ae-40c2-bc77-9a1d41ee86ce\" class=\"colab-df-container\">\n",
              "    <div>\n",
              "<style scoped>\n",
              "    .dataframe tbody tr th:only-of-type {\n",
              "        vertical-align: middle;\n",
              "    }\n",
              "\n",
              "    .dataframe tbody tr th {\n",
              "        vertical-align: top;\n",
              "    }\n",
              "\n",
              "    .dataframe thead th {\n",
              "        text-align: right;\n",
              "    }\n",
              "</style>\n",
              "<table border=\"1\" class=\"dataframe\">\n",
              "  <thead>\n",
              "    <tr style=\"text-align: right;\">\n",
              "      <th></th>\n",
              "      <th>track_id</th>\n",
              "      <th>track_name</th>\n",
              "      <th>track_artist</th>\n",
              "      <th>track_popularity</th>\n",
              "      <th>track_album_id</th>\n",
              "      <th>track_album_name</th>\n",
              "      <th>track_album_release_date</th>\n",
              "      <th>playlist_name</th>\n",
              "      <th>playlist_id</th>\n",
              "      <th>playlist_genre</th>\n",
              "      <th>...</th>\n",
              "      <th>key</th>\n",
              "      <th>loudness</th>\n",
              "      <th>mode</th>\n",
              "      <th>speechiness</th>\n",
              "      <th>acousticness</th>\n",
              "      <th>instrumentalness</th>\n",
              "      <th>liveness</th>\n",
              "      <th>valence</th>\n",
              "      <th>tempo</th>\n",
              "      <th>duration_ms</th>\n",
              "    </tr>\n",
              "  </thead>\n",
              "  <tbody>\n",
              "    <tr>\n",
              "      <th>8151</th>\n",
              "      <td>69gRFGOWY9OMpFJgFol1u0</td>\n",
              "      <td>NaN</td>\n",
              "      <td>NaN</td>\n",
              "      <td>0</td>\n",
              "      <td>717UG2du6utFe7CdmpuUe3</td>\n",
              "      <td>NaN</td>\n",
              "      <td>2012-01-05</td>\n",
              "      <td>HIP&amp;HOP</td>\n",
              "      <td>5DyJsJZOpMJh34WvUrQzMV</td>\n",
              "      <td>rap</td>\n",
              "      <td>...</td>\n",
              "      <td>6</td>\n",
              "      <td>-7.635</td>\n",
              "      <td>1</td>\n",
              "      <td>0.1760</td>\n",
              "      <td>0.0410</td>\n",
              "      <td>0.00000</td>\n",
              "      <td>0.1160</td>\n",
              "      <td>0.649</td>\n",
              "      <td>95.999</td>\n",
              "      <td>282707</td>\n",
              "    </tr>\n",
              "    <tr>\n",
              "      <th>9282</th>\n",
              "      <td>5cjecvX0CmC9gK0Laf5EMQ</td>\n",
              "      <td>NaN</td>\n",
              "      <td>NaN</td>\n",
              "      <td>0</td>\n",
              "      <td>3luHJEPw434tvNbme3SP8M</td>\n",
              "      <td>NaN</td>\n",
              "      <td>2017-12-01</td>\n",
              "      <td>GANGSTA Rap</td>\n",
              "      <td>5GA8GDo7RQC3JEanT81B3g</td>\n",
              "      <td>rap</td>\n",
              "      <td>...</td>\n",
              "      <td>11</td>\n",
              "      <td>-5.364</td>\n",
              "      <td>0</td>\n",
              "      <td>0.3190</td>\n",
              "      <td>0.0534</td>\n",
              "      <td>0.00000</td>\n",
              "      <td>0.5530</td>\n",
              "      <td>0.191</td>\n",
              "      <td>146.153</td>\n",
              "      <td>202235</td>\n",
              "    </tr>\n",
              "    <tr>\n",
              "      <th>9283</th>\n",
              "      <td>5TTzhRSWQS4Yu8xTgAuq6D</td>\n",
              "      <td>NaN</td>\n",
              "      <td>NaN</td>\n",
              "      <td>0</td>\n",
              "      <td>3luHJEPw434tvNbme3SP8M</td>\n",
              "      <td>NaN</td>\n",
              "      <td>2017-12-01</td>\n",
              "      <td>GANGSTA Rap</td>\n",
              "      <td>5GA8GDo7RQC3JEanT81B3g</td>\n",
              "      <td>rap</td>\n",
              "      <td>...</td>\n",
              "      <td>10</td>\n",
              "      <td>-5.907</td>\n",
              "      <td>0</td>\n",
              "      <td>0.3070</td>\n",
              "      <td>0.0963</td>\n",
              "      <td>0.00000</td>\n",
              "      <td>0.0888</td>\n",
              "      <td>0.505</td>\n",
              "      <td>86.839</td>\n",
              "      <td>206465</td>\n",
              "    </tr>\n",
              "    <tr>\n",
              "      <th>19568</th>\n",
              "      <td>3VKFip3OdAvv4OfNTgFWeQ</td>\n",
              "      <td>NaN</td>\n",
              "      <td>NaN</td>\n",
              "      <td>0</td>\n",
              "      <td>717UG2du6utFe7CdmpuUe3</td>\n",
              "      <td>NaN</td>\n",
              "      <td>2012-01-05</td>\n",
              "      <td>Reggaeton viejito🔥</td>\n",
              "      <td>0si5tw70PIgPkY1Eva6V8f</td>\n",
              "      <td>latin</td>\n",
              "      <td>...</td>\n",
              "      <td>11</td>\n",
              "      <td>-6.075</td>\n",
              "      <td>0</td>\n",
              "      <td>0.0366</td>\n",
              "      <td>0.0606</td>\n",
              "      <td>0.00653</td>\n",
              "      <td>0.1030</td>\n",
              "      <td>0.726</td>\n",
              "      <td>97.017</td>\n",
              "      <td>252773</td>\n",
              "    </tr>\n",
              "    <tr>\n",
              "      <th>19811</th>\n",
              "      <td>69gRFGOWY9OMpFJgFol1u0</td>\n",
              "      <td>NaN</td>\n",
              "      <td>NaN</td>\n",
              "      <td>0</td>\n",
              "      <td>717UG2du6utFe7CdmpuUe3</td>\n",
              "      <td>NaN</td>\n",
              "      <td>2012-01-05</td>\n",
              "      <td>latin hip hop</td>\n",
              "      <td>3nH8aytdqNeRbcRCg3dw9q</td>\n",
              "      <td>latin</td>\n",
              "      <td>...</td>\n",
              "      <td>6</td>\n",
              "      <td>-7.635</td>\n",
              "      <td>1</td>\n",
              "      <td>0.1760</td>\n",
              "      <td>0.0410</td>\n",
              "      <td>0.00000</td>\n",
              "      <td>0.1160</td>\n",
              "      <td>0.649</td>\n",
              "      <td>95.999</td>\n",
              "      <td>282707</td>\n",
              "    </tr>\n",
              "  </tbody>\n",
              "</table>\n",
              "<p>5 rows × 23 columns</p>\n",
              "</div>\n",
              "    <div class=\"colab-df-buttons\">\n",
              "\n",
              "  <div class=\"colab-df-container\">\n",
              "    <button class=\"colab-df-convert\" onclick=\"convertToInteractive('df-2d3ad853-30ae-40c2-bc77-9a1d41ee86ce')\"\n",
              "            title=\"Convert this dataframe to an interactive table.\"\n",
              "            style=\"display:none;\">\n",
              "\n",
              "  <svg xmlns=\"http://www.w3.org/2000/svg\" height=\"24px\" viewBox=\"0 -960 960 960\">\n",
              "    <path d=\"M120-120v-720h720v720H120Zm60-500h600v-160H180v160Zm220 220h160v-160H400v160Zm0 220h160v-160H400v160ZM180-400h160v-160H180v160Zm440 0h160v-160H620v160ZM180-180h160v-160H180v160Zm440 0h160v-160H620v160Z\"/>\n",
              "  </svg>\n",
              "    </button>\n",
              "\n",
              "  <style>\n",
              "    .colab-df-container {\n",
              "      display:flex;\n",
              "      gap: 12px;\n",
              "    }\n",
              "\n",
              "    .colab-df-convert {\n",
              "      background-color: #E8F0FE;\n",
              "      border: none;\n",
              "      border-radius: 50%;\n",
              "      cursor: pointer;\n",
              "      display: none;\n",
              "      fill: #1967D2;\n",
              "      height: 32px;\n",
              "      padding: 0 0 0 0;\n",
              "      width: 32px;\n",
              "    }\n",
              "\n",
              "    .colab-df-convert:hover {\n",
              "      background-color: #E2EBFA;\n",
              "      box-shadow: 0px 1px 2px rgba(60, 64, 67, 0.3), 0px 1px 3px 1px rgba(60, 64, 67, 0.15);\n",
              "      fill: #174EA6;\n",
              "    }\n",
              "\n",
              "    .colab-df-buttons div {\n",
              "      margin-bottom: 4px;\n",
              "    }\n",
              "\n",
              "    [theme=dark] .colab-df-convert {\n",
              "      background-color: #3B4455;\n",
              "      fill: #D2E3FC;\n",
              "    }\n",
              "\n",
              "    [theme=dark] .colab-df-convert:hover {\n",
              "      background-color: #434B5C;\n",
              "      box-shadow: 0px 1px 3px 1px rgba(0, 0, 0, 0.15);\n",
              "      filter: drop-shadow(0px 1px 2px rgba(0, 0, 0, 0.3));\n",
              "      fill: #FFFFFF;\n",
              "    }\n",
              "  </style>\n",
              "\n",
              "    <script>\n",
              "      const buttonEl =\n",
              "        document.querySelector('#df-2d3ad853-30ae-40c2-bc77-9a1d41ee86ce button.colab-df-convert');\n",
              "      buttonEl.style.display =\n",
              "        google.colab.kernel.accessAllowed ? 'block' : 'none';\n",
              "\n",
              "      async function convertToInteractive(key) {\n",
              "        const element = document.querySelector('#df-2d3ad853-30ae-40c2-bc77-9a1d41ee86ce');\n",
              "        const dataTable =\n",
              "          await google.colab.kernel.invokeFunction('convertToInteractive',\n",
              "                                                    [key], {});\n",
              "        if (!dataTable) return;\n",
              "\n",
              "        const docLinkHtml = 'Like what you see? Visit the ' +\n",
              "          '<a target=\"_blank\" href=https://colab.research.google.com/notebooks/data_table.ipynb>data table notebook</a>'\n",
              "          + ' to learn more about interactive tables.';\n",
              "        element.innerHTML = '';\n",
              "        dataTable['output_type'] = 'display_data';\n",
              "        await google.colab.output.renderOutput(dataTable, element);\n",
              "        const docLink = document.createElement('div');\n",
              "        docLink.innerHTML = docLinkHtml;\n",
              "        element.appendChild(docLink);\n",
              "      }\n",
              "    </script>\n",
              "  </div>\n",
              "\n",
              "\n",
              "<div id=\"df-1803b0b7-6f11-4ec9-adad-1bf4e0c4217e\">\n",
              "  <button class=\"colab-df-quickchart\" onclick=\"quickchart('df-1803b0b7-6f11-4ec9-adad-1bf4e0c4217e')\"\n",
              "            title=\"Suggest charts\"\n",
              "            style=\"display:none;\">\n",
              "\n",
              "<svg xmlns=\"http://www.w3.org/2000/svg\" height=\"24px\"viewBox=\"0 0 24 24\"\n",
              "     width=\"24px\">\n",
              "    <g>\n",
              "        <path d=\"M19 3H5c-1.1 0-2 .9-2 2v14c0 1.1.9 2 2 2h14c1.1 0 2-.9 2-2V5c0-1.1-.9-2-2-2zM9 17H7v-7h2v7zm4 0h-2V7h2v10zm4 0h-2v-4h2v4z\"/>\n",
              "    </g>\n",
              "</svg>\n",
              "  </button>\n",
              "\n",
              "<style>\n",
              "  .colab-df-quickchart {\n",
              "      --bg-color: #E8F0FE;\n",
              "      --fill-color: #1967D2;\n",
              "      --hover-bg-color: #E2EBFA;\n",
              "      --hover-fill-color: #174EA6;\n",
              "      --disabled-fill-color: #AAA;\n",
              "      --disabled-bg-color: #DDD;\n",
              "  }\n",
              "\n",
              "  [theme=dark] .colab-df-quickchart {\n",
              "      --bg-color: #3B4455;\n",
              "      --fill-color: #D2E3FC;\n",
              "      --hover-bg-color: #434B5C;\n",
              "      --hover-fill-color: #FFFFFF;\n",
              "      --disabled-bg-color: #3B4455;\n",
              "      --disabled-fill-color: #666;\n",
              "  }\n",
              "\n",
              "  .colab-df-quickchart {\n",
              "    background-color: var(--bg-color);\n",
              "    border: none;\n",
              "    border-radius: 50%;\n",
              "    cursor: pointer;\n",
              "    display: none;\n",
              "    fill: var(--fill-color);\n",
              "    height: 32px;\n",
              "    padding: 0;\n",
              "    width: 32px;\n",
              "  }\n",
              "\n",
              "  .colab-df-quickchart:hover {\n",
              "    background-color: var(--hover-bg-color);\n",
              "    box-shadow: 0 1px 2px rgba(60, 64, 67, 0.3), 0 1px 3px 1px rgba(60, 64, 67, 0.15);\n",
              "    fill: var(--button-hover-fill-color);\n",
              "  }\n",
              "\n",
              "  .colab-df-quickchart-complete:disabled,\n",
              "  .colab-df-quickchart-complete:disabled:hover {\n",
              "    background-color: var(--disabled-bg-color);\n",
              "    fill: var(--disabled-fill-color);\n",
              "    box-shadow: none;\n",
              "  }\n",
              "\n",
              "  .colab-df-spinner {\n",
              "    border: 2px solid var(--fill-color);\n",
              "    border-color: transparent;\n",
              "    border-bottom-color: var(--fill-color);\n",
              "    animation:\n",
              "      spin 1s steps(1) infinite;\n",
              "  }\n",
              "\n",
              "  @keyframes spin {\n",
              "    0% {\n",
              "      border-color: transparent;\n",
              "      border-bottom-color: var(--fill-color);\n",
              "      border-left-color: var(--fill-color);\n",
              "    }\n",
              "    20% {\n",
              "      border-color: transparent;\n",
              "      border-left-color: var(--fill-color);\n",
              "      border-top-color: var(--fill-color);\n",
              "    }\n",
              "    30% {\n",
              "      border-color: transparent;\n",
              "      border-left-color: var(--fill-color);\n",
              "      border-top-color: var(--fill-color);\n",
              "      border-right-color: var(--fill-color);\n",
              "    }\n",
              "    40% {\n",
              "      border-color: transparent;\n",
              "      border-right-color: var(--fill-color);\n",
              "      border-top-color: var(--fill-color);\n",
              "    }\n",
              "    60% {\n",
              "      border-color: transparent;\n",
              "      border-right-color: var(--fill-color);\n",
              "    }\n",
              "    80% {\n",
              "      border-color: transparent;\n",
              "      border-right-color: var(--fill-color);\n",
              "      border-bottom-color: var(--fill-color);\n",
              "    }\n",
              "    90% {\n",
              "      border-color: transparent;\n",
              "      border-bottom-color: var(--fill-color);\n",
              "    }\n",
              "  }\n",
              "</style>\n",
              "\n",
              "  <script>\n",
              "    async function quickchart(key) {\n",
              "      const quickchartButtonEl =\n",
              "        document.querySelector('#' + key + ' button');\n",
              "      quickchartButtonEl.disabled = true;  // To prevent multiple clicks.\n",
              "      quickchartButtonEl.classList.add('colab-df-spinner');\n",
              "      try {\n",
              "        const charts = await google.colab.kernel.invokeFunction(\n",
              "            'suggestCharts', [key], {});\n",
              "      } catch (error) {\n",
              "        console.error('Error during call to suggestCharts:', error);\n",
              "      }\n",
              "      quickchartButtonEl.classList.remove('colab-df-spinner');\n",
              "      quickchartButtonEl.classList.add('colab-df-quickchart-complete');\n",
              "    }\n",
              "    (() => {\n",
              "      let quickchartButtonEl =\n",
              "        document.querySelector('#df-1803b0b7-6f11-4ec9-adad-1bf4e0c4217e button');\n",
              "      quickchartButtonEl.style.display =\n",
              "        google.colab.kernel.accessAllowed ? 'block' : 'none';\n",
              "    })();\n",
              "  </script>\n",
              "</div>\n",
              "    </div>\n",
              "  </div>\n"
            ]
          },
          "metadata": {},
          "execution_count": 8
        }
      ]
    },
    {
      "cell_type": "code",
      "source": [
        "# Reduce non-important features in data manually by dropping the non-numeric columns and only keep numeric ones\n",
        "df_song.drop(columns=['track_id','track_name','track_artist','track_album_id','track_album_name',\n",
        "                         'playlist_id','playlist_name','playlist_id','playlist_subgenre', 'track_album_release_date'],inplace=True)"
      ],
      "metadata": {
        "id": "mACPCRWePqeS"
      },
      "execution_count": 9,
      "outputs": []
    },
    {
      "cell_type": "code",
      "source": [
        "# check completeness of data\n",
        "df_song.isnull().sum()"
      ],
      "metadata": {
        "colab": {
          "base_uri": "https://localhost:8080/"
        },
        "id": "68vRY_27En43",
        "outputId": "952e52a7-8146-4f77-fd8d-61204c936452"
      },
      "execution_count": 10,
      "outputs": [
        {
          "output_type": "execute_result",
          "data": {
            "text/plain": [
              "track_popularity    0\n",
              "playlist_genre      0\n",
              "danceability        0\n",
              "energy              0\n",
              "key                 0\n",
              "loudness            0\n",
              "mode                0\n",
              "speechiness         0\n",
              "acousticness        0\n",
              "instrumentalness    0\n",
              "liveness            0\n",
              "valence             0\n",
              "tempo               0\n",
              "duration_ms         0\n",
              "dtype: int64"
            ]
          },
          "metadata": {},
          "execution_count": 10
        }
      ]
    },
    {
      "cell_type": "code",
      "source": [
        "# display the number of genres (labels in this task)\n",
        "genre = df_song['playlist_genre'].unique()\n",
        "genre"
      ],
      "metadata": {
        "colab": {
          "base_uri": "https://localhost:8080/"
        },
        "id": "2mJNTBl4KPac",
        "outputId": "1dba2448-fecc-4e16-893e-6db35fa4437a"
      },
      "execution_count": 11,
      "outputs": [
        {
          "output_type": "execute_result",
          "data": {
            "text/plain": [
              "array(['pop', 'rap', 'rock', 'latin', 'r&b', 'edm'], dtype=object)"
            ]
          },
          "metadata": {},
          "execution_count": 11
        }
      ]
    },
    {
      "cell_type": "code",
      "source": [
        "# convert the string value of genre into a binary variable\n",
        "df_song['numeric_genre'] = df_song['playlist_genre'].map(\n",
        "    {\"pop\": 1, \"rap\": 2, \"rock\":3, \"latin\":4, \"r&b\":5,  \"edm\":6})"
      ],
      "metadata": {
        "id": "YLc9TaLDBWDK"
      },
      "execution_count": 12,
      "outputs": []
    },
    {
      "cell_type": "code",
      "source": [
        "df_song.info()\n",
        "feature_list = ['track_popularity', 'danceability', 'energy', 'key', 'loudness',\n",
        "                'mode', 'speechiness', 'acousticness', 'instrumentalness',\n",
        "                'liveness', 'valence', 'tempo', 'duration_ms']"
      ],
      "metadata": {
        "colab": {
          "base_uri": "https://localhost:8080/"
        },
        "id": "EDOxcdA0GqPo",
        "outputId": "f8ed1b44-31e2-440e-a5b9-011f6dd56f2d"
      },
      "execution_count": 13,
      "outputs": [
        {
          "output_type": "stream",
          "name": "stdout",
          "text": [
            "<class 'pandas.core.frame.DataFrame'>\n",
            "Int64Index: 32833 entries, 0 to 32832\n",
            "Data columns (total 15 columns):\n",
            " #   Column            Non-Null Count  Dtype  \n",
            "---  ------            --------------  -----  \n",
            " 0   track_popularity  32833 non-null  int64  \n",
            " 1   playlist_genre    32833 non-null  object \n",
            " 2   danceability      32833 non-null  float64\n",
            " 3   energy            32833 non-null  float64\n",
            " 4   key               32833 non-null  int64  \n",
            " 5   loudness          32833 non-null  float64\n",
            " 6   mode              32833 non-null  int64  \n",
            " 7   speechiness       32833 non-null  float64\n",
            " 8   acousticness      32833 non-null  float64\n",
            " 9   instrumentalness  32833 non-null  float64\n",
            " 10  liveness          32833 non-null  float64\n",
            " 11  valence           32833 non-null  float64\n",
            " 12  tempo             32833 non-null  float64\n",
            " 13  duration_ms       32833 non-null  int64  \n",
            " 14  numeric_genre     32833 non-null  int64  \n",
            "dtypes: float64(9), int64(5), object(1)\n",
            "memory usage: 4.0+ MB\n"
          ]
        }
      ]
    },
    {
      "cell_type": "markdown",
      "source": [
        "# Partition data into train and test splits so we can start training the model using k-fold validation"
      ],
      "metadata": {
        "id": "iWWVbzOvHgR2"
      }
    },
    {
      "cell_type": "code",
      "source": [
        "# display the shape of the data\n",
        "df_song.shape"
      ],
      "metadata": {
        "colab": {
          "base_uri": "https://localhost:8080/"
        },
        "id": "l1NB2vMuSMVA",
        "outputId": "6e9fb278-5ad5-43cb-8ced-adab4e42ec75"
      },
      "execution_count": 14,
      "outputs": [
        {
          "output_type": "execute_result",
          "data": {
            "text/plain": [
              "(32833, 15)"
            ]
          },
          "metadata": {},
          "execution_count": 14
        }
      ]
    },
    {
      "cell_type": "code",
      "source": [
        "# Extract features and labels and create set to store them\n",
        "X = df_song.drop(['playlist_genre', 'numeric_genre'], axis=1)  # feature set\n",
        "y = df_song['numeric_genre'] # target variable"
      ],
      "metadata": {
        "id": "zAicgHZcLc-F"
      },
      "execution_count": 15,
      "outputs": []
    },
    {
      "cell_type": "markdown",
      "source": [
        "# Now data is ready to used for training and testing purpose. We also perform hyperparameter tuning and report test/train error and test accuracy. Plots are included."
      ],
      "metadata": {
        "id": "_7rQF__mHoB0"
      }
    },
    {
      "cell_type": "markdown",
      "source": [
        "# Try K-NN classifier with parameter tuning"
      ],
      "metadata": {
        "id": "f2UexaztM4e2"
      }
    },
    {
      "cell_type": "code",
      "source": [
        "# Split the data into training and testing sets\n",
        "X_train, X_test, y_train, y_test = train_test_split(X, y,\n",
        "                                                    test_size=0.25,\n",
        "                                                    random_state=7,\n",
        "                                                    shuffle=True)"
      ],
      "metadata": {
        "id": "vMfFhZyEUh0d"
      },
      "execution_count": 16,
      "outputs": []
    },
    {
      "cell_type": "code",
      "source": [
        "print('Training Features Shape:', X_train.shape)\n",
        "print('Training Labels Shape:', y_train.shape)\n",
        "print('Testing Features Shape:', X_test.shape)\n",
        "print('Testing Labels Shape:', y_test.shape)"
      ],
      "metadata": {
        "colab": {
          "base_uri": "https://localhost:8080/"
        },
        "id": "oCctQIz6m9NJ",
        "outputId": "b8661285-d36b-4baa-c9c2-f7e157257e48"
      },
      "execution_count": 17,
      "outputs": [
        {
          "output_type": "stream",
          "name": "stdout",
          "text": [
            "Training Features Shape: (24624, 13)\n",
            "Training Labels Shape: (24624,)\n",
            "Testing Features Shape: (8209, 13)\n",
            "Testing Labels Shape: (8209,)\n"
          ]
        }
      ]
    },
    {
      "cell_type": "code",
      "source": [
        "from sklearn import metrics\n",
        "\n",
        "# parameters\n",
        "kvals = [5, 6, 7, 8, 9, 10, 11, 12, 13, 14, 15, 16]\n",
        "\n",
        "# test error list\n",
        "knn_test_errors = []\n",
        "\n",
        "for k in kvals:\n",
        "    knn = KNeighborsClassifier(n_neighbors=k)\n",
        "    knn.fit(X_train, y_train)\n",
        "    knn_accuracy = knn.score(X_test, y_test)\n",
        "    knn_test_errors.append(1 - knn_accuracy)\n",
        "\n",
        "    print(f'KNN with k={k} has test accuracy of {knn_accuracy:.8f}')"
      ],
      "metadata": {
        "colab": {
          "base_uri": "https://localhost:8080/"
        },
        "id": "VgJCm0SuJym8",
        "outputId": "8d3784c2-549d-4213-bc52-b5e99e8e1b27"
      },
      "execution_count": 18,
      "outputs": [
        {
          "output_type": "stream",
          "name": "stdout",
          "text": [
            "KNN with k=5 has test accuracy of 0.26483128\n",
            "KNN with k=6 has test accuracy of 0.25849677\n",
            "KNN with k=7 has test accuracy of 0.25191863\n",
            "KNN with k=8 has test accuracy of 0.25033500\n",
            "KNN with k=9 has test accuracy of 0.24862955\n",
            "KNN with k=10 has test accuracy of 0.25118772\n",
            "KNN with k=11 has test accuracy of 0.24643684\n",
            "KNN with k=12 has test accuracy of 0.24339140\n",
            "KNN with k=13 has test accuracy of 0.24607139\n",
            "KNN with k=14 has test accuracy of 0.24899501\n",
            "KNN with k=15 has test accuracy of 0.24777683\n",
            "KNN with k=16 has test accuracy of 0.24765501\n"
          ]
        }
      ]
    },
    {
      "cell_type": "code",
      "source": [
        "# best test accuracy\n",
        "print(1-min(knn_test_errors))"
      ],
      "metadata": {
        "colab": {
          "base_uri": "https://localhost:8080/"
        },
        "id": "IstQ_JtyN458",
        "outputId": "764dfb98-5293-40f7-f34b-31df2315b54a"
      },
      "execution_count": 19,
      "outputs": [
        {
          "output_type": "stream",
          "name": "stdout",
          "text": [
            "0.2648312827384578\n"
          ]
        }
      ]
    },
    {
      "cell_type": "code",
      "source": [
        "plt.figure(figsize=(10, 6))\n",
        "plt.plot(kvals, knn_test_errors, label='Test Error', marker='o')\n",
        "\n",
        "plt.title('Test Errors vs. Number of Neighbors (k)')\n",
        "plt.xlabel('number of neighbors (k)')\n",
        "plt.ylabel('test error')\n",
        "plt.legend()\n",
        "plt.show()"
      ],
      "metadata": {
        "colab": {
          "base_uri": "https://localhost:8080/",
          "height": 564
        },
        "id": "bxUZHg9IKXv1",
        "outputId": "d2b325c2-4dfe-45e8-fa56-309a241f193b"
      },
      "execution_count": 20,
      "outputs": [
        {
          "output_type": "display_data",
          "data": {
            "text/plain": [
              "<Figure size 1000x600 with 1 Axes>"
            ],
            "image/png": "[encoded data removed]"
          },
          "metadata": {}
        }
      ]
    },
    {
      "cell_type": "markdown",
      "source": [
        "Overall, this KNN classifier has bad accuracy performance and has high train and test error. Let's try another model."
      ],
      "metadata": {
        "id": "SXbyyJq6brMo"
      }
    },
    {
      "cell_type": "markdown",
      "source": [
        "# Logistic Regression\n",
        "try logistic regression and logistic regression using SGD from sklearn"
      ],
      "metadata": {
        "id": "wT63TlkRUiYS"
      }
    },
    {
      "cell_type": "code",
      "source": [
        "from sklearn.linear_model import SGDClassifier\n",
        "from sklearn.linear_model import LogisticRegression\n",
        "\n",
        "lr = LogisticRegression(multi_class='multinomial', n_jobs = 5)\n",
        "lr.fit(X_train, y_train)\n",
        "lr_accuracy = lr.score(X_test, y_test)\n",
        "# append the list of test error for the current alpha val\n",
        "lr_accuracy"
      ],
      "metadata": {
        "id": "FjVVUfI0UmZa",
        "colab": {
          "base_uri": "https://localhost:8080/"
        },
        "outputId": "e564fc0a-6257-4e2a-9ed4-391bb332c1f7"
      },
      "execution_count": 21,
      "outputs": [
        {
          "output_type": "execute_result",
          "data": {
            "text/plain": [
              "0.18443172128152027"
            ]
          },
          "metadata": {},
          "execution_count": 21
        }
      ]
    },
    {
      "cell_type": "code",
      "source": [
        "lr_test_errors = []\n",
        "\n",
        "learning_rates = [5.0, 4.75, 4.5, 4.0, 3.75, 3.5, 3.25, 3.0, 2.0]\n",
        "\n",
        "for eta in learning_rates:\n",
        "    # train and fit the model with logistic regression\n",
        "    lr = SGDClassifier(loss='log_loss', penalty = 'l2', eta0 = eta)\n",
        "    lr.fit(X_train, y_train)\n",
        "    # predict on test data and get the test error (complement of accuracy)\n",
        "    # against its true labels\n",
        "    accuracy = lr.score(X_test, y_test)\n",
        "    lr_test_errors.append(1-accuracy)\n",
        "    print(f'lr={eta} has test accuracy of {accuracy:.12f}')"
      ],
      "metadata": {
        "colab": {
          "base_uri": "https://localhost:8080/"
        },
        "id": "yejf89b_YqQC",
        "outputId": "79cea4fb-34f9-4258-a12a-339f0f5ea232"
      },
      "execution_count": 22,
      "outputs": [
        {
          "output_type": "stream",
          "name": "stdout",
          "text": [
            "lr=5.0 has test accuracy of 0.162260933122\n",
            "lr=4.75 has test accuracy of 0.154220976976\n",
            "lr=4.5 has test accuracy of 0.184431721282\n",
            "lr=4.0 has test accuracy of 0.154220976976\n",
            "lr=3.75 has test accuracy of 0.168351808990\n",
            "lr=3.5 has test accuracy of 0.184431721282\n",
            "lr=3.25 has test accuracy of 0.162260933122\n",
            "lr=3.0 has test accuracy of 0.167255451334\n",
            "lr=2.0 has test accuracy of 0.184431721282\n"
          ]
        }
      ]
    },
    {
      "cell_type": "code",
      "source": [
        "plt.figure(figsize=(10, 4))\n",
        "plt.plot(learning_rates, lr_test_errors, label='Test Error', marker='o')\n",
        "\n",
        "plt.title('Test Errors vs. Learning Rates')\n",
        "plt.xlabel('learning rate')\n",
        "plt.ylabel('test error')\n",
        "plt.legend()\n",
        "plt.show()"
      ],
      "metadata": {
        "colab": {
          "base_uri": "https://localhost:8080/",
          "height": 410
        },
        "id": "trg7hvHFeFlO",
        "outputId": "3abb68fa-5164-43b1-9c26-fccb3526b012"
      },
      "execution_count": 23,
      "outputs": [
        {
          "output_type": "display_data",
          "data": {
            "text/plain": [
              "<Figure size 1000x400 with 1 Axes>"
            ],
            "image/png": "[encoded data removed]"
          },
          "metadata": {}
        }
      ]
    },
    {
      "cell_type": "markdown",
      "source": [
        "# Constrained Decision Tree and Random Forest\n",
        "\n",
        "constrains on maximum depth, maximum leaf nodes and minimum samples on a leaf"
      ],
      "metadata": {
        "id": "o3-nmUa1Uovh"
      }
    },
    {
      "cell_type": "code",
      "source": [
        "from sklearn.tree import DecisionTreeClassifier\n",
        "from sklearn.metrics import accuracy_score\n",
        "from sklearn.svm import SVC\n",
        "from sklearn import tree\n",
        "from sklearn.tree import export_graphviz\n",
        "import pydot\n",
        "\n",
        "clt_errors = []\n",
        "nodes = [30, 50, 100, 200, 300, 350, 450, 500, 600, 700, None]\n",
        "for d in nodes:\n",
        "  clt = DecisionTreeClassifier(criterion=\"entropy\", max_features=10, max_leaf_nodes=d)\n",
        "  clt.fit(X_train, y_train)\n",
        "  accuracy = clt.score(X_test, y_test)\n",
        "  clt_errors.append(1-accuracy)\n",
        "  print(f'max_leaf_nodes={d} has test accuracy of {accuracy:.12f}')"
      ],
      "metadata": {
        "id": "ljHKX3xIUolD",
        "colab": {
          "base_uri": "https://localhost:8080/"
        },
        "outputId": "b4c5bd33-a53f-4aaa-d925-e198d3db296c"
      },
      "execution_count": 24,
      "outputs": [
        {
          "output_type": "stream",
          "name": "stdout",
          "text": [
            "max_leaf_nodes=30 has test accuracy of 0.421732245097\n",
            "max_leaf_nodes=50 has test accuracy of 0.456937507614\n",
            "max_leaf_nodes=100 has test accuracy of 0.456572055062\n",
            "max_leaf_nodes=200 has test accuracy of 0.477524668047\n",
            "max_leaf_nodes=300 has test accuracy of 0.480813741016\n",
            "max_leaf_nodes=350 has test accuracy of 0.475210135217\n",
            "max_leaf_nodes=450 has test accuracy of 0.483859178950\n",
            "max_leaf_nodes=500 has test accuracy of 0.482275551224\n",
            "max_leaf_nodes=600 has test accuracy of 0.479473748325\n",
            "max_leaf_nodes=700 has test accuracy of 0.483737361433\n",
            "max_leaf_nodes=None has test accuracy of 0.439273967597\n"
          ]
        }
      ]
    },
    {
      "cell_type": "code",
      "source": [
        "print(1-min(clt_errors))"
      ],
      "metadata": {
        "colab": {
          "base_uri": "https://localhost:8080/"
        },
        "id": "bbOgQEHVTkqV",
        "outputId": "24ad41ba-b40e-4fc9-d2d3-05a33b8b02fc"
      },
      "execution_count": 25,
      "outputs": [
        {
          "output_type": "stream",
          "name": "stdout",
          "text": [
            "0.483859178949933\n"
          ]
        }
      ]
    },
    {
      "cell_type": "code",
      "source": [
        "plt.figure(figsize=(10, 4))\n",
        "plt.plot(nodes, clt_errors, label='Test Error', marker='o')\n",
        "\n",
        "plt.title('Test Errors vs. Nodes')\n",
        "plt.xlabel('nodes')\n",
        "plt.ylabel('test error')\n",
        "plt.legend()\n",
        "plt.show()"
      ],
      "metadata": {
        "colab": {
          "base_uri": "https://localhost:8080/",
          "height": 410
        },
        "id": "VEdBu5qSTocJ",
        "outputId": "4676b7e4-5ac6-462f-e3c5-9afb222f43df"
      },
      "execution_count": 26,
      "outputs": [
        {
          "output_type": "display_data",
          "data": {
            "text/plain": [
              "<Figure size 1000x400 with 1 Axes>"
            ],
            "image/png": "[encoded data removed]"
          },
          "metadata": {}
        }
      ]
    },
    {
      "cell_type": "code",
      "source": [
        "clt = DecisionTreeClassifier(criterion=\"entropy\", max_features=10, max_leaf_nodes=350)\n",
        "clt.fit(X_train, y_train)\n",
        "# Get numerical feature importances\n",
        "importances = list(clt.feature_importances_)\n",
        "# List of tuples with variable and importance\n",
        "feature_importances = [(feature, round(importance, 2)) for feature, importance in zip(feature_list, importances)]\n",
        "# Sort the feature importances by most important first\n",
        "feature_importances = sorted(feature_importances, key = lambda x: x[1], reverse = True)\n",
        "# Print out the feature and importances\n",
        "[print('Variable: {:20} Importance: {}'.format(*pair)) for pair in feature_importances];\n"
      ],
      "metadata": {
        "colab": {
          "base_uri": "https://localhost:8080/"
        },
        "id": "0jJFK_QUVeHw",
        "outputId": "02bd51b2-4910-48de-d828-09f99af4d127"
      },
      "execution_count": 27,
      "outputs": [
        {
          "output_type": "stream",
          "name": "stdout",
          "text": [
            "Variable: tempo                Importance: 0.21\n",
            "Variable: speechiness          Importance: 0.19\n",
            "Variable: danceability         Importance: 0.15\n",
            "Variable: energy               Importance: 0.11\n",
            "Variable: valence              Importance: 0.08\n",
            "Variable: instrumentalness     Importance: 0.07\n",
            "Variable: duration_ms          Importance: 0.07\n",
            "Variable: loudness             Importance: 0.06\n",
            "Variable: acousticness         Importance: 0.05\n",
            "Variable: track_popularity     Importance: 0.02\n",
            "Variable: key                  Importance: 0.0\n",
            "Variable: mode                 Importance: 0.0\n",
            "Variable: liveness             Importance: 0.0\n"
          ]
        }
      ]
    },
    {
      "cell_type": "markdown",
      "source": [
        "We can see that Decision tree performs better than logistic regression and knn classifier, we can proceed to use random forest - random ordering of feature selections. Let's also compare the feature importance from random forest."
      ],
      "metadata": {
        "id": "3F6zKy4ITxGk"
      }
    },
    {
      "cell_type": "code",
      "source": [
        "from sklearn.ensemble import RandomForestClassifier, RandomForestRegressor\n",
        "\n",
        "depths = [5, 10, 20, 30]\n",
        "rfc_errors = []\n",
        "for d in depths:\n",
        "  rfc = RandomForestClassifier(criterion=\"entropy\", max_depth=500, max_features=d)\n",
        "  rfc.fit(X_train, y_train)\n",
        "  accuracy = rfc.score(X_test, y_test)\n",
        "  rfc_errors.append(1-accuracy)\n",
        "  print(f'max_depths={d} has test accuracy of {accuracy:.12f}')"
      ],
      "metadata": {
        "colab": {
          "base_uri": "https://localhost:8080/"
        },
        "id": "38t7xZgFmE2h",
        "outputId": "d0ff1d98-23b8-40a6-ceef-4c434c4b7385"
      },
      "execution_count": 28,
      "outputs": [
        {
          "output_type": "stream",
          "name": "stdout",
          "text": [
            "max_depths=5 has test accuracy of 0.558776952126\n",
            "max_depths=10 has test accuracy of 0.555731514192\n",
            "max_depths=20 has test accuracy of 0.552076988671\n",
            "max_depths=30 has test accuracy of 0.550371543428\n"
          ]
        }
      ]
    },
    {
      "cell_type": "code",
      "source": [
        "plt.figure(figsize=(10, 4))\n",
        "plt.plot(depths, rfc_errors, label='Test Error', marker='o')\n",
        "\n",
        "plt.title('Test Errors vs. Depths')\n",
        "plt.xlabel('depths')\n",
        "plt.ylabel('test error')\n",
        "plt.legend()\n",
        "plt.show()"
      ],
      "metadata": {
        "colab": {
          "base_uri": "https://localhost:8080/",
          "height": 410
        },
        "id": "HKXXNIxQa5c6",
        "outputId": "28bcd9b5-441e-4d4a-abed-5823e9e144fb"
      },
      "execution_count": 29,
      "outputs": [
        {
          "output_type": "display_data",
          "data": {
            "text/plain": [
              "<Figure size 1000x400 with 1 Axes>"
            ],
            "image/png": "[encoded data removed]"
          },
          "metadata": {}
        }
      ]
    },
    {
      "cell_type": "code",
      "source": [
        "rfc = RandomForestClassifier(criterion=\"entropy\", max_depth=500, max_features=10)\n",
        "rfc.fit(X_train, y_train)\n",
        "# Get numerical feature importances\n",
        "importances = list(rfc.feature_importances_)\n",
        "# List of tuples with variable and importance\n",
        "feature_importances = [(feature, round(importance, 2)) for feature, importance in zip(feature_list, importances)]\n",
        "# Sort the feature importances by most important first\n",
        "feature_importances = sorted(feature_importances, key = lambda x: x[1], reverse = True)\n",
        "# Print out the feature and importances\n",
        "[print('Variable: {:20} Importance: {}'.format(*pair)) for pair in feature_importances];\n"
      ],
      "metadata": {
        "colab": {
          "base_uri": "https://localhost:8080/"
        },
        "id": "kwNYrALeX01q",
        "outputId": "bbd46800-8d0f-48a8-f5d2-8c002d719420"
      },
      "execution_count": 30,
      "outputs": [
        {
          "output_type": "stream",
          "name": "stdout",
          "text": [
            "Variable: tempo                Importance: 0.13\n",
            "Variable: speechiness          Importance: 0.12\n",
            "Variable: danceability         Importance: 0.11\n",
            "Variable: energy               Importance: 0.1\n",
            "Variable: valence              Importance: 0.09\n",
            "Variable: duration_ms          Importance: 0.08\n",
            "Variable: loudness             Importance: 0.07\n",
            "Variable: acousticness         Importance: 0.07\n",
            "Variable: instrumentalness     Importance: 0.07\n",
            "Variable: track_popularity     Importance: 0.06\n",
            "Variable: liveness             Importance: 0.05\n",
            "Variable: key                  Importance: 0.03\n",
            "Variable: mode                 Importance: 0.01\n"
          ]
        }
      ]
    },
    {
      "cell_type": "markdown",
      "source": [
        "Comparing the feature importance to that in the single decision tree, we can see that the top three features of most importance ar etempo. sppechiness, danceability. And the last three unimportant features are liveness, key, and mode. Feature selection may help improve test accuracy."
      ],
      "metadata": {
        "id": "cL211whYc4CJ"
      }
    },
    {
      "cell_type": "markdown",
      "source": [
        "# Neural Network\n",
        "We try to train some simple neural network model to see if there is more space for test accuracy increase"
      ],
      "metadata": {
        "id": "rRnTq1Q6UlOF"
      }
    },
    {
      "cell_type": "code",
      "source": [
        "import torch\n",
        "from torch.utils.data import DataLoader, TensorDataset\n",
        "\n",
        "# convert data to PyTorch tensors\n",
        "X_train_tensor, X_test_tensor = torch.FloatTensor(X_train.values), torch.FloatTensor(X_test.values)\n",
        "y_train_tensor, y_test_tensor = torch.LongTensor(y_train.values), torch.LongTensor(y_test.values)"
      ],
      "metadata": {
        "id": "INgCA1D2jqTr"
      },
      "execution_count": 31,
      "outputs": []
    },
    {
      "cell_type": "code",
      "source": [
        "train_data, test_data = TensorDataset(X_train_tensor, y_train_tensor), TensorDataset(X_test_tensor, y_test_tensor)\n",
        "\n",
        "trainLoader = DataLoader(train_data, batch_size=64, shuffle=True)\n",
        "testLoader = DataLoader(test_data, batch_size=64, shuffle=False)"
      ],
      "metadata": {
        "id": "TSKP7RlXurwO"
      },
      "execution_count": 32,
      "outputs": []
    },
    {
      "cell_type": "code",
      "source": [
        "import torch.nn.functional as F\n",
        "import torch.nn as nn\n",
        "import torch.nn.init as init\n",
        "\n",
        "class NeuralNetwork(torch.nn.Module):\n",
        "  def __init__(self):\n",
        "    super(NeuralNetwork, self).__init__()\n",
        "    self.fc_model = torch.nn.Sequential(\n",
        "            torch.nn.Linear(13, 256),\n",
        "            torch.nn.ReLU(),\n",
        "            torch.nn.BatchNorm1d(256),\n",
        "            torch.nn.Linear(256, 128),\n",
        "            torch.nn.ReLU(),\n",
        "            torch.nn.BatchNorm1d(128),\n",
        "            torch.nn.Linear(128, 10)\n",
        "        )\n",
        "\n",
        "  def forward(self, x):\n",
        "    x = x.view(-1, 13)\n",
        "    x = self.fc_model(x)\n",
        "    return x"
      ],
      "metadata": {
        "id": "aqxVrkgXUllh"
      },
      "execution_count": 33,
      "outputs": []
    },
    {
      "cell_type": "code",
      "source": [
        "net = NeuralNetwork()\n",
        "print(net)"
      ],
      "metadata": {
        "colab": {
          "base_uri": "https://localhost:8080/"
        },
        "id": "Fe9EybN0i9Yx",
        "outputId": "edff7565-af5f-43b4-aee7-a498853a742a"
      },
      "execution_count": 34,
      "outputs": [
        {
          "output_type": "stream",
          "name": "stdout",
          "text": [
            "NeuralNetwork(\n",
            "  (fc_model): Sequential(\n",
            "    (0): Linear(in_features=13, out_features=256, bias=True)\n",
            "    (1): ReLU()\n",
            "    (2): BatchNorm1d(256, eps=1e-05, momentum=0.1, affine=True, track_running_stats=True)\n",
            "    (3): Linear(in_features=256, out_features=128, bias=True)\n",
            "    (4): ReLU()\n",
            "    (5): BatchNorm1d(128, eps=1e-05, momentum=0.1, affine=True, track_running_stats=True)\n",
            "    (6): Linear(in_features=128, out_features=10, bias=True)\n",
            "  )\n",
            ")\n"
          ]
        }
      ]
    },
    {
      "cell_type": "code",
      "source": [
        "Loss = torch.nn.CrossEntropyLoss()\n",
        "optimizer = torch.optim.SGD(net.parameters(), lr=0.1)\n",
        "\n",
        "train_loss_history = []\n",
        "test_accuracy_history = []\n",
        "test_loss_history = []\n",
        "num_epochs = 30"
      ],
      "metadata": {
        "id": "QmWBeIG2kefT"
      },
      "execution_count": 35,
      "outputs": []
    },
    {
      "cell_type": "code",
      "source": [
        "for epoch in range(num_epochs):\n",
        "  train_loss = 0.0\n",
        "  test_loss = 0.0\n",
        "  net.train()\n",
        "  for X_train, y_train in trainLoader:\n",
        "     # zero the parameter gradients\n",
        "    optimizer.zero_grad()\n",
        "    # forward + backward + optimize\n",
        "    predicted_output = net(X_train)\n",
        "    fit = Loss(predicted_output, y_train)\n",
        "    fit.backward()\n",
        "    optimizer.step()\n",
        "    train_loss += fit.item()\n",
        "\n",
        "  total, correct = 0, 0\n",
        "  net.eval() # don't update weights\n",
        "  for X_test, y_test in testLoader:\n",
        "    with torch.no_grad():\n",
        "        predicted_output = net(X_test)\n",
        "        fit = Loss(predicted_output, y_test)\n",
        "\n",
        "        _, predicted_labels = torch.max(predicted_output,1)\n",
        "        total += y_test.size(0)\n",
        "        correct += (predicted_labels == y_test).sum().item()\n",
        "        test_accuracy = 100 * correct/total\n",
        "\n",
        "        test_loss += fit.item()\n",
        "\n",
        "  train_loss = train_loss/len(trainLoader)\n",
        "  test_loss = test_loss/len(testLoader)\n",
        "  train_loss_history.append(train_loss)\n",
        "  test_loss_history.append(test_loss)\n",
        "  test_accuracy_history.append(test_accuracy)\n",
        "  print('Epoch %s, Train loss %s, Test loss %s, test acc = %0.2f'%(epoch, train_loss, test_loss, test_accuracy))"
      ],
      "metadata": {
        "colab": {
          "base_uri": "https://localhost:8080/"
        },
        "id": "mKCsGUgrkRk_",
        "outputId": "4719dbda-2711-4d69-9902-d5b1a3578f92"
      },
      "execution_count": 36,
      "outputs": [
        {
          "output_type": "stream",
          "name": "stdout",
          "text": [
            "Epoch 0, Train loss 1.9487049229733355, Test loss 2.017703095147776, test acc = 17.83\n",
            "Epoch 1, Train loss 1.8420930261735793, Test loss 1.8141040358432503, test acc = 19.19\n",
            "Epoch 2, Train loss 1.8149082502761444, Test loss 3.2655819183172183, test acc = 18.24\n",
            "Epoch 3, Train loss 1.807336324221128, Test loss 1.7869743321293083, test acc = 21.67\n",
            "Epoch 4, Train loss 1.7966716911885645, Test loss 1.8471206500548725, test acc = 18.33\n",
            "Epoch 5, Train loss 1.7870179616011583, Test loss 1.7708451803340468, test acc = 23.27\n",
            "Epoch 6, Train loss 1.7789611943356403, Test loss 1.826064942419067, test acc = 22.55\n",
            "Epoch 7, Train loss 1.777713799786258, Test loss 1.7955759024435236, test acc = 22.60\n",
            "Epoch 8, Train loss 1.773040949524223, Test loss 1.7639408915541892, test acc = 22.85\n",
            "Epoch 9, Train loss 1.770403190711876, Test loss 1.7817167126855185, test acc = 20.17\n",
            "Epoch 10, Train loss 1.7712673239893728, Test loss 1.7647738290387531, test acc = 23.24\n",
            "Epoch 11, Train loss 1.7665497854158476, Test loss 1.8361146653345388, test acc = 19.82\n",
            "Epoch 12, Train loss 1.7667691469192506, Test loss 1.7657742832982264, test acc = 23.47\n",
            "Epoch 13, Train loss 1.7636852338716582, Test loss 1.7649234422417575, test acc = 22.84\n",
            "Epoch 14, Train loss 1.7605993094382348, Test loss 1.7642268275105677, test acc = 22.68\n",
            "Epoch 15, Train loss 1.7579966260241224, Test loss 1.7643581813620042, test acc = 23.29\n",
            "Epoch 16, Train loss 1.7578518756024248, Test loss 1.7515635619791903, test acc = 22.73\n",
            "Epoch 17, Train loss 1.757904619675178, Test loss 1.7661721410677416, test acc = 21.72\n",
            "Epoch 18, Train loss 1.7569245920552836, Test loss 1.7597561039665872, test acc = 23.75\n",
            "Epoch 19, Train loss 1.7538888996297664, Test loss 1.7687245117601498, test acc = 21.33\n",
            "Epoch 20, Train loss 1.7560952341401732, Test loss 1.7497369078702705, test acc = 23.68\n",
            "Epoch 21, Train loss 1.754275270561119, Test loss 1.7652346644290657, test acc = 23.97\n",
            "Epoch 22, Train loss 1.752402736614277, Test loss 1.7519109064294387, test acc = 23.58\n",
            "Epoch 23, Train loss 1.752621976431314, Test loss 1.7559406064277472, test acc = 23.15\n",
            "Epoch 24, Train loss 1.7515593754780756, Test loss 1.753824978835823, test acc = 23.75\n",
            "Epoch 25, Train loss 1.7523981035529792, Test loss 1.7597484366838323, test acc = 23.40\n",
            "Epoch 26, Train loss 1.7505136455808368, Test loss 1.751343851865724, test acc = 23.66\n",
            "Epoch 27, Train loss 1.7493669314817948, Test loss 1.7526197553605072, test acc = 24.35\n",
            "Epoch 28, Train loss 1.7515294963663275, Test loss 1.7445193760154782, test acc = 23.83\n",
            "Epoch 29, Train loss 1.748686552357364, Test loss 1.748888987903447, test acc = 24.23\n"
          ]
        }
      ]
    },
    {
      "cell_type": "code",
      "source": [
        "optimizer = torch.optim.SGD(net.parameters(), lr=0.5)\n",
        "\n",
        "train_loss_history = []\n",
        "test_accuracy_history = []\n",
        "test_loss_history = []\n",
        "num_epochs = 30"
      ],
      "metadata": {
        "id": "quh4rLcPuLFz"
      },
      "execution_count": 37,
      "outputs": []
    },
    {
      "cell_type": "code",
      "source": [
        "for epoch in range(num_epochs):\n",
        "  train_loss = 0.0\n",
        "  test_loss = 0.0\n",
        "  net.train()\n",
        "  for X_train, y_train in trainLoader:\n",
        "     # zero the parameter gradients\n",
        "    optimizer.zero_grad()\n",
        "    # forward + backward + optimize\n",
        "    predicted_output = net(X_train)\n",
        "    fit = Loss(predicted_output, y_train)\n",
        "    fit.backward()\n",
        "    optimizer.step()\n",
        "    train_loss += fit.item()\n",
        "\n",
        "  total, correct = 0, 0\n",
        "  net.eval() # don't update weights\n",
        "  for X_test, y_test in testLoader:\n",
        "    with torch.no_grad():\n",
        "        predicted_output = net(X_test)\n",
        "        fit = Loss(predicted_output, y_test)\n",
        "\n",
        "        _, predicted_labels = torch.max(predicted_output,1)\n",
        "        total += y_test.size(0)\n",
        "        correct += (predicted_labels == y_test).sum().item()\n",
        "        test_accuracy = 100 * correct/total\n",
        "\n",
        "        test_loss += fit.item()\n",
        "\n",
        "  train_loss = train_loss/len(trainLoader)\n",
        "  test_loss = test_loss/len(testLoader)\n",
        "  train_loss_history.append(train_loss)\n",
        "  test_loss_history.append(test_loss)\n",
        "  test_accuracy_history.append(test_accuracy)\n",
        "  print('Epoch %s, Train loss %s, Test loss %s, test acc = %0.2f'%(epoch, train_loss, test_loss, test_accuracy))"
      ],
      "metadata": {
        "colab": {
          "base_uri": "https://localhost:8080/"
        },
        "id": "z2_3zYHJnvbl",
        "outputId": "87dee5b2-8250-497b-d249-c08b573a3274"
      },
      "execution_count": 38,
      "outputs": [
        {
          "output_type": "stream",
          "name": "stdout",
          "text": [
            "Epoch 0, Train loss 1.7784377760701364, Test loss 1.7833997112836024, test acc = 20.05\n",
            "Epoch 1, Train loss 1.760581763069351, Test loss 1.7586480499238006, test acc = 19.97\n",
            "Epoch 2, Train loss 1.7579025624634383, Test loss 1.7573427959930066, test acc = 21.76\n",
            "Epoch 3, Train loss 1.7576584320563775, Test loss 1.754354945448942, test acc = 23.35\n",
            "Epoch 4, Train loss 1.753525863065348, Test loss 1.7566968803257905, test acc = 21.61\n",
            "Epoch 5, Train loss 1.753881058754859, Test loss 1.7539482874463694, test acc = 22.99\n",
            "Epoch 6, Train loss 1.7533110572146131, Test loss 1.7536378470502159, test acc = 22.72\n",
            "Epoch 7, Train loss 1.7523378121388422, Test loss 1.7556279814520548, test acc = 23.33\n",
            "Epoch 8, Train loss 1.7549131963160132, Test loss 1.748190588729326, test acc = 24.01\n",
            "Epoch 9, Train loss 1.7504841662072517, Test loss 1.7544805273529172, test acc = 23.04\n",
            "Epoch 10, Train loss 1.7490533014396568, Test loss 1.749578174694564, test acc = 23.61\n",
            "Epoch 11, Train loss 1.7522648021772311, Test loss 1.7596791224886281, test acc = 23.23\n",
            "Epoch 12, Train loss 1.7499037699265914, Test loss 1.7521195688913034, test acc = 23.63\n",
            "Epoch 13, Train loss 1.750387892475376, Test loss 1.7600794402203819, test acc = 21.33\n",
            "Epoch 14, Train loss 1.7515678774226795, Test loss 1.7611089140869851, test acc = 22.97\n",
            "Epoch 15, Train loss 1.7481609635538868, Test loss 1.7460500168245892, test acc = 24.14\n",
            "Epoch 16, Train loss 1.7472224851707359, Test loss 1.7537243495615877, test acc = 23.11\n",
            "Epoch 17, Train loss 1.7492630847088702, Test loss 1.7611438146857328, test acc = 22.54\n",
            "Epoch 18, Train loss 1.7467113055192032, Test loss 1.7539199331934139, test acc = 23.82\n",
            "Epoch 19, Train loss 1.7471600411774275, Test loss 1.7497704324796217, test acc = 23.12\n",
            "Epoch 20, Train loss 1.747647702539122, Test loss 1.7505713645801988, test acc = 23.84\n",
            "Epoch 21, Train loss 1.7463219215343524, Test loss 1.7470194027405377, test acc = 24.36\n",
            "Epoch 22, Train loss 1.7466186532726535, Test loss 1.747311833292939, test acc = 23.57\n",
            "Epoch 23, Train loss 1.7478444139678757, Test loss 1.7637730116067931, test acc = 20.90\n",
            "Epoch 24, Train loss 1.7474504709243774, Test loss 1.7505653625310853, test acc = 24.23\n",
            "Epoch 25, Train loss 1.7471363055241573, Test loss 1.7503317030825356, test acc = 23.24\n",
            "Epoch 26, Train loss 1.7460062658631956, Test loss 1.7449822961822037, test acc = 24.11\n",
            "Epoch 27, Train loss 1.7476076194218226, Test loss 1.7545370307079582, test acc = 22.87\n",
            "Epoch 28, Train loss 1.7476140573427275, Test loss 1.7533870233121769, test acc = 23.89\n",
            "Epoch 29, Train loss 1.7452542986188615, Test loss 1.74841163232345, test acc = 24.25\n"
          ]
        }
      ]
    },
    {
      "cell_type": "markdown",
      "source": [
        "It seems like it is hard to run 30 epochs. Therefore, we tried to implement a fully connected neural network."
      ],
      "metadata": {
        "id": "ISDZXTMPzlO6"
      }
    },
    {
      "cell_type": "code",
      "source": [
        "import torch.optim as optim\n",
        "from torch.utils.data import DataLoader, TensorDataset\n",
        "import matplotlib.pyplot as plt\n",
        "\n",
        "# Define a fully connected network\n",
        "class NeuralNetwork(nn.Module):\n",
        "  def __init__(self, input_size):\n",
        "    super(NeuralNetwork, self).__init__()\n",
        "    self.fc1 = nn.Linear(input_size, 128)\n",
        "    self.fc2 = nn.Linear(128, 64)\n",
        "    # Output for 6 classes\n",
        "    self.fc3 = nn.Linear(64, 10)\n",
        "\n",
        "  def forward(self, x):\n",
        "    x = torch.relu(self.fc1(x))\n",
        "    x = torch.relu(self.fc2(x))\n",
        "    x = self.fc3(x)\n",
        "    return x\n",
        "\n",
        "# Function to train the model\n",
        "def train(model, train_loader, val_loader, epochs=10):\n",
        "  criterion = nn.CrossEntropyLoss()\n",
        "  optimizer = optim.Adam(model.parameters(), lr=0.001)\n",
        "\n",
        "  train_losses, val_losses = [], []\n",
        "  train_accuracies, val_accuracies = [], []\n",
        "\n",
        "  for epoch in range(epochs):\n",
        "    # Training phase\n",
        "    model.train()\n",
        "    running_loss = 0.0\n",
        "    correct, total = 0, 0\n",
        "    for data in train_loader:\n",
        "      inputs, labels = data\n",
        "      optimizer.zero_grad()\n",
        "      outputs = model(inputs)\n",
        "      loss = criterion(outputs, labels)\n",
        "      loss.backward()\n",
        "      optimizer.step()\n",
        "\n",
        "      running_loss += loss.item()\n",
        "      _, predicted = torch.max(outputs.data, 1)\n",
        "      total += labels.size(0)\n",
        "      correct += (predicted == labels).sum().item()\n",
        "\n",
        "    train_losses.append(running_loss / len(train_loader))\n",
        "    train_accuracies.append(100 * correct / total)\n",
        "\n",
        "    # Validation phase\n",
        "    model.eval()\n",
        "    val_loss = 0.0\n",
        "    correct, total = 0, 0\n",
        "    with torch.no_grad():\n",
        "      for data in val_loader:\n",
        "        inputs, labels = data\n",
        "        outputs = model(inputs)\n",
        "        loss = criterion(outputs, labels)\n",
        "\n",
        "        val_loss += loss.item()\n",
        "        _, predicted = torch.max(outputs.data, 1)\n",
        "        total += labels.size(0)\n",
        "        correct += (predicted == labels).sum().item()\n",
        "\n",
        "    val_losses.append(val_loss / len(val_loader))\n",
        "    val_accuracies.append(100 * correct / total)\n",
        "\n",
        "    print(f\"Epoch {epoch+1}/{epochs} - \"\n",
        "          f\"Train loss: {train_losses[-1]:.4f},\"\n",
        "          f\"Train accuracy: {train_accuracies[-1]:.2f}%, \"\n",
        "          f\"Val loss: {val_losses[-1]:.4f}, \"\n",
        "          f\"Val accuracy: {val_accuracies[-1]:.2f}%\")\n",
        "\n",
        "  return train_losses, val_losses, train_accuracies, val_accuracies"
      ],
      "metadata": {
        "id": "AYgpU6MPzVcF"
      },
      "execution_count": 42,
      "outputs": []
    },
    {
      "cell_type": "code",
      "source": [
        "from sklearn.preprocessing import StandardScaler\n",
        "\n",
        "# Split the data into training and teststing sets\n",
        "X_train, X_test, y_train, y_test = train_test_split(X, y,\n",
        "                                                    test_size=0.25,\n",
        "                                                    random_state=7,\n",
        "                                                    shuffle=True)\n",
        "s = StandardScaler()\n",
        "s.fit(X_train)\n",
        "x_train_scale = s.transform(X_train)\n",
        "x_test_scale = s.transform(X_test)\n",
        "\n",
        "\n",
        "# Convert the numpy arrays to PyTorch tensors\n",
        "x_train_tensor = torch.tensor(x_train_scale, dtype=torch.float)\n",
        "y_train_tensor = torch.tensor(y_train.values, dtype=torch.long)\n",
        "x_test_tensor = torch.tensor(x_test_scale, dtype=torch.float)\n",
        "y_test_tensor = torch.tensor(y_test.values, dtype=torch.long)\n",
        "\n",
        "# Update the DataLoader with the new data\n",
        "train_loader = DataLoader(TensorDataset(x_train_tensor, y_train_tensor), batch_size=64, shuffle=True)\n",
        "val_loader = DataLoader(TensorDataset(x_test_tensor, y_test_tensor), batch_size=64)\n",
        "input_size = x_train_scale.shape[1]\n",
        "\n",
        "# Reinitialize the model and retrain\n",
        "model = NeuralNetwork(input_size)\n",
        "epochs = 20\n",
        "train_losses, val_losses, train_accuracies, val_accuracies = train(model, train_loader, val_loader, epochs)"
      ],
      "metadata": {
        "colab": {
          "base_uri": "https://localhost:8080/"
        },
        "id": "76CP3lHhzVeL",
        "outputId": "aef21bc2-70cc-41f2-8598-ddb18ba01f78"
      },
      "execution_count": 43,
      "outputs": [
        {
          "output_type": "stream",
          "name": "stdout",
          "text": [
            "Epoch 1/20 - Train loss: 1.4399,Train accuracy: 44.94%, Val loss: 1.3238, Val accuracy: 48.43%\n",
            "Epoch 2/20 - Train loss: 1.2997,Train accuracy: 50.06%, Val loss: 1.2834, Val accuracy: 49.92%\n",
            "Epoch 3/20 - Train loss: 1.2663,Train accuracy: 51.30%, Val loss: 1.2533, Val accuracy: 52.08%\n",
            "Epoch 4/20 - Train loss: 1.2451,Train accuracy: 52.54%, Val loss: 1.2492, Val accuracy: 51.52%\n",
            "Epoch 5/20 - Train loss: 1.2310,Train accuracy: 52.55%, Val loss: 1.2355, Val accuracy: 52.49%\n",
            "Epoch 6/20 - Train loss: 1.2170,Train accuracy: 53.57%, Val loss: 1.2271, Val accuracy: 52.89%\n",
            "Epoch 7/20 - Train loss: 1.2064,Train accuracy: 53.83%, Val loss: 1.2272, Val accuracy: 53.05%\n",
            "Epoch 8/20 - Train loss: 1.1964,Train accuracy: 54.46%, Val loss: 1.2165, Val accuracy: 53.38%\n",
            "Epoch 9/20 - Train loss: 1.1870,Train accuracy: 54.85%, Val loss: 1.2116, Val accuracy: 53.88%\n",
            "Epoch 10/20 - Train loss: 1.1778,Train accuracy: 55.20%, Val loss: 1.2136, Val accuracy: 53.75%\n",
            "Epoch 11/20 - Train loss: 1.1703,Train accuracy: 55.54%, Val loss: 1.2069, Val accuracy: 53.89%\n",
            "Epoch 12/20 - Train loss: 1.1646,Train accuracy: 55.60%, Val loss: 1.1991, Val accuracy: 54.05%\n",
            "Epoch 13/20 - Train loss: 1.1566,Train accuracy: 55.86%, Val loss: 1.1966, Val accuracy: 53.99%\n",
            "Epoch 14/20 - Train loss: 1.1505,Train accuracy: 55.94%, Val loss: 1.2069, Val accuracy: 53.70%\n",
            "Epoch 15/20 - Train loss: 1.1465,Train accuracy: 56.28%, Val loss: 1.1998, Val accuracy: 53.90%\n",
            "Epoch 16/20 - Train loss: 1.1413,Train accuracy: 56.52%, Val loss: 1.2006, Val accuracy: 54.16%\n",
            "Epoch 17/20 - Train loss: 1.1362,Train accuracy: 56.79%, Val loss: 1.1979, Val accuracy: 54.59%\n",
            "Epoch 18/20 - Train loss: 1.1317,Train accuracy: 56.93%, Val loss: 1.1938, Val accuracy: 54.29%\n",
            "Epoch 19/20 - Train loss: 1.1265,Train accuracy: 57.18%, Val loss: 1.2029, Val accuracy: 53.81%\n",
            "Epoch 20/20 - Train loss: 1.1237,Train accuracy: 57.44%, Val loss: 1.1962, Val accuracy: 53.78%\n"
          ]
        }
      ]
    },
    {
      "cell_type": "code",
      "source": [
        "# Plotting the updated loss and accuracy\n",
        "plt.figure(figsize=(12, 5))\n",
        "plt.subplot(1, 2, 1)\n",
        "plt.plot(train_losses, label='Train Loss')\n",
        "plt.plot(val_losses, label='Validation Loss')\n",
        "plt.title('Loss per Epoch')\n",
        "plt.xlabel('Epoch')\n",
        "plt.ylabel('Loss')\n",
        "plt.legend()\n",
        "\n",
        "plt.subplot(1, 2, 2)\n",
        "plt.plot(train_accuracies, label='Train Accuracy')\n",
        "plt.plot(val_accuracies, label='Validation Accuracy')\n",
        "plt.title('Accuracy per Epoch')\n",
        "plt.xlabel('Epoch')\n",
        "plt.ylabel('Accuracy (%)')\n",
        "plt.legend()\n",
        "\n",
        "plt.tight_layout()\n",
        "plt.show()"
      ],
      "metadata": {
        "colab": {
          "base_uri": "https://localhost:8080/",
          "height": 507
        },
        "id": "ylzcbINMGhx8",
        "outputId": "fa66be04-5eb7-4824-e337-596eebdf2149"
      },
      "execution_count": 44,
      "outputs": [
        {
          "output_type": "display_data",
          "data": {
            "text/plain": [
              "<Figure size 1200x500 with 2 Axes>"
            ],
            "image/png": "[encoded data removed]"
          },
          "metadata": {}
        }
      ]
    }
  ],
  "metadata": {
    "colab": {
      "provenance": []
    },
    "kernelspec": {
      "display_name": "Python 3",
      "name": "python3"
    },
    "language_info": {
      "name": "python"
    }
  },
  "nbformat": 4,
  "nbformat_minor": 0
}
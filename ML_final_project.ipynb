{
  "cells": [
    {
      "cell_type": "markdown",
      "source": [
        "# Load data from Kaggle: the 30000 songs from Spotify\n",
        "process the data first to see if any missing values and remove them. Remove unncessary features manually before classifying. Get number of genres and create genre labels for each class for testing and training purpose."
      ],
      "metadata": {
        "id": "DFKCINqpGh_J"
      }
    },
    {
      "cell_type": "code",
      "source": [
        "import pandas as pd\n",
        "import numpy as np\n",
        "import matplotlib.pyplot as plt\n",
        "import seaborn as sns\n",
        "import torch\n",
        "import torchvision\n",
        "from sklearn.model_selection import train_test_split, GridSearchCV\n",
        "from sklearn.preprocessing import LabelEncoder\n",
        "from sklearn.metrics import accuracy_score, classification_report\n",
        "from sklearn.ensemble import RandomForestClassifier\n",
        "from sklearn.neighbors import KNeighborsClassifier\n",
        "from sklearn.linear_model import LogisticRegression\n",
        "import torch.nn.functional as F\n",
        "import torch.nn as nn\n",
        "import torch.nn.init as init\n",
        "\n",
        "%matplotlib inline"
      ],
      "metadata": {
        "id": "hn2NP5omGqJW"
      },
      "execution_count": null,
      "outputs": []
    },
    {
      "cell_type": "code",
      "source": [
        "url = 'https://raw.githubusercontent.com/rfordatascience/tidytuesday/master/data/2020/2020-01-21/spotify_songs.csv'\n",
        "df_song = pd.read_csv(url)\n",
        "df_song.head() # get an overview of how data looks"
      ],
      "metadata": {
        "colab": {
          "base_uri": "https://localhost:8080/",
          "height": 551
        },
        "id": "fHvH9EBCGtAx",
        "outputId": "ec26a27a-7d8c-4ff1-e8be-1b4b1c0c07bf"
      },
      "execution_count": null,
      "outputs": [
        {
          "output_type": "execute_result",
          "data": {
            "text/plain": [
              "                 track_id                                         track_name  \\\n",
              "0  6f807x0ima9a1j3VPbc7VN  I Don't Care (with Justin Bieber) - Loud Luxur...   \n",
              "1  0r7CVbZTWZgbTCYdfa2P31                    Memories - Dillon Francis Remix   \n",
              "2  1z1Hg7Vb0AhHDiEmnDE79l                    All the Time - Don Diablo Remix   \n",
              "3  75FpbthrwQmzHlBJLuGdC7                  Call You Mine - Keanu Silva Remix   \n",
              "4  1e8PAfcKUYoKkxPhrHqw4x            Someone You Loved - Future Humans Remix   \n",
              "\n",
              "       track_artist  track_popularity          track_album_id  \\\n",
              "0        Ed Sheeran                66  2oCs0DGTsRO98Gh5ZSl2Cx   \n",
              "1          Maroon 5                67  63rPSO264uRjW1X5E6cWv6   \n",
              "2      Zara Larsson                70  1HoSmj2eLcsrR0vE9gThr4   \n",
              "3  The Chainsmokers                60  1nqYsOef1yKKuGOVchbsk6   \n",
              "4     Lewis Capaldi                69  7m7vv9wlQ4i0LFuJiE2zsQ   \n",
              "\n",
              "                                    track_album_name track_album_release_date  \\\n",
              "0  I Don't Care (with Justin Bieber) [Loud Luxury...               2019-06-14   \n",
              "1                    Memories (Dillon Francis Remix)               2019-12-13   \n",
              "2                    All the Time (Don Diablo Remix)               2019-07-05   \n",
              "3                        Call You Mine - The Remixes               2019-07-19   \n",
              "4            Someone You Loved (Future Humans Remix)               2019-03-05   \n",
              "\n",
              "  playlist_name             playlist_id playlist_genre  ... key  loudness  \\\n",
              "0     Pop Remix  37i9dQZF1DXcZDD7cfEKhW            pop  ...   6    -2.634   \n",
              "1     Pop Remix  37i9dQZF1DXcZDD7cfEKhW            pop  ...  11    -4.969   \n",
              "2     Pop Remix  37i9dQZF1DXcZDD7cfEKhW            pop  ...   1    -3.432   \n",
              "3     Pop Remix  37i9dQZF1DXcZDD7cfEKhW            pop  ...   7    -3.778   \n",
              "4     Pop Remix  37i9dQZF1DXcZDD7cfEKhW            pop  ...   1    -4.672   \n",
              "\n",
              "   mode  speechiness  acousticness  instrumentalness  liveness  valence  \\\n",
              "0     1       0.0583        0.1020          0.000000    0.0653    0.518   \n",
              "1     1       0.0373        0.0724          0.004210    0.3570    0.693   \n",
              "2     0       0.0742        0.0794          0.000023    0.1100    0.613   \n",
              "3     1       0.1020        0.0287          0.000009    0.2040    0.277   \n",
              "4     1       0.0359        0.0803          0.000000    0.0833    0.725   \n",
              "\n",
              "     tempo  duration_ms  \n",
              "0  122.036       194754  \n",
              "1   99.972       162600  \n",
              "2  124.008       176616  \n",
              "3  121.956       169093  \n",
              "4  123.976       189052  \n",
              "\n",
              "[5 rows x 23 columns]"
            ],
            "text/html": [
              "\n",
              "  <div id=\"df-11941e8f-e9f6-4a82-a2d8-309b590dc5b6\" class=\"colab-df-container\">\n",
              "    <div>\n",
              "<style scoped>\n",
              "    .dataframe tbody tr th:only-of-type {\n",
              "        vertical-align: middle;\n",
              "    }\n",
              "\n",
              "    .dataframe tbody tr th {\n",
              "        vertical-align: top;\n",
              "    }\n",
              "\n",
              "    .dataframe thead th {\n",
              "        text-align: right;\n",
              "    }\n",
              "</style>\n",
              "<table border=\"1\" class=\"dataframe\">\n",
              "  <thead>\n",
              "    <tr style=\"text-align: right;\">\n",
              "      <th></th>\n",
              "      <th>track_id</th>\n",
              "      <th>track_name</th>\n",
              "      <th>track_artist</th>\n",
              "      <th>track_popularity</th>\n",
              "      <th>track_album_id</th>\n",
              "      <th>track_album_name</th>\n",
              "      <th>track_album_release_date</th>\n",
              "      <th>playlist_name</th>\n",
              "      <th>playlist_id</th>\n",
              "      <th>playlist_genre</th>\n",
              "      <th>...</th>\n",
              "      <th>key</th>\n",
              "      <th>loudness</th>\n",
              "      <th>mode</th>\n",
              "      <th>speechiness</th>\n",
              "      <th>acousticness</th>\n",
              "      <th>instrumentalness</th>\n",
              "      <th>liveness</th>\n",
              "      <th>valence</th>\n",
              "      <th>tempo</th>\n",
              "      <th>duration_ms</th>\n",
              "    </tr>\n",
              "  </thead>\n",
              "  <tbody>\n",
              "    <tr>\n",
              "      <th>0</th>\n",
              "      <td>6f807x0ima9a1j3VPbc7VN</td>\n",
              "      <td>I Don't Care (with Justin Bieber) - Loud Luxur...</td>\n",
              "      <td>Ed Sheeran</td>\n",
              "      <td>66</td>\n",
              "      <td>2oCs0DGTsRO98Gh5ZSl2Cx</td>\n",
              "      <td>I Don't Care (with Justin Bieber) [Loud Luxury...</td>\n",
              "      <td>2019-06-14</td>\n",
              "      <td>Pop Remix</td>\n",
              "      <td>37i9dQZF1DXcZDD7cfEKhW</td>\n",
              "      <td>pop</td>\n",
              "      <td>...</td>\n",
              "      <td>6</td>\n",
              "      <td>-2.634</td>\n",
              "      <td>1</td>\n",
              "      <td>0.0583</td>\n",
              "      <td>0.1020</td>\n",
              "      <td>0.000000</td>\n",
              "      <td>0.0653</td>\n",
              "      <td>0.518</td>\n",
              "      <td>122.036</td>\n",
              "      <td>194754</td>\n",
              "    </tr>\n",
              "    <tr>\n",
              "      <th>1</th>\n",
              "      <td>0r7CVbZTWZgbTCYdfa2P31</td>\n",
              "      <td>Memories - Dillon Francis Remix</td>\n",
              "      <td>Maroon 5</td>\n",
              "      <td>67</td>\n",
              "      <td>63rPSO264uRjW1X5E6cWv6</td>\n",
              "      <td>Memories (Dillon Francis Remix)</td>\n",
              "      <td>2019-12-13</td>\n",
              "      <td>Pop Remix</td>\n",
              "      <td>37i9dQZF1DXcZDD7cfEKhW</td>\n",
              "      <td>pop</td>\n",
              "      <td>...</td>\n",
              "      <td>11</td>\n",
              "      <td>-4.969</td>\n",
              "      <td>1</td>\n",
              "      <td>0.0373</td>\n",
              "      <td>0.0724</td>\n",
              "      <td>0.004210</td>\n",
              "      <td>0.3570</td>\n",
              "      <td>0.693</td>\n",
              "      <td>99.972</td>\n",
              "      <td>162600</td>\n",
              "    </tr>\n",
              "    <tr>\n",
              "      <th>2</th>\n",
              "      <td>1z1Hg7Vb0AhHDiEmnDE79l</td>\n",
              "      <td>All the Time - Don Diablo Remix</td>\n",
              "      <td>Zara Larsson</td>\n",
              "      <td>70</td>\n",
              "      <td>1HoSmj2eLcsrR0vE9gThr4</td>\n",
              "      <td>All the Time (Don Diablo Remix)</td>\n",
              "      <td>2019-07-05</td>\n",
              "      <td>Pop Remix</td>\n",
              "      <td>37i9dQZF1DXcZDD7cfEKhW</td>\n",
              "      <td>pop</td>\n",
              "      <td>...</td>\n",
              "      <td>1</td>\n",
              "      <td>-3.432</td>\n",
              "      <td>0</td>\n",
              "      <td>0.0742</td>\n",
              "      <td>0.0794</td>\n",
              "      <td>0.000023</td>\n",
              "      <td>0.1100</td>\n",
              "      <td>0.613</td>\n",
              "      <td>124.008</td>\n",
              "      <td>176616</td>\n",
              "    </tr>\n",
              "    <tr>\n",
              "      <th>3</th>\n",
              "      <td>75FpbthrwQmzHlBJLuGdC7</td>\n",
              "      <td>Call You Mine - Keanu Silva Remix</td>\n",
              "      <td>The Chainsmokers</td>\n",
              "      <td>60</td>\n",
              "      <td>1nqYsOef1yKKuGOVchbsk6</td>\n",
              "      <td>Call You Mine - The Remixes</td>\n",
              "      <td>2019-07-19</td>\n",
              "      <td>Pop Remix</td>\n",
              "      <td>37i9dQZF1DXcZDD7cfEKhW</td>\n",
              "      <td>pop</td>\n",
              "      <td>...</td>\n",
              "      <td>7</td>\n",
              "      <td>-3.778</td>\n",
              "      <td>1</td>\n",
              "      <td>0.1020</td>\n",
              "      <td>0.0287</td>\n",
              "      <td>0.000009</td>\n",
              "      <td>0.2040</td>\n",
              "      <td>0.277</td>\n",
              "      <td>121.956</td>\n",
              "      <td>169093</td>\n",
              "    </tr>\n",
              "    <tr>\n",
              "      <th>4</th>\n",
              "      <td>1e8PAfcKUYoKkxPhrHqw4x</td>\n",
              "      <td>Someone You Loved - Future Humans Remix</td>\n",
              "      <td>Lewis Capaldi</td>\n",
              "      <td>69</td>\n",
              "      <td>7m7vv9wlQ4i0LFuJiE2zsQ</td>\n",
              "      <td>Someone You Loved (Future Humans Remix)</td>\n",
              "      <td>2019-03-05</td>\n",
              "      <td>Pop Remix</td>\n",
              "      <td>37i9dQZF1DXcZDD7cfEKhW</td>\n",
              "      <td>pop</td>\n",
              "      <td>...</td>\n",
              "      <td>1</td>\n",
              "      <td>-4.672</td>\n",
              "      <td>1</td>\n",
              "      <td>0.0359</td>\n",
              "      <td>0.0803</td>\n",
              "      <td>0.000000</td>\n",
              "      <td>0.0833</td>\n",
              "      <td>0.725</td>\n",
              "      <td>123.976</td>\n",
              "      <td>189052</td>\n",
              "    </tr>\n",
              "  </tbody>\n",
              "</table>\n",
              "<p>5 rows × 23 columns</p>\n",
              "</div>\n",
              "    <div class=\"colab-df-buttons\">\n",
              "\n",
              "  <div class=\"colab-df-container\">\n",
              "    <button class=\"colab-df-convert\" onclick=\"convertToInteractive('df-11941e8f-e9f6-4a82-a2d8-309b590dc5b6')\"\n",
              "            title=\"Convert this dataframe to an interactive table.\"\n",
              "            style=\"display:none;\">\n",
              "\n",
              "  <svg xmlns=\"http://www.w3.org/2000/svg\" height=\"24px\" viewBox=\"0 -960 960 960\">\n",
              "    <path d=\"M120-120v-720h720v720H120Zm60-500h600v-160H180v160Zm220 220h160v-160H400v160Zm0 220h160v-160H400v160ZM180-400h160v-160H180v160Zm440 0h160v-160H620v160ZM180-180h160v-160H180v160Zm440 0h160v-160H620v160Z\"/>\n",
              "  </svg>\n",
              "    </button>\n",
              "\n",
              "  <style>\n",
              "    .colab-df-container {\n",
              "      display:flex;\n",
              "      gap: 12px;\n",
              "    }\n",
              "\n",
              "    .colab-df-convert {\n",
              "      background-color: #E8F0FE;\n",
              "      border: none;\n",
              "      border-radius: 50%;\n",
              "      cursor: pointer;\n",
              "      display: none;\n",
              "      fill: #1967D2;\n",
              "      height: 32px;\n",
              "      padding: 0 0 0 0;\n",
              "      width: 32px;\n",
              "    }\n",
              "\n",
              "    .colab-df-convert:hover {\n",
              "      background-color: #E2EBFA;\n",
              "      box-shadow: 0px 1px 2px rgba(60, 64, 67, 0.3), 0px 1px 3px 1px rgba(60, 64, 67, 0.15);\n",
              "      fill: #174EA6;\n",
              "    }\n",
              "\n",
              "    .colab-df-buttons div {\n",
              "      margin-bottom: 4px;\n",
              "    }\n",
              "\n",
              "    [theme=dark] .colab-df-convert {\n",
              "      background-color: #3B4455;\n",
              "      fill: #D2E3FC;\n",
              "    }\n",
              "\n",
              "    [theme=dark] .colab-df-convert:hover {\n",
              "      background-color: #434B5C;\n",
              "      box-shadow: 0px 1px 3px 1px rgba(0, 0, 0, 0.15);\n",
              "      filter: drop-shadow(0px 1px 2px rgba(0, 0, 0, 0.3));\n",
              "      fill: #FFFFFF;\n",
              "    }\n",
              "  </style>\n",
              "\n",
              "    <script>\n",
              "      const buttonEl =\n",
              "        document.querySelector('#df-11941e8f-e9f6-4a82-a2d8-309b590dc5b6 button.colab-df-convert');\n",
              "      buttonEl.style.display =\n",
              "        google.colab.kernel.accessAllowed ? 'block' : 'none';\n",
              "\n",
              "      async function convertToInteractive(key) {\n",
              "        const element = document.querySelector('#df-11941e8f-e9f6-4a82-a2d8-309b590dc5b6');\n",
              "        const dataTable =\n",
              "          await google.colab.kernel.invokeFunction('convertToInteractive',\n",
              "                                                    [key], {});\n",
              "        if (!dataTable) return;\n",
              "\n",
              "        const docLinkHtml = 'Like what you see? Visit the ' +\n",
              "          '<a target=\"_blank\" href=https://colab.research.google.com/notebooks/data_table.ipynb>data table notebook</a>'\n",
              "          + ' to learn more about interactive tables.';\n",
              "        element.innerHTML = '';\n",
              "        dataTable['output_type'] = 'display_data';\n",
              "        await google.colab.output.renderOutput(dataTable, element);\n",
              "        const docLink = document.createElement('div');\n",
              "        docLink.innerHTML = docLinkHtml;\n",
              "        element.appendChild(docLink);\n",
              "      }\n",
              "    </script>\n",
              "  </div>\n",
              "\n",
              "\n",
              "<div id=\"df-6f7d0e6f-3842-41a9-be82-fd83d92e550a\">\n",
              "  <button class=\"colab-df-quickchart\" onclick=\"quickchart('df-6f7d0e6f-3842-41a9-be82-fd83d92e550a')\"\n",
              "            title=\"Suggest charts\"\n",
              "            style=\"display:none;\">\n",
              "\n",
              "<svg xmlns=\"http://www.w3.org/2000/svg\" height=\"24px\"viewBox=\"0 0 24 24\"\n",
              "     width=\"24px\">\n",
              "    <g>\n",
              "        <path d=\"M19 3H5c-1.1 0-2 .9-2 2v14c0 1.1.9 2 2 2h14c1.1 0 2-.9 2-2V5c0-1.1-.9-2-2-2zM9 17H7v-7h2v7zm4 0h-2V7h2v10zm4 0h-2v-4h2v4z\"/>\n",
              "    </g>\n",
              "</svg>\n",
              "  </button>\n",
              "\n",
              "<style>\n",
              "  .colab-df-quickchart {\n",
              "      --bg-color: #E8F0FE;\n",
              "      --fill-color: #1967D2;\n",
              "      --hover-bg-color: #E2EBFA;\n",
              "      --hover-fill-color: #174EA6;\n",
              "      --disabled-fill-color: #AAA;\n",
              "      --disabled-bg-color: #DDD;\n",
              "  }\n",
              "\n",
              "  [theme=dark] .colab-df-quickchart {\n",
              "      --bg-color: #3B4455;\n",
              "      --fill-color: #D2E3FC;\n",
              "      --hover-bg-color: #434B5C;\n",
              "      --hover-fill-color: #FFFFFF;\n",
              "      --disabled-bg-color: #3B4455;\n",
              "      --disabled-fill-color: #666;\n",
              "  }\n",
              "\n",
              "  .colab-df-quickchart {\n",
              "    background-color: var(--bg-color);\n",
              "    border: none;\n",
              "    border-radius: 50%;\n",
              "    cursor: pointer;\n",
              "    display: none;\n",
              "    fill: var(--fill-color);\n",
              "    height: 32px;\n",
              "    padding: 0;\n",
              "    width: 32px;\n",
              "  }\n",
              "\n",
              "  .colab-df-quickchart:hover {\n",
              "    background-color: var(--hover-bg-color);\n",
              "    box-shadow: 0 1px 2px rgba(60, 64, 67, 0.3), 0 1px 3px 1px rgba(60, 64, 67, 0.15);\n",
              "    fill: var(--button-hover-fill-color);\n",
              "  }\n",
              "\n",
              "  .colab-df-quickchart-complete:disabled,\n",
              "  .colab-df-quickchart-complete:disabled:hover {\n",
              "    background-color: var(--disabled-bg-color);\n",
              "    fill: var(--disabled-fill-color);\n",
              "    box-shadow: none;\n",
              "  }\n",
              "\n",
              "  .colab-df-spinner {\n",
              "    border: 2px solid var(--fill-color);\n",
              "    border-color: transparent;\n",
              "    border-bottom-color: var(--fill-color);\n",
              "    animation:\n",
              "      spin 1s steps(1) infinite;\n",
              "  }\n",
              "\n",
              "  @keyframes spin {\n",
              "    0% {\n",
              "      border-color: transparent;\n",
              "      border-bottom-color: var(--fill-color);\n",
              "      border-left-color: var(--fill-color);\n",
              "    }\n",
              "    20% {\n",
              "      border-color: transparent;\n",
              "      border-left-color: var(--fill-color);\n",
              "      border-top-color: var(--fill-color);\n",
              "    }\n",
              "    30% {\n",
              "      border-color: transparent;\n",
              "      border-left-color: var(--fill-color);\n",
              "      border-top-color: var(--fill-color);\n",
              "      border-right-color: var(--fill-color);\n",
              "    }\n",
              "    40% {\n",
              "      border-color: transparent;\n",
              "      border-right-color: var(--fill-color);\n",
              "      border-top-color: var(--fill-color);\n",
              "    }\n",
              "    60% {\n",
              "      border-color: transparent;\n",
              "      border-right-color: var(--fill-color);\n",
              "    }\n",
              "    80% {\n",
              "      border-color: transparent;\n",
              "      border-right-color: var(--fill-color);\n",
              "      border-bottom-color: var(--fill-color);\n",
              "    }\n",
              "    90% {\n",
              "      border-color: transparent;\n",
              "      border-bottom-color: var(--fill-color);\n",
              "    }\n",
              "  }\n",
              "</style>\n",
              "\n",
              "  <script>\n",
              "    async function quickchart(key) {\n",
              "      const quickchartButtonEl =\n",
              "        document.querySelector('#' + key + ' button');\n",
              "      quickchartButtonEl.disabled = true;  // To prevent multiple clicks.\n",
              "      quickchartButtonEl.classList.add('colab-df-spinner');\n",
              "      try {\n",
              "        const charts = await google.colab.kernel.invokeFunction(\n",
              "            'suggestCharts', [key], {});\n",
              "      } catch (error) {\n",
              "        console.error('Error during call to suggestCharts:', error);\n",
              "      }\n",
              "      quickchartButtonEl.classList.remove('colab-df-spinner');\n",
              "      quickchartButtonEl.classList.add('colab-df-quickchart-complete');\n",
              "    }\n",
              "    (() => {\n",
              "      let quickchartButtonEl =\n",
              "        document.querySelector('#df-6f7d0e6f-3842-41a9-be82-fd83d92e550a button');\n",
              "      quickchartButtonEl.style.display =\n",
              "        google.colab.kernel.accessAllowed ? 'block' : 'none';\n",
              "    })();\n",
              "  </script>\n",
              "</div>\n",
              "    </div>\n",
              "  </div>\n"
            ]
          },
          "metadata": {},
          "execution_count": 47
        }
      ]
    },
    {
      "cell_type": "code",
      "source": [
        "df_song.info() # display types and names of features in the data"
      ],
      "metadata": {
        "colab": {
          "base_uri": "https://localhost:8080/"
        },
        "id": "Gsg_MxJaHMtD",
        "outputId": "267b045a-59e9-4683-e32b-78825b2b14b9"
      },
      "execution_count": null,
      "outputs": [
        {
          "output_type": "stream",
          "name": "stdout",
          "text": [
            "<class 'pandas.core.frame.DataFrame'>\n",
            "RangeIndex: 32833 entries, 0 to 32832\n",
            "Data columns (total 23 columns):\n",
            " #   Column                    Non-Null Count  Dtype  \n",
            "---  ------                    --------------  -----  \n",
            " 0   track_id                  32833 non-null  object \n",
            " 1   track_name                32828 non-null  object \n",
            " 2   track_artist              32828 non-null  object \n",
            " 3   track_popularity          32833 non-null  int64  \n",
            " 4   track_album_id            32833 non-null  object \n",
            " 5   track_album_name          32828 non-null  object \n",
            " 6   track_album_release_date  32833 non-null  object \n",
            " 7   playlist_name             32833 non-null  object \n",
            " 8   playlist_id               32833 non-null  object \n",
            " 9   playlist_genre            32833 non-null  object \n",
            " 10  playlist_subgenre         32833 non-null  object \n",
            " 11  danceability              32833 non-null  float64\n",
            " 12  energy                    32833 non-null  float64\n",
            " 13  key                       32833 non-null  int64  \n",
            " 14  loudness                  32833 non-null  float64\n",
            " 15  mode                      32833 non-null  int64  \n",
            " 16  speechiness               32833 non-null  float64\n",
            " 17  acousticness              32833 non-null  float64\n",
            " 18  instrumentalness          32833 non-null  float64\n",
            " 19  liveness                  32833 non-null  float64\n",
            " 20  valence                   32833 non-null  float64\n",
            " 21  tempo                     32833 non-null  float64\n",
            " 22  duration_ms               32833 non-null  int64  \n",
            "dtypes: float64(9), int64(4), object(10)\n",
            "memory usage: 5.8+ MB\n"
          ]
        }
      ]
    },
    {
      "cell_type": "code",
      "source": [
        "# change date from string to a datetime object\n",
        "df_song['track_album_release_date'] = pd.to_datetime(df_song['track_album_release_date'])"
      ],
      "metadata": {
        "id": "KDZb4l-oTKa5"
      },
      "execution_count": null,
      "outputs": []
    },
    {
      "cell_type": "markdown",
      "source": [
        "# Feature Selection and manipulate data so that it is ready for testing and training"
      ],
      "metadata": {
        "id": "J09cYZ7gQbRx"
      }
    },
    {
      "cell_type": "code",
      "source": [
        "# Check for duplication of data in rows if any\n",
        "df_song.duplicated().sum()"
      ],
      "metadata": {
        "colab": {
          "base_uri": "https://localhost:8080/"
        },
        "id": "zkPkT3p4QyVu",
        "outputId": "6a36638b-4f91-46f1-c528-f9233b2763d3"
      },
      "execution_count": null,
      "outputs": [
        {
          "output_type": "execute_result",
          "data": {
            "text/plain": [
              "0"
            ]
          },
          "metadata": {},
          "execution_count": 50
        }
      ]
    },
    {
      "cell_type": "code",
      "source": [
        "# drop dubplication and only keep the first occurence\n",
        "df_song = df_song.drop_duplicates()"
      ],
      "metadata": {
        "id": "NQEcoT1JRIsP"
      },
      "execution_count": null,
      "outputs": []
    },
    {
      "cell_type": "code",
      "source": [
        "# check completeness of data\n",
        "df_song.isnull().sum()"
      ],
      "metadata": {
        "colab": {
          "base_uri": "https://localhost:8080/"
        },
        "id": "h5XeZKp6NjXf",
        "outputId": "1aa049ec-438f-4861-e56e-c6ee24fb3b43"
      },
      "execution_count": null,
      "outputs": [
        {
          "output_type": "execute_result",
          "data": {
            "text/plain": [
              "track_id                    0\n",
              "track_name                  5\n",
              "track_artist                5\n",
              "track_popularity            0\n",
              "track_album_id              0\n",
              "track_album_name            5\n",
              "track_album_release_date    0\n",
              "playlist_name               0\n",
              "playlist_id                 0\n",
              "playlist_genre              0\n",
              "playlist_subgenre           0\n",
              "danceability                0\n",
              "energy                      0\n",
              "key                         0\n",
              "loudness                    0\n",
              "mode                        0\n",
              "speechiness                 0\n",
              "acousticness                0\n",
              "instrumentalness            0\n",
              "liveness                    0\n",
              "valence                     0\n",
              "tempo                       0\n",
              "duration_ms                 0\n",
              "dtype: int64"
            ]
          },
          "metadata": {},
          "execution_count": 52
        }
      ]
    },
    {
      "cell_type": "code",
      "source": [
        "# check where the missing data locates\n",
        "df_song.loc[df_song.track_name.isnull()]\n",
        "# since other values are not null, we keep those rows in the data"
      ],
      "metadata": {
        "colab": {
          "base_uri": "https://localhost:8080/",
          "height": 273
        },
        "id": "mkhK8ZwkNk5b",
        "outputId": "1b4cb3b6-1409-4b54-b20c-db0f087db2e6"
      },
      "execution_count": null,
      "outputs": [
        {
          "output_type": "execute_result",
          "data": {
            "text/plain": [
              "                     track_id track_name track_artist  track_popularity  \\\n",
              "8151   69gRFGOWY9OMpFJgFol1u0        NaN          NaN                 0   \n",
              "9282   5cjecvX0CmC9gK0Laf5EMQ        NaN          NaN                 0   \n",
              "9283   5TTzhRSWQS4Yu8xTgAuq6D        NaN          NaN                 0   \n",
              "19568  3VKFip3OdAvv4OfNTgFWeQ        NaN          NaN                 0   \n",
              "19811  69gRFGOWY9OMpFJgFol1u0        NaN          NaN                 0   \n",
              "\n",
              "               track_album_id track_album_name track_album_release_date  \\\n",
              "8151   717UG2du6utFe7CdmpuUe3              NaN               2012-01-05   \n",
              "9282   3luHJEPw434tvNbme3SP8M              NaN               2017-12-01   \n",
              "9283   3luHJEPw434tvNbme3SP8M              NaN               2017-12-01   \n",
              "19568  717UG2du6utFe7CdmpuUe3              NaN               2012-01-05   \n",
              "19811  717UG2du6utFe7CdmpuUe3              NaN               2012-01-05   \n",
              "\n",
              "            playlist_name             playlist_id playlist_genre  ... key  \\\n",
              "8151              HIP&HOP  5DyJsJZOpMJh34WvUrQzMV            rap  ...   6   \n",
              "9282          GANGSTA Rap  5GA8GDo7RQC3JEanT81B3g            rap  ...  11   \n",
              "9283          GANGSTA Rap  5GA8GDo7RQC3JEanT81B3g            rap  ...  10   \n",
              "19568  Reggaeton viejito🔥  0si5tw70PIgPkY1Eva6V8f          latin  ...  11   \n",
              "19811       latin hip hop  3nH8aytdqNeRbcRCg3dw9q          latin  ...   6   \n",
              "\n",
              "       loudness  mode  speechiness  acousticness  instrumentalness  liveness  \\\n",
              "8151     -7.635     1       0.1760        0.0410           0.00000    0.1160   \n",
              "9282     -5.364     0       0.3190        0.0534           0.00000    0.5530   \n",
              "9283     -5.907     0       0.3070        0.0963           0.00000    0.0888   \n",
              "19568    -6.075     0       0.0366        0.0606           0.00653    0.1030   \n",
              "19811    -7.635     1       0.1760        0.0410           0.00000    0.1160   \n",
              "\n",
              "       valence    tempo  duration_ms  \n",
              "8151     0.649   95.999       282707  \n",
              "9282     0.191  146.153       202235  \n",
              "9283     0.505   86.839       206465  \n",
              "19568    0.726   97.017       252773  \n",
              "19811    0.649   95.999       282707  \n",
              "\n",
              "[5 rows x 23 columns]"
            ],
            "text/html": [
              "\n",
              "  <div id=\"df-df523b16-0419-4bd5-9e22-a081b8432112\" class=\"colab-df-container\">\n",
              "    <div>\n",
              "<style scoped>\n",
              "    .dataframe tbody tr th:only-of-type {\n",
              "        vertical-align: middle;\n",
              "    }\n",
              "\n",
              "    .dataframe tbody tr th {\n",
              "        vertical-align: top;\n",
              "    }\n",
              "\n",
              "    .dataframe thead th {\n",
              "        text-align: right;\n",
              "    }\n",
              "</style>\n",
              "<table border=\"1\" class=\"dataframe\">\n",
              "  <thead>\n",
              "    <tr style=\"text-align: right;\">\n",
              "      <th></th>\n",
              "      <th>track_id</th>\n",
              "      <th>track_name</th>\n",
              "      <th>track_artist</th>\n",
              "      <th>track_popularity</th>\n",
              "      <th>track_album_id</th>\n",
              "      <th>track_album_name</th>\n",
              "      <th>track_album_release_date</th>\n",
              "      <th>playlist_name</th>\n",
              "      <th>playlist_id</th>\n",
              "      <th>playlist_genre</th>\n",
              "      <th>...</th>\n",
              "      <th>key</th>\n",
              "      <th>loudness</th>\n",
              "      <th>mode</th>\n",
              "      <th>speechiness</th>\n",
              "      <th>acousticness</th>\n",
              "      <th>instrumentalness</th>\n",
              "      <th>liveness</th>\n",
              "      <th>valence</th>\n",
              "      <th>tempo</th>\n",
              "      <th>duration_ms</th>\n",
              "    </tr>\n",
              "  </thead>\n",
              "  <tbody>\n",
              "    <tr>\n",
              "      <th>8151</th>\n",
              "      <td>69gRFGOWY9OMpFJgFol1u0</td>\n",
              "      <td>NaN</td>\n",
              "      <td>NaN</td>\n",
              "      <td>0</td>\n",
              "      <td>717UG2du6utFe7CdmpuUe3</td>\n",
              "      <td>NaN</td>\n",
              "      <td>2012-01-05</td>\n",
              "      <td>HIP&amp;HOP</td>\n",
              "      <td>5DyJsJZOpMJh34WvUrQzMV</td>\n",
              "      <td>rap</td>\n",
              "      <td>...</td>\n",
              "      <td>6</td>\n",
              "      <td>-7.635</td>\n",
              "      <td>1</td>\n",
              "      <td>0.1760</td>\n",
              "      <td>0.0410</td>\n",
              "      <td>0.00000</td>\n",
              "      <td>0.1160</td>\n",
              "      <td>0.649</td>\n",
              "      <td>95.999</td>\n",
              "      <td>282707</td>\n",
              "    </tr>\n",
              "    <tr>\n",
              "      <th>9282</th>\n",
              "      <td>5cjecvX0CmC9gK0Laf5EMQ</td>\n",
              "      <td>NaN</td>\n",
              "      <td>NaN</td>\n",
              "      <td>0</td>\n",
              "      <td>3luHJEPw434tvNbme3SP8M</td>\n",
              "      <td>NaN</td>\n",
              "      <td>2017-12-01</td>\n",
              "      <td>GANGSTA Rap</td>\n",
              "      <td>5GA8GDo7RQC3JEanT81B3g</td>\n",
              "      <td>rap</td>\n",
              "      <td>...</td>\n",
              "      <td>11</td>\n",
              "      <td>-5.364</td>\n",
              "      <td>0</td>\n",
              "      <td>0.3190</td>\n",
              "      <td>0.0534</td>\n",
              "      <td>0.00000</td>\n",
              "      <td>0.5530</td>\n",
              "      <td>0.191</td>\n",
              "      <td>146.153</td>\n",
              "      <td>202235</td>\n",
              "    </tr>\n",
              "    <tr>\n",
              "      <th>9283</th>\n",
              "      <td>5TTzhRSWQS4Yu8xTgAuq6D</td>\n",
              "      <td>NaN</td>\n",
              "      <td>NaN</td>\n",
              "      <td>0</td>\n",
              "      <td>3luHJEPw434tvNbme3SP8M</td>\n",
              "      <td>NaN</td>\n",
              "      <td>2017-12-01</td>\n",
              "      <td>GANGSTA Rap</td>\n",
              "      <td>5GA8GDo7RQC3JEanT81B3g</td>\n",
              "      <td>rap</td>\n",
              "      <td>...</td>\n",
              "      <td>10</td>\n",
              "      <td>-5.907</td>\n",
              "      <td>0</td>\n",
              "      <td>0.3070</td>\n",
              "      <td>0.0963</td>\n",
              "      <td>0.00000</td>\n",
              "      <td>0.0888</td>\n",
              "      <td>0.505</td>\n",
              "      <td>86.839</td>\n",
              "      <td>206465</td>\n",
              "    </tr>\n",
              "    <tr>\n",
              "      <th>19568</th>\n",
              "      <td>3VKFip3OdAvv4OfNTgFWeQ</td>\n",
              "      <td>NaN</td>\n",
              "      <td>NaN</td>\n",
              "      <td>0</td>\n",
              "      <td>717UG2du6utFe7CdmpuUe3</td>\n",
              "      <td>NaN</td>\n",
              "      <td>2012-01-05</td>\n",
              "      <td>Reggaeton viejito🔥</td>\n",
              "      <td>0si5tw70PIgPkY1Eva6V8f</td>\n",
              "      <td>latin</td>\n",
              "      <td>...</td>\n",
              "      <td>11</td>\n",
              "      <td>-6.075</td>\n",
              "      <td>0</td>\n",
              "      <td>0.0366</td>\n",
              "      <td>0.0606</td>\n",
              "      <td>0.00653</td>\n",
              "      <td>0.1030</td>\n",
              "      <td>0.726</td>\n",
              "      <td>97.017</td>\n",
              "      <td>252773</td>\n",
              "    </tr>\n",
              "    <tr>\n",
              "      <th>19811</th>\n",
              "      <td>69gRFGOWY9OMpFJgFol1u0</td>\n",
              "      <td>NaN</td>\n",
              "      <td>NaN</td>\n",
              "      <td>0</td>\n",
              "      <td>717UG2du6utFe7CdmpuUe3</td>\n",
              "      <td>NaN</td>\n",
              "      <td>2012-01-05</td>\n",
              "      <td>latin hip hop</td>\n",
              "      <td>3nH8aytdqNeRbcRCg3dw9q</td>\n",
              "      <td>latin</td>\n",
              "      <td>...</td>\n",
              "      <td>6</td>\n",
              "      <td>-7.635</td>\n",
              "      <td>1</td>\n",
              "      <td>0.1760</td>\n",
              "      <td>0.0410</td>\n",
              "      <td>0.00000</td>\n",
              "      <td>0.1160</td>\n",
              "      <td>0.649</td>\n",
              "      <td>95.999</td>\n",
              "      <td>282707</td>\n",
              "    </tr>\n",
              "  </tbody>\n",
              "</table>\n",
              "<p>5 rows × 23 columns</p>\n",
              "</div>\n",
              "    <div class=\"colab-df-buttons\">\n",
              "\n",
              "  <div class=\"colab-df-container\">\n",
              "    <button class=\"colab-df-convert\" onclick=\"convertToInteractive('df-df523b16-0419-4bd5-9e22-a081b8432112')\"\n",
              "            title=\"Convert this dataframe to an interactive table.\"\n",
              "            style=\"display:none;\">\n",
              "\n",
              "  <svg xmlns=\"http://www.w3.org/2000/svg\" height=\"24px\" viewBox=\"0 -960 960 960\">\n",
              "    <path d=\"M120-120v-720h720v720H120Zm60-500h600v-160H180v160Zm220 220h160v-160H400v160Zm0 220h160v-160H400v160ZM180-400h160v-160H180v160Zm440 0h160v-160H620v160ZM180-180h160v-160H180v160Zm440 0h160v-160H620v160Z\"/>\n",
              "  </svg>\n",
              "    </button>\n",
              "\n",
              "  <style>\n",
              "    .colab-df-container {\n",
              "      display:flex;\n",
              "      gap: 12px;\n",
              "    }\n",
              "\n",
              "    .colab-df-convert {\n",
              "      background-color: #E8F0FE;\n",
              "      border: none;\n",
              "      border-radius: 50%;\n",
              "      cursor: pointer;\n",
              "      display: none;\n",
              "      fill: #1967D2;\n",
              "      height: 32px;\n",
              "      padding: 0 0 0 0;\n",
              "      width: 32px;\n",
              "    }\n",
              "\n",
              "    .colab-df-convert:hover {\n",
              "      background-color: #E2EBFA;\n",
              "      box-shadow: 0px 1px 2px rgba(60, 64, 67, 0.3), 0px 1px 3px 1px rgba(60, 64, 67, 0.15);\n",
              "      fill: #174EA6;\n",
              "    }\n",
              "\n",
              "    .colab-df-buttons div {\n",
              "      margin-bottom: 4px;\n",
              "    }\n",
              "\n",
              "    [theme=dark] .colab-df-convert {\n",
              "      background-color: #3B4455;\n",
              "      fill: #D2E3FC;\n",
              "    }\n",
              "\n",
              "    [theme=dark] .colab-df-convert:hover {\n",
              "      background-color: #434B5C;\n",
              "      box-shadow: 0px 1px 3px 1px rgba(0, 0, 0, 0.15);\n",
              "      filter: drop-shadow(0px 1px 2px rgba(0, 0, 0, 0.3));\n",
              "      fill: #FFFFFF;\n",
              "    }\n",
              "  </style>\n",
              "\n",
              "    <script>\n",
              "      const buttonEl =\n",
              "        document.querySelector('#df-df523b16-0419-4bd5-9e22-a081b8432112 button.colab-df-convert');\n",
              "      buttonEl.style.display =\n",
              "        google.colab.kernel.accessAllowed ? 'block' : 'none';\n",
              "\n",
              "      async function convertToInteractive(key) {\n",
              "        const element = document.querySelector('#df-df523b16-0419-4bd5-9e22-a081b8432112');\n",
              "        const dataTable =\n",
              "          await google.colab.kernel.invokeFunction('convertToInteractive',\n",
              "                                                    [key], {});\n",
              "        if (!dataTable) return;\n",
              "\n",
              "        const docLinkHtml = 'Like what you see? Visit the ' +\n",
              "          '<a target=\"_blank\" href=https://colab.research.google.com/notebooks/data_table.ipynb>data table notebook</a>'\n",
              "          + ' to learn more about interactive tables.';\n",
              "        element.innerHTML = '';\n",
              "        dataTable['output_type'] = 'display_data';\n",
              "        await google.colab.output.renderOutput(dataTable, element);\n",
              "        const docLink = document.createElement('div');\n",
              "        docLink.innerHTML = docLinkHtml;\n",
              "        element.appendChild(docLink);\n",
              "      }\n",
              "    </script>\n",
              "  </div>\n",
              "\n",
              "\n",
              "<div id=\"df-5e629c79-e290-4b55-8fcf-b0b5e702ce41\">\n",
              "  <button class=\"colab-df-quickchart\" onclick=\"quickchart('df-5e629c79-e290-4b55-8fcf-b0b5e702ce41')\"\n",
              "            title=\"Suggest charts\"\n",
              "            style=\"display:none;\">\n",
              "\n",
              "<svg xmlns=\"http://www.w3.org/2000/svg\" height=\"24px\"viewBox=\"0 0 24 24\"\n",
              "     width=\"24px\">\n",
              "    <g>\n",
              "        <path d=\"M19 3H5c-1.1 0-2 .9-2 2v14c0 1.1.9 2 2 2h14c1.1 0 2-.9 2-2V5c0-1.1-.9-2-2-2zM9 17H7v-7h2v7zm4 0h-2V7h2v10zm4 0h-2v-4h2v4z\"/>\n",
              "    </g>\n",
              "</svg>\n",
              "  </button>\n",
              "\n",
              "<style>\n",
              "  .colab-df-quickchart {\n",
              "      --bg-color: #E8F0FE;\n",
              "      --fill-color: #1967D2;\n",
              "      --hover-bg-color: #E2EBFA;\n",
              "      --hover-fill-color: #174EA6;\n",
              "      --disabled-fill-color: #AAA;\n",
              "      --disabled-bg-color: #DDD;\n",
              "  }\n",
              "\n",
              "  [theme=dark] .colab-df-quickchart {\n",
              "      --bg-color: #3B4455;\n",
              "      --fill-color: #D2E3FC;\n",
              "      --hover-bg-color: #434B5C;\n",
              "      --hover-fill-color: #FFFFFF;\n",
              "      --disabled-bg-color: #3B4455;\n",
              "      --disabled-fill-color: #666;\n",
              "  }\n",
              "\n",
              "  .colab-df-quickchart {\n",
              "    background-color: var(--bg-color);\n",
              "    border: none;\n",
              "    border-radius: 50%;\n",
              "    cursor: pointer;\n",
              "    display: none;\n",
              "    fill: var(--fill-color);\n",
              "    height: 32px;\n",
              "    padding: 0;\n",
              "    width: 32px;\n",
              "  }\n",
              "\n",
              "  .colab-df-quickchart:hover {\n",
              "    background-color: var(--hover-bg-color);\n",
              "    box-shadow: 0 1px 2px rgba(60, 64, 67, 0.3), 0 1px 3px 1px rgba(60, 64, 67, 0.15);\n",
              "    fill: var(--button-hover-fill-color);\n",
              "  }\n",
              "\n",
              "  .colab-df-quickchart-complete:disabled,\n",
              "  .colab-df-quickchart-complete:disabled:hover {\n",
              "    background-color: var(--disabled-bg-color);\n",
              "    fill: var(--disabled-fill-color);\n",
              "    box-shadow: none;\n",
              "  }\n",
              "\n",
              "  .colab-df-spinner {\n",
              "    border: 2px solid var(--fill-color);\n",
              "    border-color: transparent;\n",
              "    border-bottom-color: var(--fill-color);\n",
              "    animation:\n",
              "      spin 1s steps(1) infinite;\n",
              "  }\n",
              "\n",
              "  @keyframes spin {\n",
              "    0% {\n",
              "      border-color: transparent;\n",
              "      border-bottom-color: var(--fill-color);\n",
              "      border-left-color: var(--fill-color);\n",
              "    }\n",
              "    20% {\n",
              "      border-color: transparent;\n",
              "      border-left-color: var(--fill-color);\n",
              "      border-top-color: var(--fill-color);\n",
              "    }\n",
              "    30% {\n",
              "      border-color: transparent;\n",
              "      border-left-color: var(--fill-color);\n",
              "      border-top-color: var(--fill-color);\n",
              "      border-right-color: var(--fill-color);\n",
              "    }\n",
              "    40% {\n",
              "      border-color: transparent;\n",
              "      border-right-color: var(--fill-color);\n",
              "      border-top-color: var(--fill-color);\n",
              "    }\n",
              "    60% {\n",
              "      border-color: transparent;\n",
              "      border-right-color: var(--fill-color);\n",
              "    }\n",
              "    80% {\n",
              "      border-color: transparent;\n",
              "      border-right-color: var(--fill-color);\n",
              "      border-bottom-color: var(--fill-color);\n",
              "    }\n",
              "    90% {\n",
              "      border-color: transparent;\n",
              "      border-bottom-color: var(--fill-color);\n",
              "    }\n",
              "  }\n",
              "</style>\n",
              "\n",
              "  <script>\n",
              "    async function quickchart(key) {\n",
              "      const quickchartButtonEl =\n",
              "        document.querySelector('#' + key + ' button');\n",
              "      quickchartButtonEl.disabled = true;  // To prevent multiple clicks.\n",
              "      quickchartButtonEl.classList.add('colab-df-spinner');\n",
              "      try {\n",
              "        const charts = await google.colab.kernel.invokeFunction(\n",
              "            'suggestCharts', [key], {});\n",
              "      } catch (error) {\n",
              "        console.error('Error during call to suggestCharts:', error);\n",
              "      }\n",
              "      quickchartButtonEl.classList.remove('colab-df-spinner');\n",
              "      quickchartButtonEl.classList.add('colab-df-quickchart-complete');\n",
              "    }\n",
              "    (() => {\n",
              "      let quickchartButtonEl =\n",
              "        document.querySelector('#df-5e629c79-e290-4b55-8fcf-b0b5e702ce41 button');\n",
              "      quickchartButtonEl.style.display =\n",
              "        google.colab.kernel.accessAllowed ? 'block' : 'none';\n",
              "    })();\n",
              "  </script>\n",
              "</div>\n",
              "    </div>\n",
              "  </div>\n"
            ]
          },
          "metadata": {},
          "execution_count": 53
        }
      ]
    },
    {
      "cell_type": "code",
      "source": [
        "# Reduce non-important features in data manually by dropping the non-numeric columns and only keep numeric ones\n",
        "df_song.drop(columns=['track_id','track_name','track_artist','track_album_id','track_album_name',\n",
        "                         'playlist_id','playlist_name','playlist_id','playlist_subgenre', 'track_album_release_date'],inplace=True)"
      ],
      "metadata": {
        "id": "mACPCRWePqeS"
      },
      "execution_count": null,
      "outputs": []
    },
    {
      "cell_type": "code",
      "source": [
        "# check completeness of data\n",
        "df_song.isnull().sum()"
      ],
      "metadata": {
        "colab": {
          "base_uri": "https://localhost:8080/"
        },
        "id": "68vRY_27En43",
        "outputId": "4697601e-88f2-46cd-9748-1c09e60fd3d2"
      },
      "execution_count": null,
      "outputs": [
        {
          "output_type": "execute_result",
          "data": {
            "text/plain": [
              "track_popularity    0\n",
              "playlist_genre      0\n",
              "danceability        0\n",
              "energy              0\n",
              "key                 0\n",
              "loudness            0\n",
              "mode                0\n",
              "speechiness         0\n",
              "acousticness        0\n",
              "instrumentalness    0\n",
              "liveness            0\n",
              "valence             0\n",
              "tempo               0\n",
              "duration_ms         0\n",
              "dtype: int64"
            ]
          },
          "metadata": {},
          "execution_count": 55
        }
      ]
    },
    {
      "cell_type": "code",
      "source": [
        "# display the number of genres (labels in this task)\n",
        "genre = df_song['playlist_genre'].unique()\n",
        "genre"
      ],
      "metadata": {
        "colab": {
          "base_uri": "https://localhost:8080/"
        },
        "id": "2mJNTBl4KPac",
        "outputId": "151e45b6-d0da-4d27-c89e-e3042256b5ea"
      },
      "execution_count": null,
      "outputs": [
        {
          "output_type": "execute_result",
          "data": {
            "text/plain": [
              "array(['pop', 'rap', 'rock', 'latin', 'r&b', 'edm'], dtype=object)"
            ]
          },
          "metadata": {},
          "execution_count": 56
        }
      ]
    },
    {
      "cell_type": "code",
      "source": [
        "# convert the string value of genre into a binary variable\n",
        "df_song['numeric_genre'] = df_song['playlist_genre'].map(\n",
        "    {\"pop\": 1, \"rap\": 2, \"rock\":3, \"latin\":4, \"r&b\":5,  \"edm\":6})"
      ],
      "metadata": {
        "id": "YLc9TaLDBWDK"
      },
      "execution_count": null,
      "outputs": []
    },
    {
      "cell_type": "code",
      "source": [
        "df_song.info()\n",
        "feature_list = ['track_popularity', 'danceability', 'energy', 'key', 'loudness',\n",
        "                'mode', 'speechiness', 'acousticness', 'instrumentalness',\n",
        "                'liveness', 'valence', 'tempo', 'duration_ms']"
      ],
      "metadata": {
        "colab": {
          "base_uri": "https://localhost:8080/"
        },
        "id": "EDOxcdA0GqPo",
        "outputId": "e85ab528-2dc2-459a-bece-fb76abf6d5dc"
      },
      "execution_count": null,
      "outputs": [
        {
          "output_type": "stream",
          "name": "stdout",
          "text": [
            "<class 'pandas.core.frame.DataFrame'>\n",
            "Int64Index: 32833 entries, 0 to 32832\n",
            "Data columns (total 15 columns):\n",
            " #   Column            Non-Null Count  Dtype  \n",
            "---  ------            --------------  -----  \n",
            " 0   track_popularity  32833 non-null  int64  \n",
            " 1   playlist_genre    32833 non-null  object \n",
            " 2   danceability      32833 non-null  float64\n",
            " 3   energy            32833 non-null  float64\n",
            " 4   key               32833 non-null  int64  \n",
            " 5   loudness          32833 non-null  float64\n",
            " 6   mode              32833 non-null  int64  \n",
            " 7   speechiness       32833 non-null  float64\n",
            " 8   acousticness      32833 non-null  float64\n",
            " 9   instrumentalness  32833 non-null  float64\n",
            " 10  liveness          32833 non-null  float64\n",
            " 11  valence           32833 non-null  float64\n",
            " 12  tempo             32833 non-null  float64\n",
            " 13  duration_ms       32833 non-null  int64  \n",
            " 14  numeric_genre     32833 non-null  int64  \n",
            "dtypes: float64(9), int64(5), object(1)\n",
            "memory usage: 4.0+ MB\n"
          ]
        }
      ]
    },
    {
      "cell_type": "markdown",
      "source": [
        "# Partition data into train and test splits so we can start training the model using k-fold validation"
      ],
      "metadata": {
        "id": "iWWVbzOvHgR2"
      }
    },
    {
      "cell_type": "code",
      "source": [
        "# display the shape of the data\n",
        "df_song.shape"
      ],
      "metadata": {
        "colab": {
          "base_uri": "https://localhost:8080/"
        },
        "id": "l1NB2vMuSMVA",
        "outputId": "ba72787e-01ba-4486-c2f4-1c767a0a037f"
      },
      "execution_count": null,
      "outputs": [
        {
          "output_type": "execute_result",
          "data": {
            "text/plain": [
              "(32833, 15)"
            ]
          },
          "metadata": {},
          "execution_count": 59
        }
      ]
    },
    {
      "cell_type": "code",
      "source": [
        "# Extract features and labels and create set to store them\n",
        "X = df_song.drop(['playlist_genre', 'numeric_genre'], axis=1)  # feature set\n",
        "y = df_song['numeric_genre'] # target variable"
      ],
      "metadata": {
        "id": "zAicgHZcLc-F"
      },
      "execution_count": null,
      "outputs": []
    },
    {
      "cell_type": "markdown",
      "source": [
        "# Now data is ready to used for training and testing purpose. We also perform hyperparameter tuning and report test/train error and test accuracy. Plots are included."
      ],
      "metadata": {
        "id": "_7rQF__mHoB0"
      }
    },
    {
      "cell_type": "markdown",
      "source": [
        "# Try K-NN classifier with parameter tuning"
      ],
      "metadata": {
        "id": "f2UexaztM4e2"
      }
    },
    {
      "cell_type": "code",
      "source": [
        "# Split the data into training and testing sets\n",
        "X_train, X_test, y_train, y_test = train_test_split(X, y,\n",
        "                                                    test_size=0.25,\n",
        "                                                    random_state=7,\n",
        "                                                    shuffle=True)"
      ],
      "metadata": {
        "id": "vMfFhZyEUh0d"
      },
      "execution_count": null,
      "outputs": []
    },
    {
      "cell_type": "code",
      "source": [
        "print('Training Features Shape:', X_train.shape)\n",
        "print('Training Labels Shape:', y_train.shape)\n",
        "print('Testing Features Shape:', X_test.shape)\n",
        "print('Testing Labels Shape:', y_test.shape)"
      ],
      "metadata": {
        "colab": {
          "base_uri": "https://localhost:8080/"
        },
        "id": "oCctQIz6m9NJ",
        "outputId": "a0d14046-7583-44c0-f0a8-75265a06090b"
      },
      "execution_count": null,
      "outputs": [
        {
          "output_type": "stream",
          "name": "stdout",
          "text": [
            "Training Features Shape: (24624, 13)\n",
            "Training Labels Shape: (24624,)\n",
            "Testing Features Shape: (8209, 13)\n",
            "Testing Labels Shape: (8209,)\n"
          ]
        }
      ]
    },
    {
      "cell_type": "code",
      "source": [
        "from sklearn import metrics\n",
        "\n",
        "# parameters\n",
        "kvals = [5, 6, 7, 8, 9, 10, 11, 12, 13, 14, 15, 16]\n",
        "\n",
        "# test and train error list\n",
        "knn_test_errors = []\n",
        "knn_train_errors = []\n",
        "\n",
        "for k in kvals:\n",
        "    knn = KNeighborsClassifier(n_neighbors=k)\n",
        "    knn.fit(X_train, y_train)\n",
        "\n",
        "    # get train errors\n",
        "    train_accuracy = knn.score(X_train, y_train)\n",
        "    knn_train_errors.append(1 - train_accuracy)\n",
        "\n",
        "    # predict on test data and get the test error (complement of accuracy)\n",
        "    # against its true labels\n",
        "    knn_accuracy = knn.score(X_test, y_test)\n",
        "    knn_test_errors.append(1 - knn_accuracy)\n",
        "\n",
        "    print(f'KNN with k={k} has test accuracy of {knn_accuracy:.8f}')"
      ],
      "metadata": {
        "colab": {
          "base_uri": "https://localhost:8080/"
        },
        "id": "VgJCm0SuJym8",
        "outputId": "b8dd4149-9ddf-4d25-ba69-f7052f025f99"
      },
      "execution_count": null,
      "outputs": [
        {
          "output_type": "stream",
          "name": "stdout",
          "text": [
            "KNN with k=5 has test accuracy of 0.26483128\n",
            "KNN with k=6 has test accuracy of 0.25849677\n",
            "KNN with k=7 has test accuracy of 0.25191863\n",
            "KNN with k=8 has test accuracy of 0.25033500\n",
            "KNN with k=9 has test accuracy of 0.24862955\n",
            "KNN with k=10 has test accuracy of 0.25118772\n",
            "KNN with k=11 has test accuracy of 0.24643684\n",
            "KNN with k=12 has test accuracy of 0.24339140\n",
            "KNN with k=13 has test accuracy of 0.24607139\n",
            "KNN with k=14 has test accuracy of 0.24899501\n",
            "KNN with k=15 has test accuracy of 0.24777683\n",
            "KNN with k=16 has test accuracy of 0.24765501\n"
          ]
        }
      ]
    },
    {
      "cell_type": "code",
      "source": [
        "# best test accuracy\n",
        "print(1-min(knn_test_errors))"
      ],
      "metadata": {
        "colab": {
          "base_uri": "https://localhost:8080/"
        },
        "id": "IstQ_JtyN458",
        "outputId": "db7a6a83-2ac2-4496-df86-4418a0665b60"
      },
      "execution_count": null,
      "outputs": [
        {
          "output_type": "stream",
          "name": "stdout",
          "text": [
            "0.2648312827384578\n"
          ]
        }
      ]
    },
    {
      "cell_type": "code",
      "source": [
        "plt.figure(figsize=(10, 4))\n",
        "plt.plot(kvals, knn_test_errors, label='Test Error', marker='o')\n",
        "plt.plot(kvals, knn_train_errors, label='Test Error', marker='s')\n",
        "plt.title('Train and Test Errors vs. Number of Neighbors (k)')\n",
        "plt.xlabel('Number of neighbors (k)')\n",
        "plt.ylabel('Errors')\n",
        "plt.legend()\n",
        "plt.show()"
      ],
      "metadata": {
        "colab": {
          "base_uri": "https://localhost:8080/",
          "height": 604
        },
        "id": "bxUZHg9IKXv1",
        "outputId": "35b3f3ae-7ff6-44d8-9daf-b971f1928130"
      },
      "execution_count": null,
      "outputs": [
        {
          "output_type": "error",
          "ename": "NameError",
          "evalue": "ignored",
          "traceback": [
            "\u001b[0;31m---------------------------------------------------------------------------\u001b[0m",
            "\u001b[0;31mNameError\u001b[0m                                 Traceback (most recent call last)",
            "\u001b[0;32m<ipython-input-45-272a54ae8062>\u001b[0m in \u001b[0;36m<cell line: 3>\u001b[0;34m()\u001b[0m\n\u001b[1;32m      1\u001b[0m \u001b[0mplt\u001b[0m\u001b[0;34m.\u001b[0m\u001b[0mfigure\u001b[0m\u001b[0;34m(\u001b[0m\u001b[0mfigsize\u001b[0m\u001b[0;34m=\u001b[0m\u001b[0;34m(\u001b[0m\u001b[0;36m10\u001b[0m\u001b[0;34m,\u001b[0m \u001b[0;36m4\u001b[0m\u001b[0;34m)\u001b[0m\u001b[0;34m)\u001b[0m\u001b[0;34m\u001b[0m\u001b[0;34m\u001b[0m\u001b[0m\n\u001b[1;32m      2\u001b[0m \u001b[0mplt\u001b[0m\u001b[0;34m.\u001b[0m\u001b[0mplot\u001b[0m\u001b[0;34m(\u001b[0m\u001b[0mkvals\u001b[0m\u001b[0;34m,\u001b[0m \u001b[0mknn_test_errors\u001b[0m\u001b[0;34m,\u001b[0m \u001b[0mlabel\u001b[0m\u001b[0;34m=\u001b[0m\u001b[0;34m'Test Error'\u001b[0m\u001b[0;34m,\u001b[0m \u001b[0mmarker\u001b[0m\u001b[0;34m=\u001b[0m\u001b[0;34m'o'\u001b[0m\u001b[0;34m)\u001b[0m\u001b[0;34m\u001b[0m\u001b[0;34m\u001b[0m\u001b[0m\n\u001b[0;32m----> 3\u001b[0;31m \u001b[0mplt\u001b[0m\u001b[0;34m.\u001b[0m\u001b[0mplot\u001b[0m\u001b[0;34m(\u001b[0m\u001b[0mkvals\u001b[0m\u001b[0;34m,\u001b[0m \u001b[0mknn_train_errors\u001b[0m\u001b[0;34m,\u001b[0m \u001b[0mlabel\u001b[0m\u001b[0;34m=\u001b[0m\u001b[0;34m'Test Error'\u001b[0m\u001b[0;34m,\u001b[0m \u001b[0mmarker\u001b[0m\u001b[0;34m=\u001b[0m\u001b[0;34m's'\u001b[0m\u001b[0;34m)\u001b[0m\u001b[0;34m\u001b[0m\u001b[0;34m\u001b[0m\u001b[0m\n\u001b[0m\u001b[1;32m      4\u001b[0m \u001b[0mplt\u001b[0m\u001b[0;34m.\u001b[0m\u001b[0mtitle\u001b[0m\u001b[0;34m(\u001b[0m\u001b[0;34m'Train and Test Errors vs. Number of Neighbors (k)'\u001b[0m\u001b[0;34m)\u001b[0m\u001b[0;34m\u001b[0m\u001b[0;34m\u001b[0m\u001b[0m\n\u001b[1;32m      5\u001b[0m \u001b[0mplt\u001b[0m\u001b[0;34m.\u001b[0m\u001b[0mxlabel\u001b[0m\u001b[0;34m(\u001b[0m\u001b[0;34m'Number of neighbors (k)'\u001b[0m\u001b[0;34m)\u001b[0m\u001b[0;34m\u001b[0m\u001b[0;34m\u001b[0m\u001b[0m\n",
            "\u001b[0;31mNameError\u001b[0m: name 'knn_train_errors' is not defined"
          ]
        },
        {
          "output_type": "display_data",
          "data": {
            "text/plain": [
              "<Figure size 1000x400 with 1 Axes>"
            ],
            "image/png": "[encoded data removed]"
          },
          "metadata": {}
        }
      ]
    },
    {
      "cell_type": "markdown",
      "source": [
        "Overall, this KNN classifier has bad accuracy performance and has high train and test error. Let's try another model."
      ],
      "metadata": {
        "id": "SXbyyJq6brMo"
      }
    },
    {
      "cell_type": "markdown",
      "source": [
        "# Logistic Regression\n",
        "try logistic regression and logistic regression using SGD from sklearn"
      ],
      "metadata": {
        "id": "wT63TlkRUiYS"
      }
    },
    {
      "cell_type": "code",
      "source": [
        "from sklearn.linear_model import SGDClassifier\n",
        "from sklearn.linear_model import LogisticRegression\n",
        "\n",
        "lr = LogisticRegression(multi_class='multinomial', n_jobs = 5)\n",
        "lr.fit(X_train, y_train)\n",
        "lr_accuracy = lr.score(X_test, y_test)\n",
        "# append the list of test error for the current alpha val\n",
        "lr_accuracy"
      ],
      "metadata": {
        "id": "FjVVUfI0UmZa",
        "colab": {
          "base_uri": "https://localhost:8080/"
        },
        "outputId": "359e770f-0cfb-4dfb-c6e2-66acf24c0095"
      },
      "execution_count": null,
      "outputs": [
        {
          "output_type": "execute_result",
          "data": {
            "text/plain": [
              "0.18443172128152027"
            ]
          },
          "metadata": {},
          "execution_count": 21
        }
      ]
    },
    {
      "cell_type": "code",
      "source": [
        "lr_test_errors = []\n",
        "lr_train_errors = []\n",
        "\n",
        "learning_rates = [5.0, 4.75, 4.5, 4.0, 3.75, 3.5, 3.25, 3.0, 2.0]\n",
        "\n",
        "for eta in learning_rates:\n",
        "    # train and fit the model with logistic regression\n",
        "    lr = SGDClassifier(loss='log_loss', penalty = 'l2', eta0 = eta)\n",
        "    lr.fit(X_train, y_train)\n",
        "\n",
        "    # predict on train data and get the train error (complement of accuracy)\n",
        "    accuracy_train = lr.score(X_train, y_train)\n",
        "    lr_train_errors.append(1 - accuracy_train)\n",
        "\n",
        "    # predict on test data and get the test error (complement of accuracy)\n",
        "    # against its true labels\n",
        "    accuracy = lr.score(X_test, y_test)\n",
        "    lr_test_errors.append(1-accuracy)\n",
        "\n",
        "    print(f'lr={eta} has test accuracy of {accuracy:.12f}')"
      ],
      "metadata": {
        "colab": {
          "base_uri": "https://localhost:8080/"
        },
        "id": "yejf89b_YqQC",
        "outputId": "b8ed2d88-6b1a-4ff9-d1be-52150e167c82"
      },
      "execution_count": null,
      "outputs": [
        {
          "output_type": "stream",
          "name": "stdout",
          "text": [
            "lr=5.0 has test accuracy of 0.171884516994\n",
            "lr=4.75 has test accuracy of 0.184431721282\n",
            "lr=4.5 has test accuracy of 0.162260933122\n",
            "lr=4.0 has test accuracy of 0.154342794494\n",
            "lr=3.75 has test accuracy of 0.190278962115\n",
            "lr=3.5 has test accuracy of 0.154220976976\n",
            "lr=3.25 has test accuracy of 0.171884516994\n",
            "lr=3.0 has test accuracy of 0.159946400292\n",
            "lr=2.0 has test accuracy of 0.171884516994\n"
          ]
        }
      ]
    },
    {
      "cell_type": "code",
      "source": [
        "plt.figure(figsize=(10, 4))\n",
        "plt.plot(learning_rates, lr_test_errors, label='Test Error', marker='o')\n",
        "plt.plot(learning_rates, lr_train_errors, label='Train Error', marker='s')\n",
        "plt.title('Test and Train Errors vs. Learning Rates')\n",
        "plt.xlabel('learning rate')\n",
        "plt.ylabel('Errors')\n",
        "plt.legend()\n",
        "plt.show()"
      ],
      "metadata": {
        "colab": {
          "base_uri": "https://localhost:8080/",
          "height": 410
        },
        "id": "trg7hvHFeFlO",
        "outputId": "406920c7-d393-43c3-867b-2c49a6ad87de"
      },
      "execution_count": null,
      "outputs": [
        {
          "output_type": "display_data",
          "data": {
            "text/plain": [
              "<Figure size 1000x400 with 1 Axes>"
            ],
            "image/png": "[encoded data removed]"
          },
          "metadata": {}
        }
      ]
    },
    {
      "cell_type": "markdown",
      "source": [
        "# Constrained Decision Tree and Random Forest\n",
        "\n",
        "constrains on maximum depth, maximum leaf nodes and minimum samples on a leaf"
      ],
      "metadata": {
        "id": "o3-nmUa1Uovh"
      }
    },
    {
      "cell_type": "code",
      "source": [
        "from sklearn.tree import DecisionTreeClassifier\n",
        "from sklearn.metrics import accuracy_score\n",
        "from sklearn.svm import SVC\n",
        "from sklearn import tree\n",
        "from sklearn.tree import export_graphviz\n",
        "import pydot\n",
        "\n",
        "clt_train_errors = []\n",
        "clt_test_errors = []\n",
        "\n",
        "nodes = [30, 50, 100, 200, 300, 350, 450, 500, 600, 700, None]\n",
        "for d in nodes:\n",
        "  clt = DecisionTreeClassifier(criterion=\"entropy\", max_features=10, max_leaf_nodes=d)\n",
        "  clt.fit(X_train, y_train)\n",
        "\n",
        "  accuracy = clt.score(X_train, y_train)\n",
        "  clt_train_errors.append(1-accuracy)\n",
        "\n",
        "\n",
        "  accuracy = clt.score(X_test, y_test)\n",
        "  clt_test_errors.append(1-accuracy)\n",
        "\n",
        "  print(f'max_leaf_nodes={d} has test accuracy of {accuracy:.12f}')"
      ],
      "metadata": {
        "id": "ljHKX3xIUolD",
        "colab": {
          "base_uri": "https://localhost:8080/"
        },
        "outputId": "c95b2e29-8add-42d1-f3b3-5ad0fcc32d3e"
      },
      "execution_count": null,
      "outputs": [
        {
          "output_type": "stream",
          "name": "stdout",
          "text": [
            "max_leaf_nodes=30 has test accuracy of 0.416128639298\n",
            "max_leaf_nodes=50 has test accuracy of 0.442197588013\n",
            "max_leaf_nodes=100 has test accuracy of 0.462906565964\n",
            "max_leaf_nodes=200 has test accuracy of 0.480813741016\n",
            "max_leaf_nodes=300 has test accuracy of 0.480326470947\n",
            "max_leaf_nodes=350 has test accuracy of 0.481910098672\n",
            "max_leaf_nodes=450 has test accuracy of 0.489097332196\n",
            "max_leaf_nodes=500 has test accuracy of 0.476184675356\n",
            "max_leaf_nodes=600 has test accuracy of 0.484468266537\n",
            "max_leaf_nodes=700 has test accuracy of 0.483615543915\n",
            "max_leaf_nodes=None has test accuracy of 0.442075770496\n"
          ]
        }
      ]
    },
    {
      "cell_type": "code",
      "source": [
        "print(1-min(clt_test_errors))"
      ],
      "metadata": {
        "colab": {
          "base_uri": "https://localhost:8080/"
        },
        "id": "bbOgQEHVTkqV",
        "outputId": "a4ce8694-b3c8-4e60-a3ad-39718d250f08"
      },
      "execution_count": null,
      "outputs": [
        {
          "output_type": "stream",
          "name": "stdout",
          "text": [
            "0.48909733219636986\n"
          ]
        }
      ]
    },
    {
      "cell_type": "code",
      "source": [
        "plt.figure(figsize=(10, 4))\n",
        "plt.plot(nodes, clt_test_errors, label='Test Error', marker='o')\n",
        "plt.plot(nodes, clt_train_errors, label='Train Error', marker='s')\n",
        "plt.title('Errors vs. Nodes')\n",
        "plt.xlabel('Number of nodes')\n",
        "plt.ylabel('Errors')\n",
        "plt.legend()\n",
        "plt.show()"
      ],
      "metadata": {
        "colab": {
          "base_uri": "https://localhost:8080/",
          "height": 410
        },
        "id": "VEdBu5qSTocJ",
        "outputId": "b218ab9a-6f0d-4706-f612-137644ab3f38"
      },
      "execution_count": null,
      "outputs": [
        {
          "output_type": "display_data",
          "data": {
            "text/plain": [
              "<Figure size 1000x400 with 1 Axes>"
            ],
            "image/png": "[encoded data removed]"
          },
          "metadata": {}
        }
      ]
    },
    {
      "cell_type": "code",
      "source": [
        "clt = DecisionTreeClassifier(criterion=\"entropy\", max_features=10, max_leaf_nodes=350)\n",
        "clt.fit(X_train, y_train)\n",
        "# Get numerical feature importances\n",
        "importances = list(clt.feature_importances_)\n",
        "# List of tuples with variable and importance\n",
        "feature_importances = [(feature, round(importance, 2)) for feature, importance in zip(feature_list, importances)]\n",
        "# Sort the feature importances by most important first\n",
        "feature_importances = sorted(feature_importances, key = lambda x: x[1], reverse = True)\n",
        "# Print out the feature and importances\n",
        "[print('Variable: {:20} Importance: {}'.format(*pair)) for pair in feature_importances];\n"
      ],
      "metadata": {
        "colab": {
          "base_uri": "https://localhost:8080/"
        },
        "id": "0jJFK_QUVeHw",
        "outputId": "b8b9bb5a-759e-492f-f947-7ccba634c486"
      },
      "execution_count": null,
      "outputs": [
        {
          "output_type": "stream",
          "name": "stdout",
          "text": [
            "Variable: tempo                Importance: 0.21\n",
            "Variable: speechiness          Importance: 0.19\n",
            "Variable: danceability         Importance: 0.15\n",
            "Variable: energy               Importance: 0.12\n",
            "Variable: valence              Importance: 0.08\n",
            "Variable: instrumentalness     Importance: 0.07\n",
            "Variable: duration_ms          Importance: 0.07\n",
            "Variable: loudness             Importance: 0.05\n",
            "Variable: acousticness         Importance: 0.04\n",
            "Variable: track_popularity     Importance: 0.02\n",
            "Variable: liveness             Importance: 0.01\n",
            "Variable: key                  Importance: 0.0\n",
            "Variable: mode                 Importance: 0.0\n"
          ]
        }
      ]
    },
    {
      "cell_type": "markdown",
      "source": [
        "We can see that Decision tree performs better than logistic regression and knn classifier, we can proceed to use random forest - random ordering of feature selections. Let's also compare the feature importance from random forest."
      ],
      "metadata": {
        "id": "3F6zKy4ITxGk"
      }
    },
    {
      "cell_type": "code",
      "source": [
        "from sklearn.ensemble import RandomForestClassifier, RandomForestRegressor\n",
        "\n",
        "depths = [5, 10, 20, 30]\n",
        "rfc_test_errors = []\n",
        "rfc_train_errors = []\n",
        "\n",
        "for d in depths:\n",
        "  rfc = RandomForestClassifier(criterion=\"entropy\", max_depth=500, max_features=d)\n",
        "  rfc.fit(X_train, y_train)\n",
        "\n",
        "  accuracy = rfc.score(X_train, y_train)\n",
        "  rfc_train_errors.append(1-accuracy)\n",
        "\n",
        "  accuracy = rfc.score(X_test, y_test)\n",
        "  rfc_test_errors.append(1-accuracy)\n",
        "\n",
        "  print(f'max_depths={d} has test accuracy of {accuracy:.12f}')"
      ],
      "metadata": {
        "colab": {
          "base_uri": "https://localhost:8080/"
        },
        "id": "38t7xZgFmE2h",
        "outputId": "7d4b39ce-6011-4bd4-d07a-8d4563441b5f"
      },
      "execution_count": null,
      "outputs": [
        {
          "output_type": "stream",
          "name": "stdout",
          "text": [
            "max_depths=5 has test accuracy of 0.553904251431\n",
            "max_depths=10 has test accuracy of 0.553538798879\n",
            "max_depths=20 has test accuracy of 0.550493360945\n",
            "max_depths=30 has test accuracy of 0.552686076258\n"
          ]
        }
      ]
    },
    {
      "cell_type": "code",
      "source": [
        "plt.figure(figsize=(10, 4))\n",
        "plt.plot(depths, rfc_test_errors, label='Test Error', marker='o')\n",
        "plt.plot(depths, rfc_train_errors, label='Train Error', marker='s')\n",
        "plt.title('Errors vs. Max Depths')\n",
        "plt.xlabel('Max depths')\n",
        "plt.ylabel('Errors')\n",
        "plt.legend()\n",
        "plt.show()"
      ],
      "metadata": {
        "colab": {
          "base_uri": "https://localhost:8080/",
          "height": 410
        },
        "id": "HKXXNIxQa5c6",
        "outputId": "097d79f2-0698-4a9a-a55f-1ce848d0e6dc"
      },
      "execution_count": null,
      "outputs": [
        {
          "output_type": "display_data",
          "data": {
            "text/plain": [
              "<Figure size 1000x400 with 1 Axes>"
            ],
            "image/png": "[encoded data removed]"
          },
          "metadata": {}
        }
      ]
    },
    {
      "cell_type": "code",
      "source": [
        "rfc = RandomForestClassifier(criterion=\"entropy\", max_depth=500, max_features=10)\n",
        "rfc.fit(X_train, y_train)\n",
        "# Get numerical feature importances\n",
        "importances = list(rfc.feature_importances_)\n",
        "# List of tuples with variable and importance\n",
        "feature_importances = [(feature, round(importance, 2)) for feature, importance in zip(feature_list, importances)]\n",
        "# Sort the feature importances by most important first\n",
        "feature_importances = sorted(feature_importances, key = lambda x: x[1], reverse = True)\n",
        "# Print out the feature and importances\n",
        "[print('Variable: {:20} Importance: {}'.format(*pair)) for pair in feature_importances];\n"
      ],
      "metadata": {
        "colab": {
          "base_uri": "https://localhost:8080/"
        },
        "id": "kwNYrALeX01q",
        "outputId": "35bb21f8-4501-4a7d-a05e-b03147bbb0aa"
      },
      "execution_count": null,
      "outputs": [
        {
          "output_type": "stream",
          "name": "stdout",
          "text": [
            "Variable: tempo                Importance: 0.13\n",
            "Variable: speechiness          Importance: 0.12\n",
            "Variable: danceability         Importance: 0.11\n",
            "Variable: energy               Importance: 0.1\n",
            "Variable: valence              Importance: 0.09\n",
            "Variable: duration_ms          Importance: 0.08\n",
            "Variable: track_popularity     Importance: 0.07\n",
            "Variable: loudness             Importance: 0.07\n",
            "Variable: acousticness         Importance: 0.07\n",
            "Variable: instrumentalness     Importance: 0.06\n",
            "Variable: liveness             Importance: 0.05\n",
            "Variable: key                  Importance: 0.03\n",
            "Variable: mode                 Importance: 0.01\n"
          ]
        }
      ]
    },
    {
      "cell_type": "markdown",
      "source": [
        "Comparing the feature importance to that in the single decision tree, we can see that the top three features of most importance ar etempo. sppechiness, danceability. And the last three unimportant features are liveness, key, and mode. Feature selection may help improve test accuracy."
      ],
      "metadata": {
        "id": "cL211whYc4CJ"
      }
    },
    {
      "cell_type": "markdown",
      "source": [
        "# Neural Network\n",
        "We try to train some simple neural network model to see if there is more space for test accuracy increase"
      ],
      "metadata": {
        "id": "rRnTq1Q6UlOF"
      }
    },
    {
      "cell_type": "code",
      "source": [
        "import torch\n",
        "from torch.utils.data import DataLoader, TensorDataset\n",
        "\n",
        "# convert data to PyTorch tensors\n",
        "X_train_tensor, X_test_tensor = torch.FloatTensor(X_train.values), torch.FloatTensor(X_test.values)\n",
        "y_train_tensor, y_test_tensor = torch.LongTensor(y_train.values), torch.LongTensor(y_test.values)"
      ],
      "metadata": {
        "id": "INgCA1D2jqTr"
      },
      "execution_count": null,
      "outputs": []
    },
    {
      "cell_type": "code",
      "source": [
        "train_data, test_data = TensorDataset(X_train_tensor, y_train_tensor), TensorDataset(X_test_tensor, y_test_tensor)\n",
        "\n",
        "trainLoader = DataLoader(train_data, batch_size=64, shuffle=True)\n",
        "testLoader = DataLoader(test_data, batch_size=64, shuffle=False)"
      ],
      "metadata": {
        "id": "TSKP7RlXurwO"
      },
      "execution_count": null,
      "outputs": []
    },
    {
      "cell_type": "code",
      "source": [
        "import torch.nn.functional as F\n",
        "import torch.nn as nn\n",
        "import torch.nn.init as init\n",
        "\n",
        "class NeuralNetwork(torch.nn.Module):\n",
        "  def __init__(self, input_size, hidden_size, num_classes):\n",
        "    super(NeuralNetwork, self).__init__()\n",
        "     # Convolutional layers\n",
        "    self.conv1d = nn.Conv1d(in_channels=1, out_channels=64, kernel_size=3, stride=1, padding=1)\n",
        "    self.relu = nn.ReLU()\n",
        "    self.maxpool = nn.MaxPool1d(kernel_size=2, stride=2)\n",
        "    # Recurrent layers (LSTM)\n",
        "    self.lstm = nn.LSTM(input_size=64, hidden_size=hidden_size, num_layers=2, batch_first=True, dropout=0.5, bidirectional=True)\n",
        "    # Fully connected layer\n",
        "    self.fc = nn.Linear(hidden_size * 2, num_classes)\n",
        "\n",
        "\n",
        "  def forward(self, x):\n",
        "     # Input shape: (batch_size, sequence_length, input_size)\n",
        "    x = x.unsqueeze(1)  # Add channel dimension for 1D convolution\n",
        "    x = self.conv1d(x)\n",
        "    x = self.relu(x)\n",
        "    x = self.maxpool(x)\n",
        "    # Permute dimensions for LSTM input: (batch_size, sequence_length, input_size)\n",
        "    x = x.permute(0, 2, 1)\n",
        "    # LSTM layer\n",
        "    x, _ = self.lstm(x)\n",
        "    # Global max pooling over the sequence dimension\n",
        "    x = torch.max(x, dim=1).values\n",
        "    # Fully connected layer\n",
        "    x = self.fc(x)\n",
        "    return x"
      ],
      "metadata": {
        "id": "aqxVrkgXUllh"
      },
      "execution_count": null,
      "outputs": []
    },
    {
      "cell_type": "code",
      "source": [
        "# parameters\n",
        "train_loss_history = []\n",
        "test_accuracy_history = []\n",
        "test_loss_history = []\n",
        "num_epochs = 30\n",
        "\n",
        "input_size = 13\n",
        "hidden_size = 64\n",
        "num_classes = 7\n",
        "\n",
        "net = NeuralNetwork(input_size, hidden_size, num_classes)\n",
        "Loss = torch.nn.CrossEntropyLoss()\n",
        "optimizer = torch.optim.Adam(net.parameters(), lr=0.01)\n",
        "\n",
        "print(net)"
      ],
      "metadata": {
        "colab": {
          "base_uri": "https://localhost:8080/"
        },
        "id": "Fe9EybN0i9Yx",
        "outputId": "c302aab4-8403-4100-c7df-b8420898e58e"
      },
      "execution_count": null,
      "outputs": [
        {
          "output_type": "stream",
          "name": "stdout",
          "text": [
            "NeuralNetwork(\n",
            "  (conv1d): Conv1d(1, 64, kernel_size=(3,), stride=(1,), padding=(1,))\n",
            "  (relu): ReLU()\n",
            "  (maxpool): MaxPool1d(kernel_size=2, stride=2, padding=0, dilation=1, ceil_mode=False)\n",
            "  (lstm): LSTM(64, 64, num_layers=2, batch_first=True, dropout=0.5, bidirectional=True)\n",
            "  (fc): Linear(in_features=128, out_features=7, bias=True)\n",
            ")\n"
          ]
        }
      ]
    },
    {
      "cell_type": "code",
      "source": [
        "for epoch in range(num_epochs):\n",
        "  train_loss = 0.0\n",
        "  test_loss = 0.0\n",
        "  net.train()\n",
        "  for X_train, y_train in trainLoader:\n",
        "     # zero the parameter gradients\n",
        "    optimizer.zero_grad()\n",
        "    # forward + backward + optimize\n",
        "    predicted_output = net(X_train)\n",
        "    fit = Loss(predicted_output, y_train)\n",
        "    fit.backward()\n",
        "    optimizer.step()\n",
        "    train_loss += fit.item()\n",
        "\n",
        "  total, correct = 0, 0\n",
        "  net.eval() # don't update weights\n",
        "  for X_test, y_test in testLoader:\n",
        "    with torch.no_grad():\n",
        "        predicted_output = net(X_test)\n",
        "        fit = Loss(predicted_output, y_test)\n",
        "\n",
        "        _, predicted_labels = torch.max(predicted_output,1)\n",
        "        total += y_test.size(0)\n",
        "        correct += (predicted_labels == y_test).sum().item()\n",
        "        test_accuracy = 100 * correct/total\n",
        "\n",
        "        test_loss += fit.item()\n",
        "\n",
        "  train_loss = train_loss/len(trainLoader)\n",
        "  test_loss = test_loss/len(testLoader)\n",
        "  train_loss_history.append(train_loss)\n",
        "  test_loss_history.append(test_loss)\n",
        "  test_accuracy_history.append(test_accuracy)\n",
        "  print('Epoch %s, Train loss %s, Test loss %s, test acc = %0.2f'%(epoch, train_loss, test_loss, test_accuracy))"
      ],
      "metadata": {
        "colab": {
          "base_uri": "https://localhost:8080/"
        },
        "id": "mKCsGUgrkRk_",
        "outputId": "ae7fd444-4d51-4ee1-aa73-394e8136ded3"
      },
      "execution_count": null,
      "outputs": [
        {
          "output_type": "stream",
          "name": "stdout",
          "text": [
            "Epoch 0, Train loss 1.7638081349335708, Test loss 1.6777118407478628, test acc = 29.86\n",
            "Epoch 1, Train loss 1.6389730020002886, Test loss 1.5657861084901086, test acc = 37.09\n",
            "Epoch 2, Train loss 1.579895729213566, Test loss 1.5362125274746916, test acc = 38.62\n",
            "Epoch 3, Train loss 1.5526820972368314, Test loss 1.526590527490128, test acc = 38.62\n",
            "Epoch 4, Train loss 1.539424221546619, Test loss 1.5325294880903968, test acc = 38.31\n",
            "Epoch 5, Train loss 1.5344403700395064, Test loss 1.5281357330869334, test acc = 39.91\n",
            "Epoch 6, Train loss 1.526311705638836, Test loss 1.511768332747526, test acc = 39.40\n",
            "Epoch 7, Train loss 1.5220140838003777, Test loss 1.5102515904478324, test acc = 39.74\n",
            "Epoch 8, Train loss 1.5157846958606274, Test loss 1.4955402437106584, test acc = 40.33\n",
            "Epoch 9, Train loss 1.516656866940585, Test loss 1.503632387449575, test acc = 39.51\n",
            "Epoch 10, Train loss 1.513643622088742, Test loss 1.4907666518706684, test acc = 40.59\n",
            "Epoch 11, Train loss 1.5045070484087064, Test loss 1.496838082638822, test acc = 39.57\n",
            "Epoch 12, Train loss 1.503649361102612, Test loss 1.4829783513564472, test acc = 41.22\n",
            "Epoch 13, Train loss 1.4998818115754562, Test loss 1.4938577265702477, test acc = 40.88\n",
            "Epoch 14, Train loss 1.4959630356206521, Test loss 1.480252228041952, test acc = 41.43\n",
            "Epoch 15, Train loss 1.4915179190697607, Test loss 1.4801332617914953, test acc = 40.63\n",
            "Epoch 16, Train loss 1.4890129398989986, Test loss 1.4830457674440487, test acc = 41.54\n",
            "Epoch 17, Train loss 1.4836508079008623, Test loss 1.4726242252098498, test acc = 41.92\n",
            "Epoch 18, Train loss 1.4876231651801568, Test loss 1.484970631525498, test acc = 41.63\n",
            "Epoch 19, Train loss 1.4854657058591967, Test loss 1.4640153018079063, test acc = 42.20\n",
            "Epoch 20, Train loss 1.4852734318027248, Test loss 1.4706854515297467, test acc = 41.84\n",
            "Epoch 21, Train loss 1.4814513197192898, Test loss 1.4835772643717684, test acc = 40.64\n",
            "Epoch 22, Train loss 1.4827564505787638, Test loss 1.4619683600211328, test acc = 42.26\n",
            "Epoch 23, Train loss 1.4790744849613735, Test loss 1.4818857612535936, test acc = 41.82\n",
            "Epoch 24, Train loss 1.4814312501387163, Test loss 1.468264290528704, test acc = 42.27\n",
            "Epoch 25, Train loss 1.4802595302656099, Test loss 1.4697169037752373, test acc = 41.88\n",
            "Epoch 26, Train loss 1.477179547718593, Test loss 1.4754046848578046, test acc = 41.98\n",
            "Epoch 27, Train loss 1.479589009284973, Test loss 1.4630197933477949, test acc = 42.43\n",
            "Epoch 28, Train loss 1.4748790638787406, Test loss 1.4743286944174951, test acc = 41.58\n",
            "Epoch 29, Train loss 1.4769011029949437, Test loss 1.474684195925099, test acc = 41.39\n"
          ]
        }
      ]
    },
    {
      "cell_type": "code",
      "source": [
        "plt.figure(figsize=(12, 5))\n",
        "plt.subplot(1, 2, 1)\n",
        "plt.plot(train_loss_history, label='Train Loss')\n",
        "plt.plot(test_loss_history, label='Test Loss')\n",
        "plt.title('Loss per Epoch')\n",
        "plt.xlabel('Epoch')\n",
        "plt.ylabel('Loss')\n",
        "plt.legend()\n",
        "\n",
        "plt.subplot(1, 2, 2)\n",
        "plt.plot(test_accuracy_history, label='Test Accuracy')\n",
        "plt.title('Accuracy per Epoch')\n",
        "plt.xlabel('Epoch')\n",
        "plt.ylabel('Accuracy (%)')\n",
        "plt.legend()\n",
        "\n",
        "plt.tight_layout()\n",
        "plt.show()"
      ],
      "metadata": {
        "colab": {
          "base_uri": "https://localhost:8080/",
          "height": 421
        },
        "id": "wFO6oatJeuVg",
        "outputId": "a18a9a74-d9a4-44a4-d28b-c4cad105fb99"
      },
      "execution_count": null,
      "outputs": [
        {
          "output_type": "display_data",
          "data": {
            "text/plain": [
              "<Figure size 1200x500 with 2 Axes>"
            ],
            "image/png": "[encoded data removed]"
          },
          "metadata": {}
        }
      ]
    },
    {
      "cell_type": "markdown",
      "source": [
        "Try with a 3-layer fully-connected network"
      ],
      "metadata": {
        "id": "h447-M7FiZtx"
      }
    },
    {
      "cell_type": "code",
      "source": [
        "import torch.optim as optim\n",
        "from torch.utils.data import DataLoader, TensorDataset\n",
        "import matplotlib.pyplot as plt\n",
        "\n",
        "# Define a fully connected network\n",
        "class NeuralNetwork(nn.Module):\n",
        "  def __init__(self, input_size):\n",
        "    super(NeuralNetwork, self).__init__()\n",
        "    self.fc1 = nn.Linear(input_size, 128)\n",
        "    self.fc2 = nn.Linear(128, 64)\n",
        "    # Output for 6 classes\n",
        "    self.fc3 = nn.Linear(64, 7)\n",
        "\n",
        "  def forward(self, x):\n",
        "    x = torch.relu(self.fc1(x))\n",
        "    x = torch.relu(self.fc2(x))\n",
        "    x = self.fc3(x)\n",
        "    return x\n",
        "\n",
        "# Function to train the model\n",
        "def train(model, train_loader, val_loader, epochs=10):\n",
        "  criterion = nn.CrossEntropyLoss()\n",
        "  optimizer = optim.Adam(model.parameters(), lr=0.001)\n",
        "\n",
        "  train_losses, val_losses = [], []\n",
        "  train_accuracies, val_accuracies = [], []\n",
        "\n",
        "  for epoch in range(epochs):\n",
        "    # Training phase\n",
        "    model.train()\n",
        "    running_loss = 0.0\n",
        "    correct, total = 0, 0\n",
        "    for data in train_loader:\n",
        "      inputs, labels = data\n",
        "      optimizer.zero_grad()\n",
        "      outputs = model(inputs)\n",
        "      loss = criterion(outputs, labels)\n",
        "      loss.backward()\n",
        "      optimizer.step()\n",
        "\n",
        "      running_loss += loss.item()\n",
        "      _, predicted = torch.max(outputs.data, 1)\n",
        "      total += labels.size(0)\n",
        "      correct += (predicted == labels).sum().item()\n",
        "\n",
        "    train_losses.append(running_loss / len(train_loader))\n",
        "    train_accuracies.append(100 * correct / total)\n",
        "\n",
        "    # Validation phase\n",
        "    model.eval()\n",
        "    val_loss = 0.0\n",
        "    correct, total = 0, 0\n",
        "    with torch.no_grad():\n",
        "      for data in val_loader:\n",
        "        inputs, labels = data\n",
        "        outputs = model(inputs)\n",
        "        loss = criterion(outputs, labels)\n",
        "\n",
        "        val_loss += loss.item()\n",
        "        _, predicted = torch.max(outputs.data, 1)\n",
        "        total += labels.size(0)\n",
        "        correct += (predicted == labels).sum().item()\n",
        "\n",
        "    val_losses.append(val_loss / len(val_loader))\n",
        "    val_accuracies.append(100 * correct / total)\n",
        "\n",
        "    print(f\"Epoch {epoch+1}/{epochs} - \"\n",
        "          f\"Train loss: {train_losses[-1]:.4f},\"\n",
        "          f\"Train accuracy: {train_accuracies[-1]:.2f}%, \"\n",
        "          f\"Val loss: {val_losses[-1]:.4f}, \"\n",
        "          f\"Val accuracy: {val_accuracies[-1]:.2f}%\")\n",
        "\n",
        "  return train_losses, val_losses, train_accuracies, val_accuracies"
      ],
      "metadata": {
        "id": "AYgpU6MPzVcF"
      },
      "execution_count": 137,
      "outputs": []
    },
    {
      "cell_type": "code",
      "source": [
        "from sklearn.preprocessing import StandardScaler\n",
        "\n",
        "# Split the data into training and teststing sets\n",
        "X_train, X_test, y_train, y_test = train_test_split(X, y,\n",
        "                                                    test_size=0.25,\n",
        "                                                    random_state=7,\n",
        "                                                    shuffle=True)\n",
        "s = StandardScaler()\n",
        "s.fit(X_train)\n",
        "x_train_scale = s.transform(X_train)\n",
        "x_test_scale = s.transform(X_test)\n",
        "\n",
        "\n",
        "# Convert the numpy arrays to PyTorch tensors\n",
        "x_train_tensor = torch.tensor(x_train_scale, dtype=torch.float)\n",
        "y_train_tensor = torch.tensor(y_train.values, dtype=torch.long)\n",
        "x_test_tensor = torch.tensor(x_test_scale, dtype=torch.float)\n",
        "y_test_tensor = torch.tensor(y_test.values, dtype=torch.long)\n",
        "\n",
        "# Update the DataLoader with the new data\n",
        "train_loader = DataLoader(TensorDataset(x_train_tensor, y_train_tensor), batch_size=64, shuffle=True)\n",
        "val_loader = DataLoader(TensorDataset(x_test_tensor, y_test_tensor), batch_size=64)\n",
        "input_size = x_train_scale.shape[1]\n",
        "\n",
        "# Reinitialize the model and retrain\n",
        "model = NeuralNetwork(input_size)\n",
        "epochs = 30\n",
        "train_losses, val_losses, train_accuracies, val_accuracies = train(model, train_loader, val_loader, epochs)"
      ],
      "metadata": {
        "colab": {
          "base_uri": "https://localhost:8080/"
        },
        "id": "76CP3lHhzVeL",
        "outputId": "1097a617-19f8-4e2f-9a2e-506a2ed831b3"
      },
      "execution_count": 138,
      "outputs": [
        {
          "output_type": "stream",
          "name": "stdout",
          "text": [
            "Epoch 1/30 - Train loss: 1.4050,Train accuracy: 46.24%, Val loss: 1.3037, Val accuracy: 49.84%\n",
            "Epoch 2/30 - Train loss: 1.2828,Train accuracy: 51.06%, Val loss: 1.2698, Val accuracy: 51.52%\n",
            "Epoch 3/30 - Train loss: 1.2493,Train accuracy: 52.38%, Val loss: 1.2543, Val accuracy: 51.80%\n",
            "Epoch 4/30 - Train loss: 1.2314,Train accuracy: 53.10%, Val loss: 1.2354, Val accuracy: 52.76%\n",
            "Epoch 5/30 - Train loss: 1.2166,Train accuracy: 53.87%, Val loss: 1.2387, Val accuracy: 52.63%\n",
            "Epoch 6/30 - Train loss: 1.2037,Train accuracy: 54.21%, Val loss: 1.2202, Val accuracy: 53.81%\n",
            "Epoch 7/30 - Train loss: 1.1926,Train accuracy: 54.68%, Val loss: 1.2141, Val accuracy: 53.50%\n",
            "Epoch 8/30 - Train loss: 1.1830,Train accuracy: 55.27%, Val loss: 1.2150, Val accuracy: 53.44%\n",
            "Epoch 9/30 - Train loss: 1.1743,Train accuracy: 55.29%, Val loss: 1.2106, Val accuracy: 53.77%\n",
            "Epoch 10/30 - Train loss: 1.1688,Train accuracy: 55.31%, Val loss: 1.2035, Val accuracy: 53.84%\n",
            "Epoch 11/30 - Train loss: 1.1597,Train accuracy: 55.86%, Val loss: 1.2040, Val accuracy: 53.95%\n",
            "Epoch 12/30 - Train loss: 1.1542,Train accuracy: 56.39%, Val loss: 1.2059, Val accuracy: 53.97%\n",
            "Epoch 13/30 - Train loss: 1.1503,Train accuracy: 56.38%, Val loss: 1.1984, Val accuracy: 54.27%\n",
            "Epoch 14/30 - Train loss: 1.1447,Train accuracy: 56.48%, Val loss: 1.1972, Val accuracy: 54.55%\n",
            "Epoch 15/30 - Train loss: 1.1413,Train accuracy: 56.78%, Val loss: 1.2028, Val accuracy: 53.94%\n",
            "Epoch 16/30 - Train loss: 1.1343,Train accuracy: 56.75%, Val loss: 1.1968, Val accuracy: 54.27%\n",
            "Epoch 17/30 - Train loss: 1.1296,Train accuracy: 57.03%, Val loss: 1.2004, Val accuracy: 54.31%\n",
            "Epoch 18/30 - Train loss: 1.1288,Train accuracy: 57.15%, Val loss: 1.1971, Val accuracy: 54.22%\n",
            "Epoch 19/30 - Train loss: 1.1225,Train accuracy: 57.10%, Val loss: 1.1932, Val accuracy: 54.44%\n",
            "Epoch 20/30 - Train loss: 1.1202,Train accuracy: 57.43%, Val loss: 1.1902, Val accuracy: 54.38%\n",
            "Epoch 21/30 - Train loss: 1.1165,Train accuracy: 57.26%, Val loss: 1.1942, Val accuracy: 54.55%\n",
            "Epoch 22/30 - Train loss: 1.1134,Train accuracy: 57.58%, Val loss: 1.2009, Val accuracy: 54.11%\n",
            "Epoch 23/30 - Train loss: 1.1118,Train accuracy: 57.77%, Val loss: 1.1906, Val accuracy: 54.60%\n",
            "Epoch 24/30 - Train loss: 1.1060,Train accuracy: 57.74%, Val loss: 1.1965, Val accuracy: 54.83%\n",
            "Epoch 25/30 - Train loss: 1.1035,Train accuracy: 57.74%, Val loss: 1.1963, Val accuracy: 54.51%\n",
            "Epoch 26/30 - Train loss: 1.1007,Train accuracy: 58.13%, Val loss: 1.1980, Val accuracy: 54.64%\n",
            "Epoch 27/30 - Train loss: 1.0987,Train accuracy: 58.28%, Val loss: 1.1947, Val accuracy: 54.55%\n",
            "Epoch 28/30 - Train loss: 1.0934,Train accuracy: 58.21%, Val loss: 1.1950, Val accuracy: 54.26%\n",
            "Epoch 29/30 - Train loss: 1.0927,Train accuracy: 58.42%, Val loss: 1.1984, Val accuracy: 54.50%\n",
            "Epoch 30/30 - Train loss: 1.0891,Train accuracy: 58.35%, Val loss: 1.1993, Val accuracy: 54.45%\n"
          ]
        }
      ]
    },
    {
      "cell_type": "code",
      "source": [
        "# Plotting the updated loss and accuracy\n",
        "plt.figure(figsize=(12, 5))\n",
        "plt.subplot(1, 2, 1)\n",
        "plt.plot(train_losses, label='Train Loss')\n",
        "plt.plot(val_losses, label='Validation Loss')\n",
        "plt.title('Loss per Epoch')\n",
        "plt.xlabel('Epoch')\n",
        "plt.ylabel('Loss')\n",
        "plt.legend()\n",
        "\n",
        "plt.subplot(1, 2, 2)\n",
        "plt.plot(train_accuracies, label='Train Accuracy')\n",
        "plt.plot(val_accuracies, label='Validation Accuracy')\n",
        "plt.title('Accuracy per Epoch')\n",
        "plt.xlabel('Epoch')\n",
        "plt.ylabel('Accuracy (%)')\n",
        "plt.legend()\n",
        "\n",
        "plt.tight_layout()\n",
        "plt.show()"
      ],
      "metadata": {
        "colab": {
          "base_uri": "https://localhost:8080/",
          "height": 421
        },
        "id": "ylzcbINMGhx8",
        "outputId": "37c8f014-536e-4c0e-9e6a-35279118607e"
      },
      "execution_count": 139,
      "outputs": [
        {
          "output_type": "display_data",
          "data": {
            "text/plain": [
              "<Figure size 1200x500 with 2 Axes>"
            ],
            "image/png": "[encoded data removed]"
          },
          "metadata": {}
        }
      ]
    },
    {
      "cell_type": "markdown",
      "source": [
        "Significant better, let's try with more layers (4-layer network)"
      ],
      "metadata": {
        "id": "np6mViDzpP6Q"
      }
    },
    {
      "cell_type": "code",
      "source": [
        "# Define a fully connected network\n",
        "class NeuralNetwork(nn.Module):\n",
        "  def __init__(self, input_size):\n",
        "    super(NeuralNetwork, self).__init__()\n",
        "    self.fc1 = nn.Linear(input_size, 256)\n",
        "    self.fc2 = nn.Linear(256, 128)\n",
        "    self.fc3 = nn.Linear(128, 64)\n",
        "    self.fc4 = nn.Linear(64, 7)\n",
        "\n",
        "  def forward(self, x):\n",
        "    x = torch.relu(self.fc1(x))\n",
        "    x = torch.relu(self.fc2(x))\n",
        "    x = torch.relu(self.fc3(x))\n",
        "    x = self.fc4(x)\n",
        "    return x\n",
        "\n",
        "# Function to train the model\n",
        "def train(model, train_loader, val_loader, epochs):\n",
        "  criterion = nn.CrossEntropyLoss()\n",
        "  optimizer = optim.Adam(model.parameters(), lr=0.001)\n",
        "\n",
        "  train_losses, val_losses = [], []\n",
        "  train_accuracies, val_accuracies = [], []\n",
        "\n",
        "  for epoch in range(epochs):\n",
        "    # Training phase\n",
        "    model.train()\n",
        "    running_loss = 0.0\n",
        "    correct, total = 0, 0\n",
        "    for data in train_loader:\n",
        "      inputs, labels = data\n",
        "      optimizer.zero_grad()\n",
        "      outputs = model(inputs)\n",
        "      loss = criterion(outputs, labels)\n",
        "      loss.backward()\n",
        "      optimizer.step()\n",
        "\n",
        "      running_loss += loss.item()\n",
        "      _, predicted = torch.max(outputs.data, 1)\n",
        "      total += labels.size(0)\n",
        "      correct += (predicted == labels).sum().item()\n",
        "\n",
        "    train_losses.append(running_loss / len(train_loader))\n",
        "    train_accuracies.append(100 * correct / total)\n",
        "\n",
        "    # Validation phase\n",
        "    model.eval()\n",
        "    val_loss = 0.0\n",
        "    correct, total = 0, 0\n",
        "    with torch.no_grad():\n",
        "      for data in val_loader:\n",
        "        inputs, labels = data\n",
        "        outputs = model(inputs)\n",
        "        loss = criterion(outputs, labels)\n",
        "\n",
        "        val_loss += loss.item()\n",
        "        _, predicted = torch.max(outputs.data, 1)\n",
        "        total += labels.size(0)\n",
        "        correct += (predicted == labels).sum().item()\n",
        "\n",
        "    val_losses.append(val_loss / len(val_loader))\n",
        "    val_accuracies.append(100 * correct / total)\n",
        "\n",
        "    print(f\"Epoch {epoch+1}/{epochs} - \"\n",
        "          f\"Train loss: {train_losses[-1]:.4f},\"\n",
        "          f\"Train accuracy: {train_accuracies[-1]:.2f}%, \"\n",
        "          f\"Val loss: {val_losses[-1]:.4f}, \"\n",
        "          f\"Val accuracy: {val_accuracies[-1]:.2f}%\")\n",
        "\n",
        "  return train_losses, val_losses, train_accuracies, val_accuracies"
      ],
      "metadata": {
        "id": "tyIgxzBTsuaU"
      },
      "execution_count": 143,
      "outputs": []
    },
    {
      "cell_type": "code",
      "source": [
        "model = NeuralNetwork(input_size)\n",
        "epochs = 30\n",
        "train_losses, val_losses, train_accuracies, val_accuracies = train(model, train_loader, val_loader, epochs)"
      ],
      "metadata": {
        "colab": {
          "base_uri": "https://localhost:8080/"
        },
        "outputId": "112cdaa7-c2e3-4bfa-e6ac-588f8427161f",
        "id": "PIAsxoKPs9Xs"
      },
      "execution_count": 144,
      "outputs": [
        {
          "output_type": "stream",
          "name": "stdout",
          "text": [
            "Epoch 1/30 - Train loss: 1.3774,Train accuracy: 46.81%, Val loss: 1.2792, Val accuracy: 51.38%\n",
            "Epoch 2/30 - Train loss: 1.2603,Train accuracy: 51.68%, Val loss: 1.2438, Val accuracy: 52.95%\n",
            "Epoch 3/30 - Train loss: 1.2240,Train accuracy: 53.46%, Val loss: 1.2330, Val accuracy: 52.56%\n",
            "Epoch 4/30 - Train loss: 1.2026,Train accuracy: 54.30%, Val loss: 1.2241, Val accuracy: 53.11%\n",
            "Epoch 5/30 - Train loss: 1.1856,Train accuracy: 54.96%, Val loss: 1.2214, Val accuracy: 52.61%\n",
            "Epoch 6/30 - Train loss: 1.1687,Train accuracy: 55.45%, Val loss: 1.1973, Val accuracy: 54.23%\n",
            "Epoch 7/30 - Train loss: 1.1572,Train accuracy: 56.02%, Val loss: 1.2007, Val accuracy: 54.29%\n",
            "Epoch 8/30 - Train loss: 1.1458,Train accuracy: 56.43%, Val loss: 1.2051, Val accuracy: 53.90%\n",
            "Epoch 9/30 - Train loss: 1.1338,Train accuracy: 56.90%, Val loss: 1.2037, Val accuracy: 54.42%\n",
            "Epoch 10/30 - Train loss: 1.1230,Train accuracy: 57.32%, Val loss: 1.1920, Val accuracy: 54.56%\n",
            "Epoch 11/30 - Train loss: 1.1135,Train accuracy: 57.72%, Val loss: 1.1911, Val accuracy: 53.99%\n",
            "Epoch 12/30 - Train loss: 1.1009,Train accuracy: 57.89%, Val loss: 1.1959, Val accuracy: 54.60%\n",
            "Epoch 13/30 - Train loss: 1.0928,Train accuracy: 58.60%, Val loss: 1.1958, Val accuracy: 54.46%\n",
            "Epoch 14/30 - Train loss: 1.0832,Train accuracy: 59.11%, Val loss: 1.1911, Val accuracy: 54.94%\n",
            "Epoch 15/30 - Train loss: 1.0752,Train accuracy: 59.24%, Val loss: 1.1970, Val accuracy: 54.39%\n",
            "Epoch 16/30 - Train loss: 1.0668,Train accuracy: 59.32%, Val loss: 1.2072, Val accuracy: 55.06%\n",
            "Epoch 17/30 - Train loss: 1.0563,Train accuracy: 59.87%, Val loss: 1.2042, Val accuracy: 55.09%\n",
            "Epoch 18/30 - Train loss: 1.0474,Train accuracy: 60.08%, Val loss: 1.2071, Val accuracy: 54.57%\n",
            "Epoch 19/30 - Train loss: 1.0404,Train accuracy: 60.42%, Val loss: 1.2115, Val accuracy: 54.28%\n",
            "Epoch 20/30 - Train loss: 1.0286,Train accuracy: 61.09%, Val loss: 1.2112, Val accuracy: 55.11%\n",
            "Epoch 21/30 - Train loss: 1.0196,Train accuracy: 61.14%, Val loss: 1.2245, Val accuracy: 53.94%\n",
            "Epoch 22/30 - Train loss: 1.0135,Train accuracy: 61.21%, Val loss: 1.2239, Val accuracy: 54.73%\n",
            "Epoch 23/30 - Train loss: 1.0023,Train accuracy: 61.98%, Val loss: 1.2307, Val accuracy: 54.53%\n",
            "Epoch 24/30 - Train loss: 0.9931,Train accuracy: 62.02%, Val loss: 1.2311, Val accuracy: 54.44%\n",
            "Epoch 25/30 - Train loss: 0.9834,Train accuracy: 62.34%, Val loss: 1.2460, Val accuracy: 54.29%\n",
            "Epoch 26/30 - Train loss: 0.9753,Train accuracy: 62.68%, Val loss: 1.2420, Val accuracy: 54.14%\n",
            "Epoch 27/30 - Train loss: 0.9657,Train accuracy: 63.32%, Val loss: 1.2528, Val accuracy: 53.58%\n",
            "Epoch 28/30 - Train loss: 0.9580,Train accuracy: 63.30%, Val loss: 1.2663, Val accuracy: 54.05%\n",
            "Epoch 29/30 - Train loss: 0.9481,Train accuracy: 63.71%, Val loss: 1.2597, Val accuracy: 54.16%\n",
            "Epoch 30/30 - Train loss: 0.9388,Train accuracy: 64.33%, Val loss: 1.2816, Val accuracy: 52.92%\n"
          ]
        }
      ]
    },
    {
      "cell_type": "code",
      "source": [
        "plt.figure(figsize=(12, 5))\n",
        "plt.subplot(1, 2, 1)\n",
        "plt.plot(train_losses, label='Train Loss')\n",
        "plt.plot(val_losses, label='Validation Loss')\n",
        "plt.title('Loss per Epoch')\n",
        "plt.xlabel('Epoch')\n",
        "plt.ylabel('Loss')\n",
        "plt.legend()\n",
        "\n",
        "plt.subplot(1, 2, 2)\n",
        "plt.plot(train_accuracies, label='Train Accuracy')\n",
        "plt.plot(val_accuracies, label='Validation Accuracy')\n",
        "plt.title('Accuracy per Epoch')\n",
        "plt.xlabel('Epoch')\n",
        "plt.ylabel('Accuracy (%)')\n",
        "plt.legend()\n",
        "\n",
        "plt.tight_layout()\n",
        "plt.show()"
      ],
      "metadata": {
        "colab": {
          "base_uri": "https://localhost:8080/",
          "height": 421
        },
        "outputId": "ff737c5c-e5f8-4ef0-8090-401a994463f4",
        "id": "p65-NYtjtX5X"
      },
      "execution_count": 145,
      "outputs": [
        {
          "output_type": "display_data",
          "data": {
            "text/plain": [
              "<Figure size 1200x500 with 2 Axes>"
            ],
            "image/png": "[encoded data removed]"
          },
          "metadata": {}
        }
      ]
    }
  ],
  "metadata": {
    "colab": {
      "provenance": []
    },
    "kernelspec": {
      "display_name": "Python 3",
      "name": "python3"
    },
    "language_info": {
      "name": "python"
    }
  },
  "nbformat": 4,
  "nbformat_minor": 0
}
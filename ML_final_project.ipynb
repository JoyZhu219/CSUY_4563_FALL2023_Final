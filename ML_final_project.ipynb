{
  "cells": [
    {
      "cell_type": "markdown",
      "source": [
        "# Load data from Kaggle: the 30000 songs from Spotify\n",
        "process the data first to see if any missing values and remove them. Remove unncessary features manually before classifying. Get number of genres and create genre labels for each class for testing and training purpose."
      ],
      "metadata": {
        "id": "DFKCINqpGh_J"
      }
    },
    {
      "cell_type": "code",
      "source": [
        "import pandas as pd\n",
        "import numpy as np\n",
        "import matplotlib.pyplot as plt\n",
        "import seaborn as sns\n",
        "import torch\n",
        "import torchvision\n",
        "from sklearn.model_selection import train_test_split, GridSearchCV\n",
        "from sklearn.preprocessing import LabelEncoder\n",
        "from sklearn.metrics import accuracy_score, classification_report\n",
        "from sklearn.ensemble import RandomForestClassifier\n",
        "from sklearn.neighbors import KNeighborsClassifier\n",
        "from sklearn.linear_model import LogisticRegression\n",
        "import torch.nn.functional as F\n",
        "import torch.nn as nn\n",
        "import torch.nn.init as init\n",
        "\n",
        "%matplotlib inline"
      ],
      "metadata": {
        "id": "hn2NP5omGqJW"
      },
      "execution_count": 146,
      "outputs": []
    },
    {
      "cell_type": "code",
      "source": [
        "url = 'https://raw.githubusercontent.com/rfordatascience/tidytuesday/master/data/2020/2020-01-21/spotify_songs.csv'\n",
        "df_song = pd.read_csv(url)\n",
        "df_song.head() # get an overview of how data looks"
      ],
      "metadata": {
        "colab": {
          "base_uri": "https://localhost:8080/",
          "height": 499
        },
        "id": "fHvH9EBCGtAx",
        "outputId": "c5d823ec-05cc-4713-dddd-92c44493a8ea"
      },
      "execution_count": 147,
      "outputs": [
        {
          "output_type": "execute_result",
          "data": {
            "text/plain": [
              "                 track_id                                         track_name  \\\n",
              "0  6f807x0ima9a1j3VPbc7VN  I Don't Care (with Justin Bieber) - Loud Luxur...   \n",
              "1  0r7CVbZTWZgbTCYdfa2P31                    Memories - Dillon Francis Remix   \n",
              "2  1z1Hg7Vb0AhHDiEmnDE79l                    All the Time - Don Diablo Remix   \n",
              "3  75FpbthrwQmzHlBJLuGdC7                  Call You Mine - Keanu Silva Remix   \n",
              "4  1e8PAfcKUYoKkxPhrHqw4x            Someone You Loved - Future Humans Remix   \n",
              "\n",
              "       track_artist  track_popularity          track_album_id  \\\n",
              "0        Ed Sheeran                66  2oCs0DGTsRO98Gh5ZSl2Cx   \n",
              "1          Maroon 5                67  63rPSO264uRjW1X5E6cWv6   \n",
              "2      Zara Larsson                70  1HoSmj2eLcsrR0vE9gThr4   \n",
              "3  The Chainsmokers                60  1nqYsOef1yKKuGOVchbsk6   \n",
              "4     Lewis Capaldi                69  7m7vv9wlQ4i0LFuJiE2zsQ   \n",
              "\n",
              "                                    track_album_name track_album_release_date  \\\n",
              "0  I Don't Care (with Justin Bieber) [Loud Luxury...               2019-06-14   \n",
              "1                    Memories (Dillon Francis Remix)               2019-12-13   \n",
              "2                    All the Time (Don Diablo Remix)               2019-07-05   \n",
              "3                        Call You Mine - The Remixes               2019-07-19   \n",
              "4            Someone You Loved (Future Humans Remix)               2019-03-05   \n",
              "\n",
              "  playlist_name             playlist_id playlist_genre  ... key  loudness  \\\n",
              "0     Pop Remix  37i9dQZF1DXcZDD7cfEKhW            pop  ...   6    -2.634   \n",
              "1     Pop Remix  37i9dQZF1DXcZDD7cfEKhW            pop  ...  11    -4.969   \n",
              "2     Pop Remix  37i9dQZF1DXcZDD7cfEKhW            pop  ...   1    -3.432   \n",
              "3     Pop Remix  37i9dQZF1DXcZDD7cfEKhW            pop  ...   7    -3.778   \n",
              "4     Pop Remix  37i9dQZF1DXcZDD7cfEKhW            pop  ...   1    -4.672   \n",
              "\n",
              "   mode  speechiness  acousticness  instrumentalness  liveness  valence  \\\n",
              "0     1       0.0583        0.1020          0.000000    0.0653    0.518   \n",
              "1     1       0.0373        0.0724          0.004210    0.3570    0.693   \n",
              "2     0       0.0742        0.0794          0.000023    0.1100    0.613   \n",
              "3     1       0.1020        0.0287          0.000009    0.2040    0.277   \n",
              "4     1       0.0359        0.0803          0.000000    0.0833    0.725   \n",
              "\n",
              "     tempo  duration_ms  \n",
              "0  122.036       194754  \n",
              "1   99.972       162600  \n",
              "2  124.008       176616  \n",
              "3  121.956       169093  \n",
              "4  123.976       189052  \n",
              "\n",
              "[5 rows x 23 columns]"
            ],
            "text/html": [
              "\n",
              "  <div id=\"df-f85dabf7-1ec7-4818-8b37-052c33b51ef4\" class=\"colab-df-container\">\n",
              "    <div>\n",
              "<style scoped>\n",
              "    .dataframe tbody tr th:only-of-type {\n",
              "        vertical-align: middle;\n",
              "    }\n",
              "\n",
              "    .dataframe tbody tr th {\n",
              "        vertical-align: top;\n",
              "    }\n",
              "\n",
              "    .dataframe thead th {\n",
              "        text-align: right;\n",
              "    }\n",
              "</style>\n",
              "<table border=\"1\" class=\"dataframe\">\n",
              "  <thead>\n",
              "    <tr style=\"text-align: right;\">\n",
              "      <th></th>\n",
              "      <th>track_id</th>\n",
              "      <th>track_name</th>\n",
              "      <th>track_artist</th>\n",
              "      <th>track_popularity</th>\n",
              "      <th>track_album_id</th>\n",
              "      <th>track_album_name</th>\n",
              "      <th>track_album_release_date</th>\n",
              "      <th>playlist_name</th>\n",
              "      <th>playlist_id</th>\n",
              "      <th>playlist_genre</th>\n",
              "      <th>...</th>\n",
              "      <th>key</th>\n",
              "      <th>loudness</th>\n",
              "      <th>mode</th>\n",
              "      <th>speechiness</th>\n",
              "      <th>acousticness</th>\n",
              "      <th>instrumentalness</th>\n",
              "      <th>liveness</th>\n",
              "      <th>valence</th>\n",
              "      <th>tempo</th>\n",
              "      <th>duration_ms</th>\n",
              "    </tr>\n",
              "  </thead>\n",
              "  <tbody>\n",
              "    <tr>\n",
              "      <th>0</th>\n",
              "      <td>6f807x0ima9a1j3VPbc7VN</td>\n",
              "      <td>I Don't Care (with Justin Bieber) - Loud Luxur...</td>\n",
              "      <td>Ed Sheeran</td>\n",
              "      <td>66</td>\n",
              "      <td>2oCs0DGTsRO98Gh5ZSl2Cx</td>\n",
              "      <td>I Don't Care (with Justin Bieber) [Loud Luxury...</td>\n",
              "      <td>2019-06-14</td>\n",
              "      <td>Pop Remix</td>\n",
              "      <td>37i9dQZF1DXcZDD7cfEKhW</td>\n",
              "      <td>pop</td>\n",
              "      <td>...</td>\n",
              "      <td>6</td>\n",
              "      <td>-2.634</td>\n",
              "      <td>1</td>\n",
              "      <td>0.0583</td>\n",
              "      <td>0.1020</td>\n",
              "      <td>0.000000</td>\n",
              "      <td>0.0653</td>\n",
              "      <td>0.518</td>\n",
              "      <td>122.036</td>\n",
              "      <td>194754</td>\n",
              "    </tr>\n",
              "    <tr>\n",
              "      <th>1</th>\n",
              "      <td>0r7CVbZTWZgbTCYdfa2P31</td>\n",
              "      <td>Memories - Dillon Francis Remix</td>\n",
              "      <td>Maroon 5</td>\n",
              "      <td>67</td>\n",
              "      <td>63rPSO264uRjW1X5E6cWv6</td>\n",
              "      <td>Memories (Dillon Francis Remix)</td>\n",
              "      <td>2019-12-13</td>\n",
              "      <td>Pop Remix</td>\n",
              "      <td>37i9dQZF1DXcZDD7cfEKhW</td>\n",
              "      <td>pop</td>\n",
              "      <td>...</td>\n",
              "      <td>11</td>\n",
              "      <td>-4.969</td>\n",
              "      <td>1</td>\n",
              "      <td>0.0373</td>\n",
              "      <td>0.0724</td>\n",
              "      <td>0.004210</td>\n",
              "      <td>0.3570</td>\n",
              "      <td>0.693</td>\n",
              "      <td>99.972</td>\n",
              "      <td>162600</td>\n",
              "    </tr>\n",
              "    <tr>\n",
              "      <th>2</th>\n",
              "      <td>1z1Hg7Vb0AhHDiEmnDE79l</td>\n",
              "      <td>All the Time - Don Diablo Remix</td>\n",
              "      <td>Zara Larsson</td>\n",
              "      <td>70</td>\n",
              "      <td>1HoSmj2eLcsrR0vE9gThr4</td>\n",
              "      <td>All the Time (Don Diablo Remix)</td>\n",
              "      <td>2019-07-05</td>\n",
              "      <td>Pop Remix</td>\n",
              "      <td>37i9dQZF1DXcZDD7cfEKhW</td>\n",
              "      <td>pop</td>\n",
              "      <td>...</td>\n",
              "      <td>1</td>\n",
              "      <td>-3.432</td>\n",
              "      <td>0</td>\n",
              "      <td>0.0742</td>\n",
              "      <td>0.0794</td>\n",
              "      <td>0.000023</td>\n",
              "      <td>0.1100</td>\n",
              "      <td>0.613</td>\n",
              "      <td>124.008</td>\n",
              "      <td>176616</td>\n",
              "    </tr>\n",
              "    <tr>\n",
              "      <th>3</th>\n",
              "      <td>75FpbthrwQmzHlBJLuGdC7</td>\n",
              "      <td>Call You Mine - Keanu Silva Remix</td>\n",
              "      <td>The Chainsmokers</td>\n",
              "      <td>60</td>\n",
              "      <td>1nqYsOef1yKKuGOVchbsk6</td>\n",
              "      <td>Call You Mine - The Remixes</td>\n",
              "      <td>2019-07-19</td>\n",
              "      <td>Pop Remix</td>\n",
              "      <td>37i9dQZF1DXcZDD7cfEKhW</td>\n",
              "      <td>pop</td>\n",
              "      <td>...</td>\n",
              "      <td>7</td>\n",
              "      <td>-3.778</td>\n",
              "      <td>1</td>\n",
              "      <td>0.1020</td>\n",
              "      <td>0.0287</td>\n",
              "      <td>0.000009</td>\n",
              "      <td>0.2040</td>\n",
              "      <td>0.277</td>\n",
              "      <td>121.956</td>\n",
              "      <td>169093</td>\n",
              "    </tr>\n",
              "    <tr>\n",
              "      <th>4</th>\n",
              "      <td>1e8PAfcKUYoKkxPhrHqw4x</td>\n",
              "      <td>Someone You Loved - Future Humans Remix</td>\n",
              "      <td>Lewis Capaldi</td>\n",
              "      <td>69</td>\n",
              "      <td>7m7vv9wlQ4i0LFuJiE2zsQ</td>\n",
              "      <td>Someone You Loved (Future Humans Remix)</td>\n",
              "      <td>2019-03-05</td>\n",
              "      <td>Pop Remix</td>\n",
              "      <td>37i9dQZF1DXcZDD7cfEKhW</td>\n",
              "      <td>pop</td>\n",
              "      <td>...</td>\n",
              "      <td>1</td>\n",
              "      <td>-4.672</td>\n",
              "      <td>1</td>\n",
              "      <td>0.0359</td>\n",
              "      <td>0.0803</td>\n",
              "      <td>0.000000</td>\n",
              "      <td>0.0833</td>\n",
              "      <td>0.725</td>\n",
              "      <td>123.976</td>\n",
              "      <td>189052</td>\n",
              "    </tr>\n",
              "  </tbody>\n",
              "</table>\n",
              "<p>5 rows × 23 columns</p>\n",
              "</div>\n",
              "    <div class=\"colab-df-buttons\">\n",
              "\n",
              "  <div class=\"colab-df-container\">\n",
              "    <button class=\"colab-df-convert\" onclick=\"convertToInteractive('df-f85dabf7-1ec7-4818-8b37-052c33b51ef4')\"\n",
              "            title=\"Convert this dataframe to an interactive table.\"\n",
              "            style=\"display:none;\">\n",
              "\n",
              "  <svg xmlns=\"http://www.w3.org/2000/svg\" height=\"24px\" viewBox=\"0 -960 960 960\">\n",
              "    <path d=\"M120-120v-720h720v720H120Zm60-500h600v-160H180v160Zm220 220h160v-160H400v160Zm0 220h160v-160H400v160ZM180-400h160v-160H180v160Zm440 0h160v-160H620v160ZM180-180h160v-160H180v160Zm440 0h160v-160H620v160Z\"/>\n",
              "  </svg>\n",
              "    </button>\n",
              "\n",
              "  <style>\n",
              "    .colab-df-container {\n",
              "      display:flex;\n",
              "      gap: 12px;\n",
              "    }\n",
              "\n",
              "    .colab-df-convert {\n",
              "      background-color: #E8F0FE;\n",
              "      border: none;\n",
              "      border-radius: 50%;\n",
              "      cursor: pointer;\n",
              "      display: none;\n",
              "      fill: #1967D2;\n",
              "      height: 32px;\n",
              "      padding: 0 0 0 0;\n",
              "      width: 32px;\n",
              "    }\n",
              "\n",
              "    .colab-df-convert:hover {\n",
              "      background-color: #E2EBFA;\n",
              "      box-shadow: 0px 1px 2px rgba(60, 64, 67, 0.3), 0px 1px 3px 1px rgba(60, 64, 67, 0.15);\n",
              "      fill: #174EA6;\n",
              "    }\n",
              "\n",
              "    .colab-df-buttons div {\n",
              "      margin-bottom: 4px;\n",
              "    }\n",
              "\n",
              "    [theme=dark] .colab-df-convert {\n",
              "      background-color: #3B4455;\n",
              "      fill: #D2E3FC;\n",
              "    }\n",
              "\n",
              "    [theme=dark] .colab-df-convert:hover {\n",
              "      background-color: #434B5C;\n",
              "      box-shadow: 0px 1px 3px 1px rgba(0, 0, 0, 0.15);\n",
              "      filter: drop-shadow(0px 1px 2px rgba(0, 0, 0, 0.3));\n",
              "      fill: #FFFFFF;\n",
              "    }\n",
              "  </style>\n",
              "\n",
              "    <script>\n",
              "      const buttonEl =\n",
              "        document.querySelector('#df-f85dabf7-1ec7-4818-8b37-052c33b51ef4 button.colab-df-convert');\n",
              "      buttonEl.style.display =\n",
              "        google.colab.kernel.accessAllowed ? 'block' : 'none';\n",
              "\n",
              "      async function convertToInteractive(key) {\n",
              "        const element = document.querySelector('#df-f85dabf7-1ec7-4818-8b37-052c33b51ef4');\n",
              "        const dataTable =\n",
              "          await google.colab.kernel.invokeFunction('convertToInteractive',\n",
              "                                                    [key], {});\n",
              "        if (!dataTable) return;\n",
              "\n",
              "        const docLinkHtml = 'Like what you see? Visit the ' +\n",
              "          '<a target=\"_blank\" href=https://colab.research.google.com/notebooks/data_table.ipynb>data table notebook</a>'\n",
              "          + ' to learn more about interactive tables.';\n",
              "        element.innerHTML = '';\n",
              "        dataTable['output_type'] = 'display_data';\n",
              "        await google.colab.output.renderOutput(dataTable, element);\n",
              "        const docLink = document.createElement('div');\n",
              "        docLink.innerHTML = docLinkHtml;\n",
              "        element.appendChild(docLink);\n",
              "      }\n",
              "    </script>\n",
              "  </div>\n",
              "\n",
              "\n",
              "<div id=\"df-0d95e451-8739-4dff-8b17-7f5848859f02\">\n",
              "  <button class=\"colab-df-quickchart\" onclick=\"quickchart('df-0d95e451-8739-4dff-8b17-7f5848859f02')\"\n",
              "            title=\"Suggest charts\"\n",
              "            style=\"display:none;\">\n",
              "\n",
              "<svg xmlns=\"http://www.w3.org/2000/svg\" height=\"24px\"viewBox=\"0 0 24 24\"\n",
              "     width=\"24px\">\n",
              "    <g>\n",
              "        <path d=\"M19 3H5c-1.1 0-2 .9-2 2v14c0 1.1.9 2 2 2h14c1.1 0 2-.9 2-2V5c0-1.1-.9-2-2-2zM9 17H7v-7h2v7zm4 0h-2V7h2v10zm4 0h-2v-4h2v4z\"/>\n",
              "    </g>\n",
              "</svg>\n",
              "  </button>\n",
              "\n",
              "<style>\n",
              "  .colab-df-quickchart {\n",
              "      --bg-color: #E8F0FE;\n",
              "      --fill-color: #1967D2;\n",
              "      --hover-bg-color: #E2EBFA;\n",
              "      --hover-fill-color: #174EA6;\n",
              "      --disabled-fill-color: #AAA;\n",
              "      --disabled-bg-color: #DDD;\n",
              "  }\n",
              "\n",
              "  [theme=dark] .colab-df-quickchart {\n",
              "      --bg-color: #3B4455;\n",
              "      --fill-color: #D2E3FC;\n",
              "      --hover-bg-color: #434B5C;\n",
              "      --hover-fill-color: #FFFFFF;\n",
              "      --disabled-bg-color: #3B4455;\n",
              "      --disabled-fill-color: #666;\n",
              "  }\n",
              "\n",
              "  .colab-df-quickchart {\n",
              "    background-color: var(--bg-color);\n",
              "    border: none;\n",
              "    border-radius: 50%;\n",
              "    cursor: pointer;\n",
              "    display: none;\n",
              "    fill: var(--fill-color);\n",
              "    height: 32px;\n",
              "    padding: 0;\n",
              "    width: 32px;\n",
              "  }\n",
              "\n",
              "  .colab-df-quickchart:hover {\n",
              "    background-color: var(--hover-bg-color);\n",
              "    box-shadow: 0 1px 2px rgba(60, 64, 67, 0.3), 0 1px 3px 1px rgba(60, 64, 67, 0.15);\n",
              "    fill: var(--button-hover-fill-color);\n",
              "  }\n",
              "\n",
              "  .colab-df-quickchart-complete:disabled,\n",
              "  .colab-df-quickchart-complete:disabled:hover {\n",
              "    background-color: var(--disabled-bg-color);\n",
              "    fill: var(--disabled-fill-color);\n",
              "    box-shadow: none;\n",
              "  }\n",
              "\n",
              "  .colab-df-spinner {\n",
              "    border: 2px solid var(--fill-color);\n",
              "    border-color: transparent;\n",
              "    border-bottom-color: var(--fill-color);\n",
              "    animation:\n",
              "      spin 1s steps(1) infinite;\n",
              "  }\n",
              "\n",
              "  @keyframes spin {\n",
              "    0% {\n",
              "      border-color: transparent;\n",
              "      border-bottom-color: var(--fill-color);\n",
              "      border-left-color: var(--fill-color);\n",
              "    }\n",
              "    20% {\n",
              "      border-color: transparent;\n",
              "      border-left-color: var(--fill-color);\n",
              "      border-top-color: var(--fill-color);\n",
              "    }\n",
              "    30% {\n",
              "      border-color: transparent;\n",
              "      border-left-color: var(--fill-color);\n",
              "      border-top-color: var(--fill-color);\n",
              "      border-right-color: var(--fill-color);\n",
              "    }\n",
              "    40% {\n",
              "      border-color: transparent;\n",
              "      border-right-color: var(--fill-color);\n",
              "      border-top-color: var(--fill-color);\n",
              "    }\n",
              "    60% {\n",
              "      border-color: transparent;\n",
              "      border-right-color: var(--fill-color);\n",
              "    }\n",
              "    80% {\n",
              "      border-color: transparent;\n",
              "      border-right-color: var(--fill-color);\n",
              "      border-bottom-color: var(--fill-color);\n",
              "    }\n",
              "    90% {\n",
              "      border-color: transparent;\n",
              "      border-bottom-color: var(--fill-color);\n",
              "    }\n",
              "  }\n",
              "</style>\n",
              "\n",
              "  <script>\n",
              "    async function quickchart(key) {\n",
              "      const quickchartButtonEl =\n",
              "        document.querySelector('#' + key + ' button');\n",
              "      quickchartButtonEl.disabled = true;  // To prevent multiple clicks.\n",
              "      quickchartButtonEl.classList.add('colab-df-spinner');\n",
              "      try {\n",
              "        const charts = await google.colab.kernel.invokeFunction(\n",
              "            'suggestCharts', [key], {});\n",
              "      } catch (error) {\n",
              "        console.error('Error during call to suggestCharts:', error);\n",
              "      }\n",
              "      quickchartButtonEl.classList.remove('colab-df-spinner');\n",
              "      quickchartButtonEl.classList.add('colab-df-quickchart-complete');\n",
              "    }\n",
              "    (() => {\n",
              "      let quickchartButtonEl =\n",
              "        document.querySelector('#df-0d95e451-8739-4dff-8b17-7f5848859f02 button');\n",
              "      quickchartButtonEl.style.display =\n",
              "        google.colab.kernel.accessAllowed ? 'block' : 'none';\n",
              "    })();\n",
              "  </script>\n",
              "</div>\n",
              "    </div>\n",
              "  </div>\n"
            ]
          },
          "metadata": {},
          "execution_count": 147
        }
      ]
    },
    {
      "cell_type": "code",
      "source": [
        "df_song.info() # display types and names of features in the data"
      ],
      "metadata": {
        "colab": {
          "base_uri": "https://localhost:8080/"
        },
        "id": "Gsg_MxJaHMtD",
        "outputId": "8dcf5b9a-3b29-4e01-db14-faabecd13cd5"
      },
      "execution_count": 148,
      "outputs": [
        {
          "output_type": "stream",
          "name": "stdout",
          "text": [
            "<class 'pandas.core.frame.DataFrame'>\n",
            "RangeIndex: 32833 entries, 0 to 32832\n",
            "Data columns (total 23 columns):\n",
            " #   Column                    Non-Null Count  Dtype  \n",
            "---  ------                    --------------  -----  \n",
            " 0   track_id                  32833 non-null  object \n",
            " 1   track_name                32828 non-null  object \n",
            " 2   track_artist              32828 non-null  object \n",
            " 3   track_popularity          32833 non-null  int64  \n",
            " 4   track_album_id            32833 non-null  object \n",
            " 5   track_album_name          32828 non-null  object \n",
            " 6   track_album_release_date  32833 non-null  object \n",
            " 7   playlist_name             32833 non-null  object \n",
            " 8   playlist_id               32833 non-null  object \n",
            " 9   playlist_genre            32833 non-null  object \n",
            " 10  playlist_subgenre         32833 non-null  object \n",
            " 11  danceability              32833 non-null  float64\n",
            " 12  energy                    32833 non-null  float64\n",
            " 13  key                       32833 non-null  int64  \n",
            " 14  loudness                  32833 non-null  float64\n",
            " 15  mode                      32833 non-null  int64  \n",
            " 16  speechiness               32833 non-null  float64\n",
            " 17  acousticness              32833 non-null  float64\n",
            " 18  instrumentalness          32833 non-null  float64\n",
            " 19  liveness                  32833 non-null  float64\n",
            " 20  valence                   32833 non-null  float64\n",
            " 21  tempo                     32833 non-null  float64\n",
            " 22  duration_ms               32833 non-null  int64  \n",
            "dtypes: float64(9), int64(4), object(10)\n",
            "memory usage: 5.8+ MB\n"
          ]
        }
      ]
    },
    {
      "cell_type": "code",
      "source": [
        "# change date from string to a datetime object\n",
        "df_song['track_album_release_date'] = pd.to_datetime(df_song['track_album_release_date'])"
      ],
      "metadata": {
        "id": "KDZb4l-oTKa5"
      },
      "execution_count": 149,
      "outputs": []
    },
    {
      "cell_type": "markdown",
      "source": [
        "# Feature Selection and manipulate data so that it is ready for testing and training"
      ],
      "metadata": {
        "id": "J09cYZ7gQbRx"
      }
    },
    {
      "cell_type": "code",
      "source": [
        "# Check for duplication of data in rows if any\n",
        "df_song.duplicated().sum()"
      ],
      "metadata": {
        "colab": {
          "base_uri": "https://localhost:8080/"
        },
        "id": "zkPkT3p4QyVu",
        "outputId": "0dd341c3-4131-451c-e857-88ab4c20e2be"
      },
      "execution_count": 150,
      "outputs": [
        {
          "output_type": "execute_result",
          "data": {
            "text/plain": [
              "0"
            ]
          },
          "metadata": {},
          "execution_count": 150
        }
      ]
    },
    {
      "cell_type": "code",
      "source": [
        "# drop dubplication and only keep the first occurence\n",
        "df_song = df_song.drop_duplicates()"
      ],
      "metadata": {
        "id": "NQEcoT1JRIsP"
      },
      "execution_count": 151,
      "outputs": []
    },
    {
      "cell_type": "code",
      "source": [
        "# check completeness of data\n",
        "df_song.isnull().sum()"
      ],
      "metadata": {
        "colab": {
          "base_uri": "https://localhost:8080/"
        },
        "id": "h5XeZKp6NjXf",
        "outputId": "dcfb3795-c781-4e80-b60c-eadebf8d898d"
      },
      "execution_count": 152,
      "outputs": [
        {
          "output_type": "execute_result",
          "data": {
            "text/plain": [
              "track_id                    0\n",
              "track_name                  5\n",
              "track_artist                5\n",
              "track_popularity            0\n",
              "track_album_id              0\n",
              "track_album_name            5\n",
              "track_album_release_date    0\n",
              "playlist_name               0\n",
              "playlist_id                 0\n",
              "playlist_genre              0\n",
              "playlist_subgenre           0\n",
              "danceability                0\n",
              "energy                      0\n",
              "key                         0\n",
              "loudness                    0\n",
              "mode                        0\n",
              "speechiness                 0\n",
              "acousticness                0\n",
              "instrumentalness            0\n",
              "liveness                    0\n",
              "valence                     0\n",
              "tempo                       0\n",
              "duration_ms                 0\n",
              "dtype: int64"
            ]
          },
          "metadata": {},
          "execution_count": 152
        }
      ]
    },
    {
      "cell_type": "code",
      "source": [
        "# check where the missing data locates\n",
        "df_song.loc[df_song.track_name.isnull()]\n",
        "# since other values are not null, we keep those rows in the data"
      ],
      "metadata": {
        "colab": {
          "base_uri": "https://localhost:8080/",
          "height": 273
        },
        "id": "mkhK8ZwkNk5b",
        "outputId": "92d1b1c0-cd4e-496c-9a07-c07b59dd3885"
      },
      "execution_count": 153,
      "outputs": [
        {
          "output_type": "execute_result",
          "data": {
            "text/plain": [
              "                     track_id track_name track_artist  track_popularity  \\\n",
              "8151   69gRFGOWY9OMpFJgFol1u0        NaN          NaN                 0   \n",
              "9282   5cjecvX0CmC9gK0Laf5EMQ        NaN          NaN                 0   \n",
              "9283   5TTzhRSWQS4Yu8xTgAuq6D        NaN          NaN                 0   \n",
              "19568  3VKFip3OdAvv4OfNTgFWeQ        NaN          NaN                 0   \n",
              "19811  69gRFGOWY9OMpFJgFol1u0        NaN          NaN                 0   \n",
              "\n",
              "               track_album_id track_album_name track_album_release_date  \\\n",
              "8151   717UG2du6utFe7CdmpuUe3              NaN               2012-01-05   \n",
              "9282   3luHJEPw434tvNbme3SP8M              NaN               2017-12-01   \n",
              "9283   3luHJEPw434tvNbme3SP8M              NaN               2017-12-01   \n",
              "19568  717UG2du6utFe7CdmpuUe3              NaN               2012-01-05   \n",
              "19811  717UG2du6utFe7CdmpuUe3              NaN               2012-01-05   \n",
              "\n",
              "            playlist_name             playlist_id playlist_genre  ... key  \\\n",
              "8151              HIP&HOP  5DyJsJZOpMJh34WvUrQzMV            rap  ...   6   \n",
              "9282          GANGSTA Rap  5GA8GDo7RQC3JEanT81B3g            rap  ...  11   \n",
              "9283          GANGSTA Rap  5GA8GDo7RQC3JEanT81B3g            rap  ...  10   \n",
              "19568  Reggaeton viejito🔥  0si5tw70PIgPkY1Eva6V8f          latin  ...  11   \n",
              "19811       latin hip hop  3nH8aytdqNeRbcRCg3dw9q          latin  ...   6   \n",
              "\n",
              "       loudness  mode  speechiness  acousticness  instrumentalness  liveness  \\\n",
              "8151     -7.635     1       0.1760        0.0410           0.00000    0.1160   \n",
              "9282     -5.364     0       0.3190        0.0534           0.00000    0.5530   \n",
              "9283     -5.907     0       0.3070        0.0963           0.00000    0.0888   \n",
              "19568    -6.075     0       0.0366        0.0606           0.00653    0.1030   \n",
              "19811    -7.635     1       0.1760        0.0410           0.00000    0.1160   \n",
              "\n",
              "       valence    tempo  duration_ms  \n",
              "8151     0.649   95.999       282707  \n",
              "9282     0.191  146.153       202235  \n",
              "9283     0.505   86.839       206465  \n",
              "19568    0.726   97.017       252773  \n",
              "19811    0.649   95.999       282707  \n",
              "\n",
              "[5 rows x 23 columns]"
            ],
            "text/html": [
              "\n",
              "  <div id=\"df-0e7ae405-6ba4-4fbe-87a5-a7427befb199\" class=\"colab-df-container\">\n",
              "    <div>\n",
              "<style scoped>\n",
              "    .dataframe tbody tr th:only-of-type {\n",
              "        vertical-align: middle;\n",
              "    }\n",
              "\n",
              "    .dataframe tbody tr th {\n",
              "        vertical-align: top;\n",
              "    }\n",
              "\n",
              "    .dataframe thead th {\n",
              "        text-align: right;\n",
              "    }\n",
              "</style>\n",
              "<table border=\"1\" class=\"dataframe\">\n",
              "  <thead>\n",
              "    <tr style=\"text-align: right;\">\n",
              "      <th></th>\n",
              "      <th>track_id</th>\n",
              "      <th>track_name</th>\n",
              "      <th>track_artist</th>\n",
              "      <th>track_popularity</th>\n",
              "      <th>track_album_id</th>\n",
              "      <th>track_album_name</th>\n",
              "      <th>track_album_release_date</th>\n",
              "      <th>playlist_name</th>\n",
              "      <th>playlist_id</th>\n",
              "      <th>playlist_genre</th>\n",
              "      <th>...</th>\n",
              "      <th>key</th>\n",
              "      <th>loudness</th>\n",
              "      <th>mode</th>\n",
              "      <th>speechiness</th>\n",
              "      <th>acousticness</th>\n",
              "      <th>instrumentalness</th>\n",
              "      <th>liveness</th>\n",
              "      <th>valence</th>\n",
              "      <th>tempo</th>\n",
              "      <th>duration_ms</th>\n",
              "    </tr>\n",
              "  </thead>\n",
              "  <tbody>\n",
              "    <tr>\n",
              "      <th>8151</th>\n",
              "      <td>69gRFGOWY9OMpFJgFol1u0</td>\n",
              "      <td>NaN</td>\n",
              "      <td>NaN</td>\n",
              "      <td>0</td>\n",
              "      <td>717UG2du6utFe7CdmpuUe3</td>\n",
              "      <td>NaN</td>\n",
              "      <td>2012-01-05</td>\n",
              "      <td>HIP&amp;HOP</td>\n",
              "      <td>5DyJsJZOpMJh34WvUrQzMV</td>\n",
              "      <td>rap</td>\n",
              "      <td>...</td>\n",
              "      <td>6</td>\n",
              "      <td>-7.635</td>\n",
              "      <td>1</td>\n",
              "      <td>0.1760</td>\n",
              "      <td>0.0410</td>\n",
              "      <td>0.00000</td>\n",
              "      <td>0.1160</td>\n",
              "      <td>0.649</td>\n",
              "      <td>95.999</td>\n",
              "      <td>282707</td>\n",
              "    </tr>\n",
              "    <tr>\n",
              "      <th>9282</th>\n",
              "      <td>5cjecvX0CmC9gK0Laf5EMQ</td>\n",
              "      <td>NaN</td>\n",
              "      <td>NaN</td>\n",
              "      <td>0</td>\n",
              "      <td>3luHJEPw434tvNbme3SP8M</td>\n",
              "      <td>NaN</td>\n",
              "      <td>2017-12-01</td>\n",
              "      <td>GANGSTA Rap</td>\n",
              "      <td>5GA8GDo7RQC3JEanT81B3g</td>\n",
              "      <td>rap</td>\n",
              "      <td>...</td>\n",
              "      <td>11</td>\n",
              "      <td>-5.364</td>\n",
              "      <td>0</td>\n",
              "      <td>0.3190</td>\n",
              "      <td>0.0534</td>\n",
              "      <td>0.00000</td>\n",
              "      <td>0.5530</td>\n",
              "      <td>0.191</td>\n",
              "      <td>146.153</td>\n",
              "      <td>202235</td>\n",
              "    </tr>\n",
              "    <tr>\n",
              "      <th>9283</th>\n",
              "      <td>5TTzhRSWQS4Yu8xTgAuq6D</td>\n",
              "      <td>NaN</td>\n",
              "      <td>NaN</td>\n",
              "      <td>0</td>\n",
              "      <td>3luHJEPw434tvNbme3SP8M</td>\n",
              "      <td>NaN</td>\n",
              "      <td>2017-12-01</td>\n",
              "      <td>GANGSTA Rap</td>\n",
              "      <td>5GA8GDo7RQC3JEanT81B3g</td>\n",
              "      <td>rap</td>\n",
              "      <td>...</td>\n",
              "      <td>10</td>\n",
              "      <td>-5.907</td>\n",
              "      <td>0</td>\n",
              "      <td>0.3070</td>\n",
              "      <td>0.0963</td>\n",
              "      <td>0.00000</td>\n",
              "      <td>0.0888</td>\n",
              "      <td>0.505</td>\n",
              "      <td>86.839</td>\n",
              "      <td>206465</td>\n",
              "    </tr>\n",
              "    <tr>\n",
              "      <th>19568</th>\n",
              "      <td>3VKFip3OdAvv4OfNTgFWeQ</td>\n",
              "      <td>NaN</td>\n",
              "      <td>NaN</td>\n",
              "      <td>0</td>\n",
              "      <td>717UG2du6utFe7CdmpuUe3</td>\n",
              "      <td>NaN</td>\n",
              "      <td>2012-01-05</td>\n",
              "      <td>Reggaeton viejito🔥</td>\n",
              "      <td>0si5tw70PIgPkY1Eva6V8f</td>\n",
              "      <td>latin</td>\n",
              "      <td>...</td>\n",
              "      <td>11</td>\n",
              "      <td>-6.075</td>\n",
              "      <td>0</td>\n",
              "      <td>0.0366</td>\n",
              "      <td>0.0606</td>\n",
              "      <td>0.00653</td>\n",
              "      <td>0.1030</td>\n",
              "      <td>0.726</td>\n",
              "      <td>97.017</td>\n",
              "      <td>252773</td>\n",
              "    </tr>\n",
              "    <tr>\n",
              "      <th>19811</th>\n",
              "      <td>69gRFGOWY9OMpFJgFol1u0</td>\n",
              "      <td>NaN</td>\n",
              "      <td>NaN</td>\n",
              "      <td>0</td>\n",
              "      <td>717UG2du6utFe7CdmpuUe3</td>\n",
              "      <td>NaN</td>\n",
              "      <td>2012-01-05</td>\n",
              "      <td>latin hip hop</td>\n",
              "      <td>3nH8aytdqNeRbcRCg3dw9q</td>\n",
              "      <td>latin</td>\n",
              "      <td>...</td>\n",
              "      <td>6</td>\n",
              "      <td>-7.635</td>\n",
              "      <td>1</td>\n",
              "      <td>0.1760</td>\n",
              "      <td>0.0410</td>\n",
              "      <td>0.00000</td>\n",
              "      <td>0.1160</td>\n",
              "      <td>0.649</td>\n",
              "      <td>95.999</td>\n",
              "      <td>282707</td>\n",
              "    </tr>\n",
              "  </tbody>\n",
              "</table>\n",
              "<p>5 rows × 23 columns</p>\n",
              "</div>\n",
              "    <div class=\"colab-df-buttons\">\n",
              "\n",
              "  <div class=\"colab-df-container\">\n",
              "    <button class=\"colab-df-convert\" onclick=\"convertToInteractive('df-0e7ae405-6ba4-4fbe-87a5-a7427befb199')\"\n",
              "            title=\"Convert this dataframe to an interactive table.\"\n",
              "            style=\"display:none;\">\n",
              "\n",
              "  <svg xmlns=\"http://www.w3.org/2000/svg\" height=\"24px\" viewBox=\"0 -960 960 960\">\n",
              "    <path d=\"M120-120v-720h720v720H120Zm60-500h600v-160H180v160Zm220 220h160v-160H400v160Zm0 220h160v-160H400v160ZM180-400h160v-160H180v160Zm440 0h160v-160H620v160ZM180-180h160v-160H180v160Zm440 0h160v-160H620v160Z\"/>\n",
              "  </svg>\n",
              "    </button>\n",
              "\n",
              "  <style>\n",
              "    .colab-df-container {\n",
              "      display:flex;\n",
              "      gap: 12px;\n",
              "    }\n",
              "\n",
              "    .colab-df-convert {\n",
              "      background-color: #E8F0FE;\n",
              "      border: none;\n",
              "      border-radius: 50%;\n",
              "      cursor: pointer;\n",
              "      display: none;\n",
              "      fill: #1967D2;\n",
              "      height: 32px;\n",
              "      padding: 0 0 0 0;\n",
              "      width: 32px;\n",
              "    }\n",
              "\n",
              "    .colab-df-convert:hover {\n",
              "      background-color: #E2EBFA;\n",
              "      box-shadow: 0px 1px 2px rgba(60, 64, 67, 0.3), 0px 1px 3px 1px rgba(60, 64, 67, 0.15);\n",
              "      fill: #174EA6;\n",
              "    }\n",
              "\n",
              "    .colab-df-buttons div {\n",
              "      margin-bottom: 4px;\n",
              "    }\n",
              "\n",
              "    [theme=dark] .colab-df-convert {\n",
              "      background-color: #3B4455;\n",
              "      fill: #D2E3FC;\n",
              "    }\n",
              "\n",
              "    [theme=dark] .colab-df-convert:hover {\n",
              "      background-color: #434B5C;\n",
              "      box-shadow: 0px 1px 3px 1px rgba(0, 0, 0, 0.15);\n",
              "      filter: drop-shadow(0px 1px 2px rgba(0, 0, 0, 0.3));\n",
              "      fill: #FFFFFF;\n",
              "    }\n",
              "  </style>\n",
              "\n",
              "    <script>\n",
              "      const buttonEl =\n",
              "        document.querySelector('#df-0e7ae405-6ba4-4fbe-87a5-a7427befb199 button.colab-df-convert');\n",
              "      buttonEl.style.display =\n",
              "        google.colab.kernel.accessAllowed ? 'block' : 'none';\n",
              "\n",
              "      async function convertToInteractive(key) {\n",
              "        const element = document.querySelector('#df-0e7ae405-6ba4-4fbe-87a5-a7427befb199');\n",
              "        const dataTable =\n",
              "          await google.colab.kernel.invokeFunction('convertToInteractive',\n",
              "                                                    [key], {});\n",
              "        if (!dataTable) return;\n",
              "\n",
              "        const docLinkHtml = 'Like what you see? Visit the ' +\n",
              "          '<a target=\"_blank\" href=https://colab.research.google.com/notebooks/data_table.ipynb>data table notebook</a>'\n",
              "          + ' to learn more about interactive tables.';\n",
              "        element.innerHTML = '';\n",
              "        dataTable['output_type'] = 'display_data';\n",
              "        await google.colab.output.renderOutput(dataTable, element);\n",
              "        const docLink = document.createElement('div');\n",
              "        docLink.innerHTML = docLinkHtml;\n",
              "        element.appendChild(docLink);\n",
              "      }\n",
              "    </script>\n",
              "  </div>\n",
              "\n",
              "\n",
              "<div id=\"df-2f9f0f24-cd44-4ada-86c1-87cb890b9a65\">\n",
              "  <button class=\"colab-df-quickchart\" onclick=\"quickchart('df-2f9f0f24-cd44-4ada-86c1-87cb890b9a65')\"\n",
              "            title=\"Suggest charts\"\n",
              "            style=\"display:none;\">\n",
              "\n",
              "<svg xmlns=\"http://www.w3.org/2000/svg\" height=\"24px\"viewBox=\"0 0 24 24\"\n",
              "     width=\"24px\">\n",
              "    <g>\n",
              "        <path d=\"M19 3H5c-1.1 0-2 .9-2 2v14c0 1.1.9 2 2 2h14c1.1 0 2-.9 2-2V5c0-1.1-.9-2-2-2zM9 17H7v-7h2v7zm4 0h-2V7h2v10zm4 0h-2v-4h2v4z\"/>\n",
              "    </g>\n",
              "</svg>\n",
              "  </button>\n",
              "\n",
              "<style>\n",
              "  .colab-df-quickchart {\n",
              "      --bg-color: #E8F0FE;\n",
              "      --fill-color: #1967D2;\n",
              "      --hover-bg-color: #E2EBFA;\n",
              "      --hover-fill-color: #174EA6;\n",
              "      --disabled-fill-color: #AAA;\n",
              "      --disabled-bg-color: #DDD;\n",
              "  }\n",
              "\n",
              "  [theme=dark] .colab-df-quickchart {\n",
              "      --bg-color: #3B4455;\n",
              "      --fill-color: #D2E3FC;\n",
              "      --hover-bg-color: #434B5C;\n",
              "      --hover-fill-color: #FFFFFF;\n",
              "      --disabled-bg-color: #3B4455;\n",
              "      --disabled-fill-color: #666;\n",
              "  }\n",
              "\n",
              "  .colab-df-quickchart {\n",
              "    background-color: var(--bg-color);\n",
              "    border: none;\n",
              "    border-radius: 50%;\n",
              "    cursor: pointer;\n",
              "    display: none;\n",
              "    fill: var(--fill-color);\n",
              "    height: 32px;\n",
              "    padding: 0;\n",
              "    width: 32px;\n",
              "  }\n",
              "\n",
              "  .colab-df-quickchart:hover {\n",
              "    background-color: var(--hover-bg-color);\n",
              "    box-shadow: 0 1px 2px rgba(60, 64, 67, 0.3), 0 1px 3px 1px rgba(60, 64, 67, 0.15);\n",
              "    fill: var(--button-hover-fill-color);\n",
              "  }\n",
              "\n",
              "  .colab-df-quickchart-complete:disabled,\n",
              "  .colab-df-quickchart-complete:disabled:hover {\n",
              "    background-color: var(--disabled-bg-color);\n",
              "    fill: var(--disabled-fill-color);\n",
              "    box-shadow: none;\n",
              "  }\n",
              "\n",
              "  .colab-df-spinner {\n",
              "    border: 2px solid var(--fill-color);\n",
              "    border-color: transparent;\n",
              "    border-bottom-color: var(--fill-color);\n",
              "    animation:\n",
              "      spin 1s steps(1) infinite;\n",
              "  }\n",
              "\n",
              "  @keyframes spin {\n",
              "    0% {\n",
              "      border-color: transparent;\n",
              "      border-bottom-color: var(--fill-color);\n",
              "      border-left-color: var(--fill-color);\n",
              "    }\n",
              "    20% {\n",
              "      border-color: transparent;\n",
              "      border-left-color: var(--fill-color);\n",
              "      border-top-color: var(--fill-color);\n",
              "    }\n",
              "    30% {\n",
              "      border-color: transparent;\n",
              "      border-left-color: var(--fill-color);\n",
              "      border-top-color: var(--fill-color);\n",
              "      border-right-color: var(--fill-color);\n",
              "    }\n",
              "    40% {\n",
              "      border-color: transparent;\n",
              "      border-right-color: var(--fill-color);\n",
              "      border-top-color: var(--fill-color);\n",
              "    }\n",
              "    60% {\n",
              "      border-color: transparent;\n",
              "      border-right-color: var(--fill-color);\n",
              "    }\n",
              "    80% {\n",
              "      border-color: transparent;\n",
              "      border-right-color: var(--fill-color);\n",
              "      border-bottom-color: var(--fill-color);\n",
              "    }\n",
              "    90% {\n",
              "      border-color: transparent;\n",
              "      border-bottom-color: var(--fill-color);\n",
              "    }\n",
              "  }\n",
              "</style>\n",
              "\n",
              "  <script>\n",
              "    async function quickchart(key) {\n",
              "      const quickchartButtonEl =\n",
              "        document.querySelector('#' + key + ' button');\n",
              "      quickchartButtonEl.disabled = true;  // To prevent multiple clicks.\n",
              "      quickchartButtonEl.classList.add('colab-df-spinner');\n",
              "      try {\n",
              "        const charts = await google.colab.kernel.invokeFunction(\n",
              "            'suggestCharts', [key], {});\n",
              "      } catch (error) {\n",
              "        console.error('Error during call to suggestCharts:', error);\n",
              "      }\n",
              "      quickchartButtonEl.classList.remove('colab-df-spinner');\n",
              "      quickchartButtonEl.classList.add('colab-df-quickchart-complete');\n",
              "    }\n",
              "    (() => {\n",
              "      let quickchartButtonEl =\n",
              "        document.querySelector('#df-2f9f0f24-cd44-4ada-86c1-87cb890b9a65 button');\n",
              "      quickchartButtonEl.style.display =\n",
              "        google.colab.kernel.accessAllowed ? 'block' : 'none';\n",
              "    })();\n",
              "  </script>\n",
              "</div>\n",
              "    </div>\n",
              "  </div>\n"
            ]
          },
          "metadata": {},
          "execution_count": 153
        }
      ]
    },
    {
      "cell_type": "code",
      "source": [
        "# Reduce non-important features in data manually by dropping the non-numeric columns and only keep numeric ones\n",
        "df_song.drop(columns=['track_id','track_name','track_artist','track_album_id','track_album_name',\n",
        "                         'playlist_id','playlist_name','playlist_id','playlist_subgenre', 'track_album_release_date'],inplace=True)"
      ],
      "metadata": {
        "id": "mACPCRWePqeS"
      },
      "execution_count": 154,
      "outputs": []
    },
    {
      "cell_type": "code",
      "source": [
        "# check completeness of data\n",
        "df_song.isnull().sum()"
      ],
      "metadata": {
        "colab": {
          "base_uri": "https://localhost:8080/"
        },
        "id": "68vRY_27En43",
        "outputId": "726c02a5-9ddd-4285-f9e1-4b4c60706b04"
      },
      "execution_count": 155,
      "outputs": [
        {
          "output_type": "execute_result",
          "data": {
            "text/plain": [
              "track_popularity    0\n",
              "playlist_genre      0\n",
              "danceability        0\n",
              "energy              0\n",
              "key                 0\n",
              "loudness            0\n",
              "mode                0\n",
              "speechiness         0\n",
              "acousticness        0\n",
              "instrumentalness    0\n",
              "liveness            0\n",
              "valence             0\n",
              "tempo               0\n",
              "duration_ms         0\n",
              "dtype: int64"
            ]
          },
          "metadata": {},
          "execution_count": 155
        }
      ]
    },
    {
      "cell_type": "code",
      "source": [
        "# display the number of genres (labels in this task)\n",
        "genre = df_song['playlist_genre'].unique()\n",
        "genre"
      ],
      "metadata": {
        "colab": {
          "base_uri": "https://localhost:8080/"
        },
        "id": "2mJNTBl4KPac",
        "outputId": "514ca107-2a8b-4376-e370-3e0e2ec3f481"
      },
      "execution_count": 156,
      "outputs": [
        {
          "output_type": "execute_result",
          "data": {
            "text/plain": [
              "array(['pop', 'rap', 'rock', 'latin', 'r&b', 'edm'], dtype=object)"
            ]
          },
          "metadata": {},
          "execution_count": 156
        }
      ]
    },
    {
      "cell_type": "code",
      "source": [
        "# convert the string value of genre into a binary variable\n",
        "df_song['numeric_genre'] = df_song['playlist_genre'].map(\n",
        "    {\"pop\": 1, \"rap\": 2, \"rock\":3, \"latin\":4, \"r&b\":5,  \"edm\":6})"
      ],
      "metadata": {
        "id": "YLc9TaLDBWDK"
      },
      "execution_count": 157,
      "outputs": []
    },
    {
      "cell_type": "code",
      "source": [
        "df_song.info()\n",
        "feature_list = ['track_popularity', 'danceability', 'energy', 'key', 'loudness',\n",
        "                'mode', 'speechiness', 'acousticness', 'instrumentalness',\n",
        "                'liveness', 'valence', 'tempo', 'duration_ms']"
      ],
      "metadata": {
        "colab": {
          "base_uri": "https://localhost:8080/"
        },
        "id": "EDOxcdA0GqPo",
        "outputId": "29f806d7-4023-4f5f-832c-20e406d6ad68"
      },
      "execution_count": 158,
      "outputs": [
        {
          "output_type": "stream",
          "name": "stdout",
          "text": [
            "<class 'pandas.core.frame.DataFrame'>\n",
            "Int64Index: 32833 entries, 0 to 32832\n",
            "Data columns (total 15 columns):\n",
            " #   Column            Non-Null Count  Dtype  \n",
            "---  ------            --------------  -----  \n",
            " 0   track_popularity  32833 non-null  int64  \n",
            " 1   playlist_genre    32833 non-null  object \n",
            " 2   danceability      32833 non-null  float64\n",
            " 3   energy            32833 non-null  float64\n",
            " 4   key               32833 non-null  int64  \n",
            " 5   loudness          32833 non-null  float64\n",
            " 6   mode              32833 non-null  int64  \n",
            " 7   speechiness       32833 non-null  float64\n",
            " 8   acousticness      32833 non-null  float64\n",
            " 9   instrumentalness  32833 non-null  float64\n",
            " 10  liveness          32833 non-null  float64\n",
            " 11  valence           32833 non-null  float64\n",
            " 12  tempo             32833 non-null  float64\n",
            " 13  duration_ms       32833 non-null  int64  \n",
            " 14  numeric_genre     32833 non-null  int64  \n",
            "dtypes: float64(9), int64(5), object(1)\n",
            "memory usage: 4.0+ MB\n"
          ]
        }
      ]
    },
    {
      "cell_type": "markdown",
      "source": [
        "# Partition data into train and test splits so we can start training the model using k-fold validation"
      ],
      "metadata": {
        "id": "iWWVbzOvHgR2"
      }
    },
    {
      "cell_type": "code",
      "source": [
        "# display the shape of the data\n",
        "df_song.shape"
      ],
      "metadata": {
        "colab": {
          "base_uri": "https://localhost:8080/"
        },
        "id": "l1NB2vMuSMVA",
        "outputId": "ce19c093-b61d-41d5-9352-bd7ddbbd4c60"
      },
      "execution_count": 159,
      "outputs": [
        {
          "output_type": "execute_result",
          "data": {
            "text/plain": [
              "(32833, 15)"
            ]
          },
          "metadata": {},
          "execution_count": 159
        }
      ]
    },
    {
      "cell_type": "code",
      "source": [
        "# Extract features and labels and create set to store them\n",
        "X = df_song.drop(['playlist_genre', 'numeric_genre'], axis=1)  # feature set\n",
        "y = df_song['numeric_genre'] # target variable"
      ],
      "metadata": {
        "id": "zAicgHZcLc-F"
      },
      "execution_count": 160,
      "outputs": []
    },
    {
      "cell_type": "markdown",
      "source": [
        "# Now data is ready to used for training and testing purpose. We also perform hyperparameter tuning and report test/train error and test accuracy. Plots are included."
      ],
      "metadata": {
        "id": "_7rQF__mHoB0"
      }
    },
    {
      "cell_type": "markdown",
      "source": [
        "# Try K-NN classifier with parameter tuning"
      ],
      "metadata": {
        "id": "f2UexaztM4e2"
      }
    },
    {
      "cell_type": "code",
      "source": [
        "# Split the data into training and testing sets\n",
        "X_train, X_test, y_train, y_test = train_test_split(X, y,\n",
        "                                                    test_size=0.25,\n",
        "                                                    random_state=7,\n",
        "                                                    shuffle=True)"
      ],
      "metadata": {
        "id": "vMfFhZyEUh0d"
      },
      "execution_count": 161,
      "outputs": []
    },
    {
      "cell_type": "code",
      "source": [
        "print('Training Features Shape:', X_train.shape)\n",
        "print('Training Labels Shape:', y_train.shape)\n",
        "print('Testing Features Shape:', X_test.shape)\n",
        "print('Testing Labels Shape:', y_test.shape)"
      ],
      "metadata": {
        "colab": {
          "base_uri": "https://localhost:8080/"
        },
        "id": "oCctQIz6m9NJ",
        "outputId": "e124b38e-447b-46e4-ff28-2b8b3bc1ed8f"
      },
      "execution_count": 162,
      "outputs": [
        {
          "output_type": "stream",
          "name": "stdout",
          "text": [
            "Training Features Shape: (24624, 13)\n",
            "Training Labels Shape: (24624,)\n",
            "Testing Features Shape: (8209, 13)\n",
            "Testing Labels Shape: (8209,)\n"
          ]
        }
      ]
    },
    {
      "cell_type": "code",
      "source": [
        "from sklearn import metrics\n",
        "\n",
        "# parameters\n",
        "kvals = [5, 6, 7, 8, 9, 10, 11, 12, 13, 14, 15, 16]\n",
        "\n",
        "# test and train error list\n",
        "knn_test_errors = []\n",
        "knn_train_errors = []\n",
        "\n",
        "for k in kvals:\n",
        "    knn = KNeighborsClassifier(n_neighbors=k)\n",
        "    knn.fit(X_train, y_train)\n",
        "\n",
        "    # get train errors\n",
        "    train_accuracy = knn.score(X_train, y_train)\n",
        "    knn_train_errors.append(1 - train_accuracy)\n",
        "\n",
        "    # predict on test data and get the test error (complement of accuracy)\n",
        "    # against its true labels\n",
        "    knn_accuracy = knn.score(X_test, y_test)\n",
        "    knn_test_errors.append(1 - knn_accuracy)\n",
        "\n",
        "    print(f'KNN with k={k} has test accuracy of {knn_accuracy:.8f}')"
      ],
      "metadata": {
        "colab": {
          "base_uri": "https://localhost:8080/"
        },
        "id": "VgJCm0SuJym8",
        "outputId": "9b7503a2-6e27-4270-c891-c5532b763f77"
      },
      "execution_count": 163,
      "outputs": [
        {
          "output_type": "stream",
          "name": "stdout",
          "text": [
            "KNN with k=5 has test accuracy of 0.26483128\n",
            "KNN with k=6 has test accuracy of 0.25849677\n",
            "KNN with k=7 has test accuracy of 0.25191863\n",
            "KNN with k=8 has test accuracy of 0.25033500\n",
            "KNN with k=9 has test accuracy of 0.24862955\n",
            "KNN with k=10 has test accuracy of 0.25118772\n",
            "KNN with k=11 has test accuracy of 0.24643684\n",
            "KNN with k=12 has test accuracy of 0.24339140\n",
            "KNN with k=13 has test accuracy of 0.24607139\n",
            "KNN with k=14 has test accuracy of 0.24899501\n",
            "KNN with k=15 has test accuracy of 0.24777683\n",
            "KNN with k=16 has test accuracy of 0.24765501\n"
          ]
        }
      ]
    },
    {
      "cell_type": "code",
      "source": [
        "# best test accuracy\n",
        "print(1-min(knn_test_errors))"
      ],
      "metadata": {
        "colab": {
          "base_uri": "https://localhost:8080/"
        },
        "id": "IstQ_JtyN458",
        "outputId": "f7ae0bb5-5bf7-4c14-abb2-49806a715902"
      },
      "execution_count": 164,
      "outputs": [
        {
          "output_type": "stream",
          "name": "stdout",
          "text": [
            "0.2648312827384578\n"
          ]
        }
      ]
    },
    {
      "cell_type": "code",
      "source": [
        "plt.figure(figsize=(10, 4))\n",
        "plt.plot(kvals, knn_test_errors, label='Test Error', marker='o')\n",
        "plt.plot(kvals, knn_train_errors, label='Test Error', marker='s')\n",
        "plt.title('Train and Test Errors vs. Number of Neighbors (k)')\n",
        "plt.xlabel('Number of neighbors (k)')\n",
        "plt.ylabel('Errors')\n",
        "plt.legend()\n",
        "plt.show()"
      ],
      "metadata": {
        "colab": {
          "base_uri": "https://localhost:8080/",
          "height": 393
        },
        "id": "bxUZHg9IKXv1",
        "outputId": "e96143e2-5d49-4025-d111-b84636735f20"
      },
      "execution_count": 165,
      "outputs": [
        {
          "output_type": "display_data",
          "data": {
            "text/plain": [
              "<Figure size 1000x400 with 1 Axes>"
            ],
            "image/png": "[encoded data removed]"
          },
          "metadata": {}
        }
      ]
    },
    {
      "cell_type": "markdown",
      "source": [
        "Overall, this KNN classifier has bad accuracy performance and has high train and test error. Let's try another model."
      ],
      "metadata": {
        "id": "SXbyyJq6brMo"
      }
    },
    {
      "cell_type": "markdown",
      "source": [
        "# Logistic Regression\n",
        "try logistic regression and logistic regression using SGD from sklearn"
      ],
      "metadata": {
        "id": "wT63TlkRUiYS"
      }
    },
    {
      "cell_type": "code",
      "source": [
        "from sklearn.linear_model import SGDClassifier\n",
        "from sklearn.linear_model import LogisticRegression\n",
        "\n",
        "lr = LogisticRegression(multi_class='multinomial', n_jobs = 5)\n",
        "lr.fit(X_train, y_train)\n",
        "lr_accuracy = lr.score(X_test, y_test)\n",
        "# append the list of test error for the current alpha val\n",
        "lr_accuracy"
      ],
      "metadata": {
        "id": "FjVVUfI0UmZa",
        "colab": {
          "base_uri": "https://localhost:8080/"
        },
        "outputId": "e92dd11d-bce6-424d-a3fe-9fa82db4937c"
      },
      "execution_count": 166,
      "outputs": [
        {
          "output_type": "execute_result",
          "data": {
            "text/plain": [
              "0.18443172128152027"
            ]
          },
          "metadata": {},
          "execution_count": 166
        }
      ]
    },
    {
      "cell_type": "code",
      "source": [
        "lr_test_errors = []\n",
        "lr_train_errors = []\n",
        "\n",
        "learning_rates = [5.0, 4.75, 4.5, 4.0, 3.75, 3.5, 3.25, 3.0, 2.0]\n",
        "\n",
        "for eta in learning_rates:\n",
        "    # train and fit the model with logistic regression\n",
        "    lr = SGDClassifier(loss='log_loss', penalty = 'l2', eta0 = eta)\n",
        "    lr.fit(X_train, y_train)\n",
        "\n",
        "    # predict on train data and get the train error (complement of accuracy)\n",
        "    accuracy_train = lr.score(X_train, y_train)\n",
        "    lr_train_errors.append(1 - accuracy_train)\n",
        "\n",
        "    # predict on test data and get the test error (complement of accuracy)\n",
        "    # against its true labels\n",
        "    accuracy = lr.score(X_test, y_test)\n",
        "    lr_test_errors.append(1-accuracy)\n",
        "\n",
        "    print(f'lr={eta} has test accuracy of {accuracy:.12f}')"
      ],
      "metadata": {
        "colab": {
          "base_uri": "https://localhost:8080/"
        },
        "id": "yejf89b_YqQC",
        "outputId": "52aae573-0d45-47ca-ae3d-8762e21e6d95"
      },
      "execution_count": 167,
      "outputs": [
        {
          "output_type": "stream",
          "name": "stdout",
          "text": [
            "lr=5.0 has test accuracy of 0.154220976976\n",
            "lr=4.75 has test accuracy of 0.162260933122\n",
            "lr=4.5 has test accuracy of 0.159946400292\n",
            "lr=4.0 has test accuracy of 0.154220976976\n",
            "lr=3.75 has test accuracy of 0.167255451334\n",
            "lr=3.5 has test accuracy of 0.171884516994\n",
            "lr=3.25 has test accuracy of 0.162260933122\n",
            "lr=3.0 has test accuracy of 0.162260933122\n",
            "lr=2.0 has test accuracy of 0.167255451334\n"
          ]
        }
      ]
    },
    {
      "cell_type": "code",
      "source": [
        "plt.figure(figsize=(10, 4))\n",
        "plt.plot(learning_rates, lr_test_errors, label='Test Error', marker='o')\n",
        "plt.plot(learning_rates, lr_train_errors, label='Train Error', marker='s')\n",
        "plt.title('Test and Train Errors vs. Learning Rates')\n",
        "plt.xlabel('learning rate')\n",
        "plt.ylabel('Errors')\n",
        "plt.legend()\n",
        "plt.show()"
      ],
      "metadata": {
        "colab": {
          "base_uri": "https://localhost:8080/",
          "height": 390
        },
        "id": "trg7hvHFeFlO",
        "outputId": "a5d30b8c-7810-4cd4-f5aa-d2837f013269"
      },
      "execution_count": 168,
      "outputs": [
        {
          "output_type": "display_data",
          "data": {
            "text/plain": [
              "<Figure size 1000x400 with 1 Axes>"
            ],
            "image/png": "[encoded data removed]"
          },
          "metadata": {}
        }
      ]
    },
    {
      "cell_type": "markdown",
      "source": [
        "# Constrained Decision Tree and Random Forest\n",
        "\n",
        "constrains on maximum depth, maximum leaf nodes and minimum samples on a leaf"
      ],
      "metadata": {
        "id": "o3-nmUa1Uovh"
      }
    },
    {
      "cell_type": "code",
      "source": [
        "from sklearn.tree import DecisionTreeClassifier\n",
        "from sklearn.metrics import accuracy_score\n",
        "from sklearn.svm import SVC\n",
        "from sklearn import tree\n",
        "from sklearn.tree import export_graphviz\n",
        "import pydot\n",
        "\n",
        "clt_train_errors = []\n",
        "clt_test_errors = []\n",
        "\n",
        "nodes = [30, 50, 100, 200, 300, 350, 450, 500, 600, 700, None]\n",
        "for d in nodes:\n",
        "  clt = DecisionTreeClassifier(criterion=\"entropy\", max_features=10, max_leaf_nodes=d)\n",
        "  clt.fit(X_train, y_train)\n",
        "\n",
        "  accuracy = clt.score(X_train, y_train)\n",
        "  clt_train_errors.append(1-accuracy)\n",
        "\n",
        "\n",
        "  accuracy = clt.score(X_test, y_test)\n",
        "  clt_test_errors.append(1-accuracy)\n",
        "\n",
        "  print(f'max_leaf_nodes={d} has test accuracy of {accuracy:.12f}')"
      ],
      "metadata": {
        "id": "ljHKX3xIUolD",
        "colab": {
          "base_uri": "https://localhost:8080/"
        },
        "outputId": "1030b118-dd04-4cf2-bd29-a64efbdc42bb"
      },
      "execution_count": 169,
      "outputs": [
        {
          "output_type": "stream",
          "name": "stdout",
          "text": [
            "max_leaf_nodes=30 has test accuracy of 0.406261420392\n",
            "max_leaf_nodes=50 has test accuracy of 0.440126690218\n",
            "max_leaf_nodes=100 has test accuracy of 0.458886587891\n",
            "max_leaf_nodes=200 has test accuracy of 0.462662930929\n",
            "max_leaf_nodes=300 has test accuracy of 0.485077354124\n",
            "max_leaf_nodes=350 has test accuracy of 0.475453770252\n",
            "max_leaf_nodes=450 has test accuracy of 0.480204653429\n",
            "max_leaf_nodes=500 has test accuracy of 0.473504689974\n",
            "max_leaf_nodes=600 has test accuracy of 0.491046412474\n",
            "max_leaf_nodes=700 has test accuracy of 0.488244609575\n",
            "max_leaf_nodes=None has test accuracy of 0.437446704836\n"
          ]
        }
      ]
    },
    {
      "cell_type": "code",
      "source": [
        "print(1-min(clt_test_errors))"
      ],
      "metadata": {
        "colab": {
          "base_uri": "https://localhost:8080/"
        },
        "id": "bbOgQEHVTkqV",
        "outputId": "92cddba5-158a-4f26-bafa-74a5d7b467f7"
      },
      "execution_count": 170,
      "outputs": [
        {
          "output_type": "stream",
          "name": "stdout",
          "text": [
            "0.49104641247411385\n"
          ]
        }
      ]
    },
    {
      "cell_type": "code",
      "source": [
        "plt.figure(figsize=(10, 4))\n",
        "plt.plot(nodes, clt_test_errors, label='Test Error', marker='o')\n",
        "plt.plot(nodes, clt_train_errors, label='Train Error', marker='s')\n",
        "plt.title('Errors vs. Nodes')\n",
        "plt.xlabel('Number of nodes')\n",
        "plt.ylabel('Errors')\n",
        "plt.legend()\n",
        "plt.show()"
      ],
      "metadata": {
        "colab": {
          "base_uri": "https://localhost:8080/",
          "height": 390
        },
        "id": "VEdBu5qSTocJ",
        "outputId": "92fe1e7e-9eae-491e-cad1-207ee3b182ed"
      },
      "execution_count": 171,
      "outputs": [
        {
          "output_type": "display_data",
          "data": {
            "text/plain": [
              "<Figure size 1000x400 with 1 Axes>"
            ],
            "image/png": "[encoded data removed]"
          },
          "metadata": {}
        }
      ]
    },
    {
      "cell_type": "code",
      "source": [
        "clt = DecisionTreeClassifier(criterion=\"entropy\", max_features=10, max_leaf_nodes=350)\n",
        "clt.fit(X_train, y_train)\n",
        "# Get numerical feature importances\n",
        "importances = list(clt.feature_importances_)\n",
        "# List of tuples with variable and importance\n",
        "feature_importances = [(feature, round(importance, 2)) for feature, importance in zip(feature_list, importances)]\n",
        "# Sort the feature importances by most important first\n",
        "feature_importances = sorted(feature_importances, key = lambda x: x[1], reverse = True)\n",
        "# Print out the feature and importances\n",
        "[print('Variable: {:20} Importance: {}'.format(*pair)) for pair in feature_importances];\n"
      ],
      "metadata": {
        "colab": {
          "base_uri": "https://localhost:8080/"
        },
        "id": "0jJFK_QUVeHw",
        "outputId": "38ac2de4-d363-47da-b75c-cd56e72a2e26"
      },
      "execution_count": 172,
      "outputs": [
        {
          "output_type": "stream",
          "name": "stdout",
          "text": [
            "Variable: speechiness          Importance: 0.18\n",
            "Variable: danceability         Importance: 0.16\n",
            "Variable: tempo                Importance: 0.16\n",
            "Variable: energy               Importance: 0.13\n",
            "Variable: valence              Importance: 0.09\n",
            "Variable: duration_ms          Importance: 0.08\n",
            "Variable: loudness             Importance: 0.06\n",
            "Variable: acousticness         Importance: 0.06\n",
            "Variable: instrumentalness     Importance: 0.06\n",
            "Variable: track_popularity     Importance: 0.03\n",
            "Variable: key                  Importance: 0.0\n",
            "Variable: mode                 Importance: 0.0\n",
            "Variable: liveness             Importance: 0.0\n"
          ]
        }
      ]
    },
    {
      "cell_type": "markdown",
      "source": [
        "We can see that Decision tree performs better than logistic regression and knn classifier, we can proceed to use random forest - random ordering of feature selections. Let's also compare the feature importance from random forest."
      ],
      "metadata": {
        "id": "3F6zKy4ITxGk"
      }
    },
    {
      "cell_type": "code",
      "source": [
        "from sklearn.ensemble import RandomForestClassifier, RandomForestRegressor\n",
        "\n",
        "depths = [5, 10, 20, 30]\n",
        "rfc_test_errors = []\n",
        "rfc_train_errors = []\n",
        "\n",
        "for d in depths:\n",
        "  rfc = RandomForestClassifier(criterion=\"entropy\", max_depth=500, max_features=d)\n",
        "  rfc.fit(X_train, y_train)\n",
        "\n",
        "  accuracy = rfc.score(X_train, y_train)\n",
        "  rfc_train_errors.append(1-accuracy)\n",
        "\n",
        "  accuracy = rfc.score(X_test, y_test)\n",
        "  rfc_test_errors.append(1-accuracy)\n",
        "\n",
        "  print(f'max_depths={d} has test accuracy of {accuracy:.12f}')"
      ],
      "metadata": {
        "colab": {
          "base_uri": "https://localhost:8080/"
        },
        "id": "38t7xZgFmE2h",
        "outputId": "a54380ee-e64f-4866-84da-04ad46ece050"
      },
      "execution_count": 173,
      "outputs": [
        {
          "output_type": "stream",
          "name": "stdout",
          "text": [
            "max_depths=5 has test accuracy of 0.558898769643\n",
            "max_depths=10 has test accuracy of 0.553295163845\n",
            "max_depths=20 has test accuracy of 0.551955171154\n",
            "max_depths=30 has test accuracy of 0.556096966744\n"
          ]
        }
      ]
    },
    {
      "cell_type": "code",
      "source": [
        "plt.figure(figsize=(10, 4))\n",
        "plt.plot(depths, rfc_test_errors, label='Test Error', marker='o')\n",
        "plt.plot(depths, rfc_train_errors, label='Train Error', marker='s')\n",
        "plt.title('Errors vs. Max Depths')\n",
        "plt.xlabel('Max depths')\n",
        "plt.ylabel('Errors')\n",
        "plt.legend()\n",
        "plt.show()"
      ],
      "metadata": {
        "colab": {
          "base_uri": "https://localhost:8080/",
          "height": 393
        },
        "id": "HKXXNIxQa5c6",
        "outputId": "e614a388-bbdf-4670-cff0-7f6ad59fce9b"
      },
      "execution_count": 174,
      "outputs": [
        {
          "output_type": "display_data",
          "data": {
            "text/plain": [
              "<Figure size 1000x400 with 1 Axes>"
            ],
            "image/png": "[encoded data removed]"
          },
          "metadata": {}
        }
      ]
    },
    {
      "cell_type": "code",
      "source": [
        "rfc = RandomForestClassifier(criterion=\"entropy\", max_depth=500, max_features=10)\n",
        "rfc.fit(X_train, y_train)\n",
        "# Get numerical feature importances\n",
        "importances = list(rfc.feature_importances_)\n",
        "# List of tuples with variable and importance\n",
        "feature_importances = [(feature, round(importance, 2)) for feature, importance in zip(feature_list, importances)]\n",
        "# Sort the feature importances by most important first\n",
        "feature_importances = sorted(feature_importances, key = lambda x: x[1], reverse = True)\n",
        "# Print out the feature and importances\n",
        "[print('Variable: {:20} Importance: {}'.format(*pair)) for pair in feature_importances];\n"
      ],
      "metadata": {
        "colab": {
          "base_uri": "https://localhost:8080/"
        },
        "id": "kwNYrALeX01q",
        "outputId": "6bb46e0f-19f3-41f7-c7ec-1264d77550f6"
      },
      "execution_count": 175,
      "outputs": [
        {
          "output_type": "stream",
          "name": "stdout",
          "text": [
            "Variable: tempo                Importance: 0.13\n",
            "Variable: speechiness          Importance: 0.12\n",
            "Variable: danceability         Importance: 0.11\n",
            "Variable: energy               Importance: 0.1\n",
            "Variable: valence              Importance: 0.09\n",
            "Variable: duration_ms          Importance: 0.08\n",
            "Variable: loudness             Importance: 0.07\n",
            "Variable: acousticness         Importance: 0.07\n",
            "Variable: track_popularity     Importance: 0.06\n",
            "Variable: instrumentalness     Importance: 0.06\n",
            "Variable: liveness             Importance: 0.05\n",
            "Variable: key                  Importance: 0.03\n",
            "Variable: mode                 Importance: 0.01\n"
          ]
        }
      ]
    },
    {
      "cell_type": "markdown",
      "source": [
        "Comparing the feature importance to that in the single decision tree, we can see that the top three features of most importance ar etempo. sppechiness, danceability. And the last three unimportant features are liveness, key, and mode. Feature selection may help improve test accuracy."
      ],
      "metadata": {
        "id": "cL211whYc4CJ"
      }
    },
    {
      "cell_type": "markdown",
      "source": [
        "# Neural Network\n",
        "We try to train some simple neural network model to see if there is more space for test accuracy increase. Try with a 3-layer fully-connected network"
      ],
      "metadata": {
        "id": "rRnTq1Q6UlOF"
      }
    },
    {
      "cell_type": "code",
      "source": [
        "import torch.optim as optim\n",
        "from torch.utils.data import DataLoader, TensorDataset\n",
        "import matplotlib.pyplot as plt\n",
        "\n",
        "# Define a fully connected network\n",
        "class NeuralNetwork(nn.Module):\n",
        "  def __init__(self, input_size):\n",
        "    super(NeuralNetwork, self).__init__()\n",
        "    self.fc1 = nn.Linear(input_size, 128)\n",
        "    self.fc2 = nn.Linear(128, 64)\n",
        "    # Output for 6 classes\n",
        "    self.fc3 = nn.Linear(64, 7)\n",
        "\n",
        "  def forward(self, x):\n",
        "    x = torch.relu(self.fc1(x))\n",
        "    x = torch.relu(self.fc2(x))\n",
        "    x = self.fc3(x)\n",
        "    return x\n",
        "\n",
        "# Function to train the model\n",
        "def train(model, train_loader, val_loader, epochs=10):\n",
        "  criterion = nn.CrossEntropyLoss()\n",
        "  optimizer = optim.Adam(model.parameters(), lr=0.001)\n",
        "\n",
        "  train_losses, val_losses = [], []\n",
        "  train_accuracies, val_accuracies = [], []\n",
        "\n",
        "  for epoch in range(epochs):\n",
        "    # Training phase\n",
        "    model.train()\n",
        "    running_loss = 0.0\n",
        "    correct, total = 0, 0\n",
        "    for data in train_loader:\n",
        "      inputs, labels = data\n",
        "      optimizer.zero_grad()\n",
        "      outputs = model(inputs)\n",
        "      loss = criterion(outputs, labels)\n",
        "      loss.backward()\n",
        "      optimizer.step()\n",
        "\n",
        "      running_loss += loss.item()\n",
        "      _, predicted = torch.max(outputs.data, 1)\n",
        "      total += labels.size(0)\n",
        "      correct += (predicted == labels).sum().item()\n",
        "\n",
        "    train_losses.append(running_loss / len(train_loader))\n",
        "    train_accuracies.append(100 * correct / total)\n",
        "\n",
        "    # Validation phase\n",
        "    model.eval()\n",
        "    val_loss = 0.0\n",
        "    correct, total = 0, 0\n",
        "    with torch.no_grad():\n",
        "      for data in val_loader:\n",
        "        inputs, labels = data\n",
        "        outputs = model(inputs)\n",
        "        loss = criterion(outputs, labels)\n",
        "\n",
        "        val_loss += loss.item()\n",
        "        _, predicted = torch.max(outputs.data, 1)\n",
        "        total += labels.size(0)\n",
        "        correct += (predicted == labels).sum().item()\n",
        "\n",
        "    val_losses.append(val_loss / len(val_loader))\n",
        "    val_accuracies.append(100 * correct / total)\n",
        "\n",
        "    print(f\"Epoch {epoch+1}/{epochs} - \"\n",
        "          f\"Train loss: {train_losses[-1]:.4f},\"\n",
        "          f\"Train accuracy: {train_accuracies[-1]:.2f}%, \"\n",
        "          f\"Val loss: {val_losses[-1]:.4f}, \"\n",
        "          f\"Val accuracy: {val_accuracies[-1]:.2f}%\")\n",
        "\n",
        "  return train_losses, val_losses, train_accuracies, val_accuracies"
      ],
      "metadata": {
        "id": "AYgpU6MPzVcF"
      },
      "execution_count": 181,
      "outputs": []
    },
    {
      "cell_type": "code",
      "source": [
        "from sklearn.preprocessing import StandardScaler\n",
        "\n",
        "# Split the data into training and teststing sets\n",
        "X_train, X_test, y_train, y_test = train_test_split(X, y,\n",
        "                                                    test_size=0.25,\n",
        "                                                    random_state=7,\n",
        "                                                    shuffle=True)\n",
        "s = StandardScaler()\n",
        "s.fit(X_train)\n",
        "x_train_scale = s.transform(X_train)\n",
        "x_test_scale = s.transform(X_test)\n",
        "\n",
        "\n",
        "# Convert the numpy arrays to PyTorch tensors\n",
        "x_train_tensor = torch.tensor(x_train_scale, dtype=torch.float)\n",
        "y_train_tensor = torch.tensor(y_train.values, dtype=torch.long)\n",
        "x_test_tensor = torch.tensor(x_test_scale, dtype=torch.float)\n",
        "y_test_tensor = torch.tensor(y_test.values, dtype=torch.long)\n",
        "\n",
        "# Update the DataLoader with the new data\n",
        "train_loader = DataLoader(TensorDataset(x_train_tensor, y_train_tensor), batch_size=64, shuffle=True)\n",
        "val_loader = DataLoader(TensorDataset(x_test_tensor, y_test_tensor), batch_size=64)\n",
        "input_size = x_train_scale.shape[1]\n",
        "\n",
        "# Reinitialize the model and retrain\n",
        "model = NeuralNetwork(input_size)\n",
        "epochs = 30\n",
        "train_losses, val_losses, train_accuracies, val_accuracies = train(model, train_loader, val_loader, epochs)"
      ],
      "metadata": {
        "colab": {
          "base_uri": "https://localhost:8080/"
        },
        "id": "76CP3lHhzVeL",
        "outputId": "61c8780e-a105-44b6-efdf-62e636ed20fd"
      },
      "execution_count": 182,
      "outputs": [
        {
          "output_type": "stream",
          "name": "stdout",
          "text": [
            "Epoch 1/30 - Train loss: 1.4166,Train accuracy: 45.34%, Val loss: 1.3266, Val accuracy: 48.41%\n",
            "Epoch 2/30 - Train loss: 1.2861,Train accuracy: 50.71%, Val loss: 1.2633, Val accuracy: 51.43%\n",
            "Epoch 3/30 - Train loss: 1.2517,Train accuracy: 52.05%, Val loss: 1.2502, Val accuracy: 51.80%\n",
            "Epoch 4/30 - Train loss: 1.2302,Train accuracy: 53.13%, Val loss: 1.2394, Val accuracy: 52.78%\n",
            "Epoch 5/30 - Train loss: 1.2154,Train accuracy: 53.81%, Val loss: 1.2230, Val accuracy: 53.44%\n",
            "Epoch 6/30 - Train loss: 1.2030,Train accuracy: 54.36%, Val loss: 1.2198, Val accuracy: 53.26%\n",
            "Epoch 7/30 - Train loss: 1.1923,Train accuracy: 54.60%, Val loss: 1.2185, Val accuracy: 53.76%\n",
            "Epoch 8/30 - Train loss: 1.1839,Train accuracy: 54.95%, Val loss: 1.2111, Val accuracy: 54.25%\n",
            "Epoch 9/30 - Train loss: 1.1747,Train accuracy: 55.37%, Val loss: 1.2069, Val accuracy: 54.26%\n",
            "Epoch 10/30 - Train loss: 1.1682,Train accuracy: 55.50%, Val loss: 1.2069, Val accuracy: 53.93%\n",
            "Epoch 11/30 - Train loss: 1.1616,Train accuracy: 56.03%, Val loss: 1.2047, Val accuracy: 53.37%\n",
            "Epoch 12/30 - Train loss: 1.1564,Train accuracy: 56.03%, Val loss: 1.2049, Val accuracy: 54.12%\n",
            "Epoch 13/30 - Train loss: 1.1518,Train accuracy: 56.27%, Val loss: 1.1942, Val accuracy: 54.22%\n",
            "Epoch 14/30 - Train loss: 1.1456,Train accuracy: 56.49%, Val loss: 1.2043, Val accuracy: 54.21%\n",
            "Epoch 15/30 - Train loss: 1.1408,Train accuracy: 56.43%, Val loss: 1.1992, Val accuracy: 53.81%\n",
            "Epoch 16/30 - Train loss: 1.1367,Train accuracy: 56.90%, Val loss: 1.1942, Val accuracy: 54.55%\n",
            "Epoch 17/30 - Train loss: 1.1327,Train accuracy: 56.79%, Val loss: 1.2004, Val accuracy: 54.42%\n",
            "Epoch 18/30 - Train loss: 1.1273,Train accuracy: 57.05%, Val loss: 1.1984, Val accuracy: 54.60%\n",
            "Epoch 19/30 - Train loss: 1.1241,Train accuracy: 57.48%, Val loss: 1.1974, Val accuracy: 54.54%\n",
            "Epoch 20/30 - Train loss: 1.1209,Train accuracy: 57.66%, Val loss: 1.1974, Val accuracy: 54.51%\n",
            "Epoch 21/30 - Train loss: 1.1166,Train accuracy: 57.67%, Val loss: 1.1970, Val accuracy: 54.50%\n",
            "Epoch 22/30 - Train loss: 1.1133,Train accuracy: 57.73%, Val loss: 1.2022, Val accuracy: 54.05%\n",
            "Epoch 23/30 - Train loss: 1.1116,Train accuracy: 57.74%, Val loss: 1.1998, Val accuracy: 54.35%\n",
            "Epoch 24/30 - Train loss: 1.1068,Train accuracy: 58.00%, Val loss: 1.1991, Val accuracy: 54.31%\n",
            "Epoch 25/30 - Train loss: 1.1035,Train accuracy: 58.16%, Val loss: 1.2042, Val accuracy: 54.32%\n",
            "Epoch 26/30 - Train loss: 1.1018,Train accuracy: 58.24%, Val loss: 1.1965, Val accuracy: 54.23%\n",
            "Epoch 27/30 - Train loss: 1.0964,Train accuracy: 58.41%, Val loss: 1.1956, Val accuracy: 54.14%\n",
            "Epoch 28/30 - Train loss: 1.0954,Train accuracy: 58.27%, Val loss: 1.2063, Val accuracy: 54.29%\n",
            "Epoch 29/30 - Train loss: 1.0941,Train accuracy: 58.46%, Val loss: 1.1988, Val accuracy: 54.95%\n",
            "Epoch 30/30 - Train loss: 1.0896,Train accuracy: 58.82%, Val loss: 1.1998, Val accuracy: 54.48%\n"
          ]
        }
      ]
    },
    {
      "cell_type": "code",
      "source": [
        "# Plotting the updated loss and accuracy\n",
        "plt.figure(figsize=(12, 5))\n",
        "plt.subplot(1, 2, 1)\n",
        "plt.plot(train_losses, label='Train Loss')\n",
        "plt.plot(val_losses, label='Validation Loss')\n",
        "plt.title('Loss per Epoch')\n",
        "plt.xlabel('Epoch')\n",
        "plt.ylabel('Loss')\n",
        "plt.legend()\n",
        "\n",
        "plt.subplot(1, 2, 2)\n",
        "plt.plot(train_accuracies, label='Train Accuracy')\n",
        "plt.plot(val_accuracies, label='Validation Accuracy')\n",
        "plt.title('Accuracy per Epoch')\n",
        "plt.xlabel('Epoch')\n",
        "plt.ylabel('Accuracy (%)')\n",
        "plt.legend()\n",
        "\n",
        "plt.tight_layout()\n",
        "plt.show()"
      ],
      "metadata": {
        "colab": {
          "base_uri": "https://localhost:8080/",
          "height": 354
        },
        "id": "ylzcbINMGhx8",
        "outputId": "675b8335-e21e-4e34-e1fd-34446644f81b"
      },
      "execution_count": 183,
      "outputs": [
        {
          "output_type": "display_data",
          "data": {
            "text/plain": [
              "<Figure size 1200x500 with 2 Axes>"
            ],
            "image/png": "[encoded data removed]"
          },
          "metadata": {}
        }
      ]
    },
    {
      "cell_type": "markdown",
      "source": [
        "Significant better, let's try with more layers (4-layer network)"
      ],
      "metadata": {
        "id": "np6mViDzpP6Q"
      }
    },
    {
      "cell_type": "code",
      "source": [
        "# Define a fully connected network\n",
        "class NeuralNetwork(nn.Module):\n",
        "  def __init__(self, input_size):\n",
        "    super(NeuralNetwork, self).__init__()\n",
        "    self.fc1 = nn.Linear(input_size, 256)\n",
        "    self.fc2 = nn.Linear(256, 128)\n",
        "    self.fc3 = nn.Linear(128, 64)\n",
        "    self.fc4 = nn.Linear(64, 7)\n",
        "\n",
        "  def forward(self, x):\n",
        "    x = torch.relu(self.fc1(x))\n",
        "    x = torch.relu(self.fc2(x))\n",
        "    x = torch.relu(self.fc3(x))\n",
        "    x = self.fc4(x)\n",
        "    return x\n",
        "\n",
        "# Function to train the model\n",
        "def train(model, train_loader, val_loader, epochs):\n",
        "  criterion = nn.CrossEntropyLoss()\n",
        "  optimizer = optim.Adam(model.parameters(), lr=0.001)\n",
        "\n",
        "  train_losses, val_losses = [], []\n",
        "  train_accuracies, val_accuracies = [], []\n",
        "\n",
        "  for epoch in range(epochs):\n",
        "    # Training phase\n",
        "    model.train()\n",
        "    running_loss = 0.0\n",
        "    correct, total = 0, 0\n",
        "    for data in train_loader:\n",
        "      inputs, labels = data\n",
        "      optimizer.zero_grad()\n",
        "      outputs = model(inputs)\n",
        "      loss = criterion(outputs, labels)\n",
        "      loss.backward()\n",
        "      optimizer.step()\n",
        "\n",
        "      running_loss += loss.item()\n",
        "      _, predicted = torch.max(outputs.data, 1)\n",
        "      total += labels.size(0)\n",
        "      correct += (predicted == labels).sum().item()\n",
        "\n",
        "    train_losses.append(running_loss / len(train_loader))\n",
        "    train_accuracies.append(100 * correct / total)\n",
        "\n",
        "    # Validation phase\n",
        "    model.eval()\n",
        "    val_loss = 0.0\n",
        "    correct, total = 0, 0\n",
        "    with torch.no_grad():\n",
        "      for data in val_loader:\n",
        "        inputs, labels = data\n",
        "        outputs = model(inputs)\n",
        "        loss = criterion(outputs, labels)\n",
        "\n",
        "        val_loss += loss.item()\n",
        "        _, predicted = torch.max(outputs.data, 1)\n",
        "        total += labels.size(0)\n",
        "        correct += (predicted == labels).sum().item()\n",
        "\n",
        "    val_losses.append(val_loss / len(val_loader))\n",
        "    val_accuracies.append(100 * correct / total)\n",
        "\n",
        "    print(f\"Epoch {epoch+1}/{epochs} - \"\n",
        "          f\"Train loss: {train_losses[-1]:.4f},\"\n",
        "          f\"Train accuracy: {train_accuracies[-1]:.2f}%, \"\n",
        "          f\"Val loss: {val_losses[-1]:.4f}, \"\n",
        "          f\"Val accuracy: {val_accuracies[-1]:.2f}%\")\n",
        "\n",
        "  return train_losses, val_losses, train_accuracies, val_accuracies"
      ],
      "metadata": {
        "id": "tyIgxzBTsuaU"
      },
      "execution_count": 184,
      "outputs": []
    },
    {
      "cell_type": "code",
      "source": [
        "model = NeuralNetwork(input_size)\n",
        "epochs = 30\n",
        "train_losses, val_losses, train_accuracies, val_accuracies = train(model, train_loader, val_loader, epochs)"
      ],
      "metadata": {
        "colab": {
          "base_uri": "https://localhost:8080/"
        },
        "outputId": "d2f46e4f-e3cf-4c3c-8021-174c29af7a3e",
        "id": "PIAsxoKPs9Xs"
      },
      "execution_count": 186,
      "outputs": [
        {
          "output_type": "stream",
          "name": "stdout",
          "text": [
            "Epoch 1/30 - Train loss: 1.3796,Train accuracy: 46.83%, Val loss: 1.2791, Val accuracy: 51.08%\n",
            "Epoch 2/30 - Train loss: 1.2676,Train accuracy: 51.48%, Val loss: 1.2615, Val accuracy: 51.46%\n",
            "Epoch 3/30 - Train loss: 1.2297,Train accuracy: 53.02%, Val loss: 1.2512, Val accuracy: 52.78%\n",
            "Epoch 4/30 - Train loss: 1.2047,Train accuracy: 54.13%, Val loss: 1.2286, Val accuracy: 53.45%\n",
            "Epoch 5/30 - Train loss: 1.1887,Train accuracy: 55.06%, Val loss: 1.2142, Val accuracy: 53.68%\n",
            "Epoch 6/30 - Train loss: 1.1720,Train accuracy: 55.25%, Val loss: 1.2113, Val accuracy: 53.59%\n",
            "Epoch 7/30 - Train loss: 1.1586,Train accuracy: 56.01%, Val loss: 1.1946, Val accuracy: 54.43%\n",
            "Epoch 8/30 - Train loss: 1.1463,Train accuracy: 56.18%, Val loss: 1.2021, Val accuracy: 53.87%\n",
            "Epoch 9/30 - Train loss: 1.1339,Train accuracy: 56.79%, Val loss: 1.1947, Val accuracy: 54.34%\n",
            "Epoch 10/30 - Train loss: 1.1256,Train accuracy: 57.30%, Val loss: 1.1963, Val accuracy: 54.18%\n",
            "Epoch 11/30 - Train loss: 1.1152,Train accuracy: 57.48%, Val loss: 1.2046, Val accuracy: 53.98%\n",
            "Epoch 12/30 - Train loss: 1.1042,Train accuracy: 58.03%, Val loss: 1.2023, Val accuracy: 54.28%\n",
            "Epoch 13/30 - Train loss: 1.0942,Train accuracy: 58.63%, Val loss: 1.2021, Val accuracy: 53.67%\n",
            "Epoch 14/30 - Train loss: 1.0849,Train accuracy: 58.61%, Val loss: 1.2072, Val accuracy: 54.28%\n",
            "Epoch 15/30 - Train loss: 1.0746,Train accuracy: 59.17%, Val loss: 1.2012, Val accuracy: 54.26%\n",
            "Epoch 16/30 - Train loss: 1.0630,Train accuracy: 59.61%, Val loss: 1.2132, Val accuracy: 53.40%\n",
            "Epoch 17/30 - Train loss: 1.0540,Train accuracy: 59.80%, Val loss: 1.2086, Val accuracy: 54.12%\n",
            "Epoch 18/30 - Train loss: 1.0488,Train accuracy: 60.02%, Val loss: 1.2140, Val accuracy: 54.56%\n",
            "Epoch 19/30 - Train loss: 1.0357,Train accuracy: 60.51%, Val loss: 1.2183, Val accuracy: 54.37%\n",
            "Epoch 20/30 - Train loss: 1.0272,Train accuracy: 60.83%, Val loss: 1.2180, Val accuracy: 54.22%\n",
            "Epoch 21/30 - Train loss: 1.0169,Train accuracy: 61.45%, Val loss: 1.2281, Val accuracy: 54.01%\n",
            "Epoch 22/30 - Train loss: 1.0086,Train accuracy: 61.44%, Val loss: 1.2330, Val accuracy: 53.81%\n",
            "Epoch 23/30 - Train loss: 0.9985,Train accuracy: 62.10%, Val loss: 1.2171, Val accuracy: 53.94%\n",
            "Epoch 24/30 - Train loss: 0.9877,Train accuracy: 62.58%, Val loss: 1.2413, Val accuracy: 53.16%\n",
            "Epoch 25/30 - Train loss: 0.9809,Train accuracy: 62.62%, Val loss: 1.2452, Val accuracy: 54.00%\n",
            "Epoch 26/30 - Train loss: 0.9722,Train accuracy: 62.88%, Val loss: 1.2625, Val accuracy: 53.67%\n",
            "Epoch 27/30 - Train loss: 0.9608,Train accuracy: 63.37%, Val loss: 1.2785, Val accuracy: 52.98%\n",
            "Epoch 28/30 - Train loss: 0.9520,Train accuracy: 63.90%, Val loss: 1.2711, Val accuracy: 53.83%\n",
            "Epoch 29/30 - Train loss: 0.9404,Train accuracy: 64.35%, Val loss: 1.2839, Val accuracy: 53.26%\n",
            "Epoch 30/30 - Train loss: 0.9338,Train accuracy: 64.50%, Val loss: 1.2950, Val accuracy: 52.20%\n"
          ]
        }
      ]
    },
    {
      "cell_type": "code",
      "source": [
        "plt.figure(figsize=(12, 5))\n",
        "plt.subplot(1, 2, 1)\n",
        "plt.plot(train_losses, label='Train Loss')\n",
        "plt.plot(val_losses, label='Validation Loss')\n",
        "plt.title('Loss per Epoch')\n",
        "plt.xlabel('Epoch')\n",
        "plt.ylabel('Loss')\n",
        "plt.legend()\n",
        "\n",
        "plt.subplot(1, 2, 2)\n",
        "plt.plot(train_accuracies, label='Train Accuracy')\n",
        "plt.plot(val_accuracies, label='Validation Accuracy')\n",
        "plt.title('Accuracy per Epoch')\n",
        "plt.xlabel('Epoch')\n",
        "plt.ylabel('Accuracy (%)')\n",
        "plt.legend()\n",
        "\n",
        "plt.tight_layout()\n",
        "plt.show()"
      ],
      "metadata": {
        "colab": {
          "base_uri": "https://localhost:8080/",
          "height": 354
        },
        "outputId": "c322b1d1-17b9-4204-cac8-988132ac96c6",
        "id": "p65-NYtjtX5X"
      },
      "execution_count": 187,
      "outputs": [
        {
          "output_type": "display_data",
          "data": {
            "text/plain": [
              "<Figure size 1200x500 with 2 Axes>"
            ],
            "image/png": "[encoded data removed]"
          },
          "metadata": {}
        }
      ]
    }
  ],
  "metadata": {
    "colab": {
      "provenance": []
    },
    "kernelspec": {
      "display_name": "Python 3",
      "name": "python3"
    },
    "language_info": {
      "name": "python"
    }
  },
  "nbformat": 4,
  "nbformat_minor": 0
}